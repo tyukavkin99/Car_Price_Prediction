{
 "cells": [
  {
   "cell_type": "code",
   "execution_count": 1,
   "metadata": {},
   "outputs": [],
   "source": [
    "import pandas as pd\n",
    "import numpy as np\n",
    "import matplotlib.pyplot as plt\n",
    "import seaborn as sns"
   ]
  },
  {
   "cell_type": "markdown",
   "metadata": {},
   "source": [
    "# Importing data"
   ]
  },
  {
   "cell_type": "code",
   "execution_count": 2,
   "metadata": {},
   "outputs": [],
   "source": [
    "def import_data(path:str):\n",
    "    df = pd.read_csv(path)\n",
    "    return df\n",
    "\n",
    "def data_info(df:pd.DataFrame):\n",
    "    print(df.head(5))\n",
    "    print(\"-------------\")\n",
    "    print(df.shape)\n",
    "    print(\"-------------\")\n",
    "    print(df.describe().T)\n",
    "    print(\"-------------\")\n",
    "    print(df.info)"
   ]
  },
  {
   "cell_type": "code",
   "execution_count": 3,
   "metadata": {},
   "outputs": [],
   "source": [
    "df = import_data(\"car_price_prediction_.csv\")"
   ]
  },
  {
   "cell_type": "markdown",
   "metadata": {},
   "source": [
    "# Data Summary"
   ]
  },
  {
   "cell_type": "code",
   "execution_count": 4,
   "metadata": {},
   "outputs": [
    {
     "name": "stdout",
     "output_type": "stream",
     "text": [
      "   Car ID  Brand  Year  Engine Size Fuel Type Transmission  Mileage Condition  \\\n",
      "0       1  Tesla  2016          2.3    Petrol       Manual   114832       New   \n",
      "1       2    BMW  2018          4.4  Electric       Manual   143190      Used   \n",
      "2       3   Audi  2013          4.5  Electric       Manual   181601       New   \n",
      "3       4  Tesla  2011          4.1    Diesel    Automatic    68682       New   \n",
      "4       5   Ford  2009          2.6    Diesel       Manual   223009  Like New   \n",
      "\n",
      "      Price     Model  \n",
      "0  26613.92   Model X  \n",
      "1  14679.61  5 Series  \n",
      "2  44402.61        A4  \n",
      "3  86374.33   Model Y  \n",
      "4  73577.10   Mustang  \n",
      "-------------\n",
      "(2500, 10)\n",
      "-------------\n",
      "              count           mean           std      min        25%  \\\n",
      "Car ID       2500.0    1250.500000    721.832160     1.00    625.750   \n",
      "Year         2500.0    2011.626800      6.991700  2000.00   2005.000   \n",
      "Engine Size  2500.0       3.465240      1.432053     1.00      2.200   \n",
      "Mileage      2500.0  149749.844800  87919.952034    15.00  71831.500   \n",
      "Price        2500.0   52638.022532  27295.833455  5011.27  28908.485   \n",
      "\n",
      "                   50%          75%        max  \n",
      "Car ID         1250.50    1875.2500    2500.00  \n",
      "Year           2012.00    2018.0000    2023.00  \n",
      "Engine Size       3.40       4.7000       6.00  \n",
      "Mileage      149085.00  225990.5000  299967.00  \n",
      "Price         53485.24   75838.5325   99982.59  \n",
      "-------------\n",
      "<bound method DataFrame.info of       Car ID   Brand  Year  Engine Size Fuel Type Transmission  Mileage  \\\n",
      "0          1   Tesla  2016          2.3    Petrol       Manual   114832   \n",
      "1          2     BMW  2018          4.4  Electric       Manual   143190   \n",
      "2          3    Audi  2013          4.5  Electric       Manual   181601   \n",
      "3          4   Tesla  2011          4.1    Diesel    Automatic    68682   \n",
      "4          5    Ford  2009          2.6    Diesel       Manual   223009   \n",
      "...      ...     ...   ...          ...       ...          ...      ...   \n",
      "2495    2496    Audi  2020          2.4    Petrol    Automatic    22650   \n",
      "2496    2497    Audi  2001          5.7    Hybrid       Manual    77701   \n",
      "2497    2498    Ford  2021          1.1    Hybrid       Manual   272827   \n",
      "2498    2499    Audi  2002          4.5    Diesel       Manual   229164   \n",
      "2499    2500  Toyota  2005          4.6    Diesel    Automatic    80978   \n",
      "\n",
      "     Condition     Price     Model  \n",
      "0          New  26613.92   Model X  \n",
      "1         Used  14679.61  5 Series  \n",
      "2          New  44402.61        A4  \n",
      "3          New  86374.33   Model Y  \n",
      "4     Like New  73577.10   Mustang  \n",
      "...        ...       ...       ...  \n",
      "2495  Like New  61384.10        Q5  \n",
      "2496  Like New  24710.35        A3  \n",
      "2497  Like New  29902.45    Fiesta  \n",
      "2498  Like New  46085.67        Q5  \n",
      "2499      Used  16594.14      RAV4  \n",
      "\n",
      "[2500 rows x 10 columns]>\n"
     ]
    }
   ],
   "source": [
    "data_info(df)"
   ]
  },
  {
   "cell_type": "code",
   "execution_count": 5,
   "metadata": {},
   "outputs": [
    {
     "data": {
      "text/plain": [
       "Car ID          0\n",
       "Brand           0\n",
       "Year            0\n",
       "Engine Size     0\n",
       "Fuel Type       0\n",
       "Transmission    0\n",
       "Mileage         0\n",
       "Condition       0\n",
       "Price           0\n",
       "Model           0\n",
       "dtype: int64"
      ]
     },
     "execution_count": 5,
     "metadata": {},
     "output_type": "execute_result"
    }
   ],
   "source": [
    "df.isnull().sum()"
   ]
  },
  {
   "cell_type": "markdown",
   "metadata": {},
   "source": [
    "# Exploratory data analysis"
   ]
  },
  {
   "cell_type": "markdown",
   "metadata": {},
   "source": [
    "## Removing Car ID from the dataset"
   ]
  },
  {
   "cell_type": "code",
   "execution_count": 6,
   "metadata": {},
   "outputs": [],
   "source": [
    "df_new = df.drop(columns=\"Car ID\")"
   ]
  },
  {
   "cell_type": "code",
   "execution_count": 7,
   "metadata": {},
   "outputs": [
    {
     "data": {
      "text/html": [
       "<div>\n",
       "<style scoped>\n",
       "    .dataframe tbody tr th:only-of-type {\n",
       "        vertical-align: middle;\n",
       "    }\n",
       "\n",
       "    .dataframe tbody tr th {\n",
       "        vertical-align: top;\n",
       "    }\n",
       "\n",
       "    .dataframe thead th {\n",
       "        text-align: right;\n",
       "    }\n",
       "</style>\n",
       "<table border=\"1\" class=\"dataframe\">\n",
       "  <thead>\n",
       "    <tr style=\"text-align: right;\">\n",
       "      <th></th>\n",
       "      <th>Brand</th>\n",
       "      <th>Year</th>\n",
       "      <th>Engine Size</th>\n",
       "      <th>Fuel Type</th>\n",
       "      <th>Transmission</th>\n",
       "      <th>Mileage</th>\n",
       "      <th>Condition</th>\n",
       "      <th>Price</th>\n",
       "      <th>Model</th>\n",
       "    </tr>\n",
       "  </thead>\n",
       "  <tbody>\n",
       "    <tr>\n",
       "      <th>0</th>\n",
       "      <td>Tesla</td>\n",
       "      <td>2016</td>\n",
       "      <td>2.3</td>\n",
       "      <td>Petrol</td>\n",
       "      <td>Manual</td>\n",
       "      <td>114832</td>\n",
       "      <td>New</td>\n",
       "      <td>26613.92</td>\n",
       "      <td>Model X</td>\n",
       "    </tr>\n",
       "    <tr>\n",
       "      <th>1</th>\n",
       "      <td>BMW</td>\n",
       "      <td>2018</td>\n",
       "      <td>4.4</td>\n",
       "      <td>Electric</td>\n",
       "      <td>Manual</td>\n",
       "      <td>143190</td>\n",
       "      <td>Used</td>\n",
       "      <td>14679.61</td>\n",
       "      <td>5 Series</td>\n",
       "    </tr>\n",
       "    <tr>\n",
       "      <th>2</th>\n",
       "      <td>Audi</td>\n",
       "      <td>2013</td>\n",
       "      <td>4.5</td>\n",
       "      <td>Electric</td>\n",
       "      <td>Manual</td>\n",
       "      <td>181601</td>\n",
       "      <td>New</td>\n",
       "      <td>44402.61</td>\n",
       "      <td>A4</td>\n",
       "    </tr>\n",
       "    <tr>\n",
       "      <th>3</th>\n",
       "      <td>Tesla</td>\n",
       "      <td>2011</td>\n",
       "      <td>4.1</td>\n",
       "      <td>Diesel</td>\n",
       "      <td>Automatic</td>\n",
       "      <td>68682</td>\n",
       "      <td>New</td>\n",
       "      <td>86374.33</td>\n",
       "      <td>Model Y</td>\n",
       "    </tr>\n",
       "    <tr>\n",
       "      <th>4</th>\n",
       "      <td>Ford</td>\n",
       "      <td>2009</td>\n",
       "      <td>2.6</td>\n",
       "      <td>Diesel</td>\n",
       "      <td>Manual</td>\n",
       "      <td>223009</td>\n",
       "      <td>Like New</td>\n",
       "      <td>73577.10</td>\n",
       "      <td>Mustang</td>\n",
       "    </tr>\n",
       "  </tbody>\n",
       "</table>\n",
       "</div>"
      ],
      "text/plain": [
       "   Brand  Year  Engine Size Fuel Type Transmission  Mileage Condition  \\\n",
       "0  Tesla  2016          2.3    Petrol       Manual   114832       New   \n",
       "1    BMW  2018          4.4  Electric       Manual   143190      Used   \n",
       "2   Audi  2013          4.5  Electric       Manual   181601       New   \n",
       "3  Tesla  2011          4.1    Diesel    Automatic    68682       New   \n",
       "4   Ford  2009          2.6    Diesel       Manual   223009  Like New   \n",
       "\n",
       "      Price     Model  \n",
       "0  26613.92   Model X  \n",
       "1  14679.61  5 Series  \n",
       "2  44402.61        A4  \n",
       "3  86374.33   Model Y  \n",
       "4  73577.10   Mustang  "
      ]
     },
     "execution_count": 7,
     "metadata": {},
     "output_type": "execute_result"
    }
   ],
   "source": [
    "df_new.head(5)"
   ]
  },
  {
   "cell_type": "markdown",
   "metadata": {},
   "source": [
    "## Analysis of numeric data"
   ]
  },
  {
   "cell_type": "markdown",
   "metadata": {},
   "source": [
    "### Year vs Price"
   ]
  },
  {
   "cell_type": "code",
   "execution_count": 8,
   "metadata": {},
   "outputs": [
    {
     "data": {
      "image/png": "[encoded data removed]",
      "text/plain": [
       "<Figure size 640x480 with 1 Axes>"
      ]
     },
     "metadata": {},
     "output_type": "display_data"
    }
   ],
   "source": [
    "sns.boxplot(data=df_new, x=\"Year\", y=\"Price\")\n",
    "plt.xticks(rotation=90)\n",
    "plt.show()"
   ]
  },
  {
   "cell_type": "code",
   "execution_count": 10,
   "metadata": {},
   "outputs": [
    {
     "data": {
      "text/plain": [
       "<Axes: xlabel='Year'>"
      ]
     },
     "execution_count": 10,
     "metadata": {},
     "output_type": "execute_result"
    },
    {
     "data": {
      "image/png": "[encoded data removed]",
      "text/plain": [
       "<Figure size 640x480 with 1 Axes>"
      ]
     },
     "metadata": {},
     "output_type": "display_data"
    }
   ],
   "source": [
    "df_new.groupby(\"Year\")[\"Price\"].median().plot()"
   ]
  },
  {
   "cell_type": "markdown",
   "metadata": {},
   "source": [
    "### Engine size vs Price"
   ]
  },
  {
   "cell_type": "code",
   "execution_count": 18,
   "metadata": {},
   "outputs": [
    {
     "data": {
      "image/png": "[encoded data removed]",
      "text/plain": [
       "<Figure size 1170x827 with 1 Axes>"
      ]
     },
     "metadata": {},
     "output_type": "display_data"
    }
   ],
   "source": [
    "figure = sns.boxplot(data=df_new, x=\"Engine Size\", y=\"Price\")\n",
    "#sns.set_theme(rc={'figure.figsize':(11.7,8.27)})\n",
    "#plt.figure(figsize=(10,6))\n",
    "plt.xticks(rotation=90)\n",
    "plt.show()"
   ]
  },
  {
   "cell_type": "markdown",
   "metadata": {},
   "source": [
    "### Mileage vs Price"
   ]
  },
  {
   "cell_type": "code",
   "execution_count": 19,
   "metadata": {},
   "outputs": [
    {
     "data": {
      "image/png": "[encoded data removed]",
      "text/plain": [
       "<Figure size 640x480 with 1 Axes>"
      ]
     },
     "metadata": {},
     "output_type": "display_data"
    }
   ],
   "source": [
    "sns.scatterplot(data=df_new, x=\"Mileage\", y=\"Price\")\n",
    "plt.show()"
   ]
  },
  {
   "cell_type": "code",
   "execution_count": 22,
   "metadata": {},
   "outputs": [
    {
     "data": {
      "image/png": "[encoded data removed]",
      "text/plain": [
       "<Figure size 640x480 with 1 Axes>"
      ]
     },
     "metadata": {},
     "output_type": "display_data"
    }
   ],
   "source": [
    "plt.hist(df_new[\"Price\"])\n",
    "plt.show()"
   ]
  },
  {
   "cell_type": "markdown",
   "metadata": {},
   "source": [
    "## Categorical data"
   ]
  },
  {
   "cell_type": "code",
   "execution_count": 23,
   "metadata": {},
   "outputs": [
    {
     "data": {
      "text/plain": [
       "Brand\n",
       "Toyota      374\n",
       "Audi        368\n",
       "BMW         358\n",
       "Mercedes    353\n",
       "Honda       352\n",
       "Tesla       348\n",
       "Ford        347\n",
       "Name: count, dtype: int64"
      ]
     },
     "execution_count": 23,
     "metadata": {},
     "output_type": "execute_result"
    }
   ],
   "source": [
    "df_new[\"Brand\"].value_counts()"
   ]
  },
  {
   "cell_type": "code",
   "execution_count": 24,
   "metadata": {},
   "outputs": [
    {
     "data": {
      "text/plain": [
       "<Axes: xlabel='Brand', ylabel='Price'>"
      ]
     },
     "execution_count": 24,
     "metadata": {},
     "output_type": "execute_result"
    },
    {
     "data": {
      "image/png": "[encoded data removed]",
      "text/plain": [
       "<Figure size 640x480 with 1 Axes>"
      ]
     },
     "metadata": {},
     "output_type": "display_data"
    }
   ],
   "source": [
    "sns.boxplot(data=df_new, x=\"Brand\", y=\"Price\")"
   ]
  },
  {
   "cell_type": "code",
   "execution_count": 26,
   "metadata": {},
   "outputs": [
    {
     "data": {
      "text/plain": [
       "Brand     Model   \n",
       "Audi      A3           98\n",
       "          A4           96\n",
       "          Q5           79\n",
       "          Q7           95\n",
       "BMW       3 Series     93\n",
       "          5 Series     93\n",
       "          X3           92\n",
       "          X5           80\n",
       "Ford      Explorer     86\n",
       "          Fiesta      103\n",
       "          Focus        81\n",
       "          Mustang      77\n",
       "Honda     Accord       88\n",
       "          CR-V         95\n",
       "          Civic        80\n",
       "          Fit          89\n",
       "Mercedes  C-Class      92\n",
       "          E-Class      89\n",
       "          GLA          92\n",
       "          GLC          80\n",
       "Tesla     Model 3      87\n",
       "          Model S      79\n",
       "          Model X      93\n",
       "          Model Y      89\n",
       "Toyota    Camry        90\n",
       "          Corolla     103\n",
       "          Prius        93\n",
       "          RAV4         88\n",
       "Name: Year, dtype: int64"
      ]
     },
     "execution_count": 26,
     "metadata": {},
     "output_type": "execute_result"
    }
   ],
   "source": [
    "df_new.groupby([\"Brand\",\"Model\"])[\"Year\"].count()"
   ]
  },
  {
   "cell_type": "markdown",
   "metadata": {},
   "source": [
    "### Number of models "
   ]
  },
  {
   "cell_type": "code",
   "execution_count": 49,
   "metadata": {},
   "outputs": [
    {
     "data": {
      "text/plain": [
       "Brand   Model  Condition\n",
       "Audi    A3     Like New     30\n",
       "               New          37\n",
       "               Used         31\n",
       "        A4     Like New     32\n",
       "               New          33\n",
       "                            ..\n",
       "Toyota  Prius  New          34\n",
       "               Used         36\n",
       "        RAV4   Like New     23\n",
       "               New          34\n",
       "               Used         31\n",
       "Name: Price, Length: 84, dtype: int64"
      ]
     },
     "execution_count": 49,
     "metadata": {},
     "output_type": "execute_result"
    }
   ],
   "source": [
    "df_new.groupby([\"Brand\",\"Model\",\"Condition\"])[\"Price\"].count()#.reset_index(name=\"counts\").sort_values(by=\"counts\", ascending=False)"
   ]
  },
  {
   "cell_type": "markdown",
   "metadata": {},
   "source": [
    "### Condition"
   ]
  },
  {
   "cell_type": "code",
   "execution_count": 27,
   "metadata": {},
   "outputs": [
    {
     "data": {
      "text/plain": [
       "<Axes: xlabel='Condition', ylabel='Price'>"
      ]
     },
     "execution_count": 27,
     "metadata": {},
     "output_type": "execute_result"
    },
    {
     "data": {
      "image/png": "[encoded data removed]",
      "text/plain": [
       "<Figure size 640x480 with 1 Axes>"
      ]
     },
     "metadata": {},
     "output_type": "display_data"
    }
   ],
   "source": [
    "sns.boxplot(data=df_new, x=\"Condition\", y=\"Price\")"
   ]
  },
  {
   "cell_type": "code",
   "execution_count": 13,
   "metadata": {},
   "outputs": [],
   "source": [
    "brand_cond_price_med = df_new.groupby([\"Brand\",\"Condition\"])[\"Price\"].median().reset_index()\n",
    "brand_cond_price_avg = df_new.groupby([\"Brand\",\"Condition\"])[\"Price\"].mean().reset_index()"
   ]
  },
  {
   "cell_type": "code",
   "execution_count": 17,
   "metadata": {},
   "outputs": [],
   "source": [
    "brand_cond_model_price_med = df_new.groupby([\"Brand\",\"Model\",\"Condition\"])[\"Price\"].median().reset_index()\n",
    "brand_cond_model_price_avg = df_new.groupby([\"Brand\",\"Model\",\"Condition\"])[\"Price\"].mean().reset_index()"
   ]
  },
  {
   "cell_type": "code",
   "execution_count": 7,
   "metadata": {},
   "outputs": [],
   "source": [
    "import plotly.express as px"
   ]
  },
  {
   "cell_type": "code",
   "execution_count": 14,
   "metadata": {},
   "outputs": [
    {
     "data": {
      "application/vnd.plotly.v1+json": {
       "config": {
        "plotlyServerURL": "https://plot.ly"
       },
       "data": [
        {
         "branchvalues": "total",
         "customdata": [
          [
           46849.57
          ],
          [
           56784.665
          ],
          [
           54961.225
          ],
          [
           56401.45
          ],
          [
           55132.83499999999
          ],
          [
           56797.72
          ],
          [
           55114.42
          ],
          [
           46049.78
          ],
          [
           58779.595
          ],
          [
           58132.97
          ],
          [
           51706.44
          ],
          [
           51393.69
          ],
          [
           49283.41
          ],
          [
           50203.075
          ],
          [
           52992.345
          ],
          [
           56810.935000000005
          ],
          [
           43716.494999999995
          ],
          [
           50719.93000000001
          ],
          [
           54276.244999999995
          ],
          [
           58360.32
          ],
          [
           50250.979999999996
          ],
          [
           48828.365972664345
          ],
          [
           57473.59011312779
          ],
          [
           53002.19257760137
          ],
          [
           53058.65684475805
          ],
          [
           53648.65069335155
          ],
          [
           55100.23445383691
          ],
          [
           51958.528373775116
          ]
         ],
         "domain": {
          "x": [
           0,
           1
          ],
          "y": [
           0,
           1
          ]
         },
         "hovertemplate": "labels=%{label}<br>Price_sum=%{value}<br>parent=%{parent}<br>id=%{id}<br>Price=%{color}<extra></extra>",
         "ids": [
          "Audi/Like New",
          "BMW/Like New",
          "Ford/Like New",
          "Honda/Like New",
          "Mercedes/Like New",
          "Tesla/Like New",
          "Toyota/Like New",
          "Audi/New",
          "BMW/New",
          "Ford/New",
          "Honda/New",
          "Mercedes/New",
          "Tesla/New",
          "Toyota/New",
          "Audi/Used",
          "BMW/Used",
          "Ford/Used",
          "Honda/Used",
          "Mercedes/Used",
          "Tesla/Used",
          "Toyota/Used",
          "Audi",
          "BMW",
          "Ford",
          "Honda",
          "Mercedes",
          "Tesla",
          "Toyota"
         ],
         "labels": [
          "Like New",
          "Like New",
          "Like New",
          "Like New",
          "Like New",
          "Like New",
          "Like New",
          "New",
          "New",
          "New",
          "New",
          "New",
          "New",
          "New",
          "Used",
          "Used",
          "Used",
          "Used",
          "Used",
          "Used",
          "Used",
          "Audi",
          "BMW",
          "Ford",
          "Honda",
          "Mercedes",
          "Tesla",
          "Toyota"
         ],
         "marker": {
          "coloraxis": "coloraxis",
          "colors": [
           46849.57,
           56784.665,
           54961.225,
           56401.45,
           55132.83499999999,
           56797.72,
           55114.42,
           46049.78,
           58779.595,
           58132.97,
           51706.44,
           51393.69,
           49283.41,
           50203.075,
           52992.345,
           56810.935000000005,
           43716.494999999995,
           50719.93000000001,
           54276.244999999995,
           58360.32,
           50250.979999999996,
           48828.365972664345,
           57473.59011312779,
           53002.19257760137,
           53058.65684475805,
           53648.65069335155,
           55100.23445383691,
           51958.528373775116
          ]
         },
         "name": "",
         "parents": [
          "Audi",
          "BMW",
          "Ford",
          "Honda",
          "Mercedes",
          "Tesla",
          "Toyota",
          "Audi",
          "BMW",
          "Ford",
          "Honda",
          "Mercedes",
          "Tesla",
          "Toyota",
          "Audi",
          "BMW",
          "Ford",
          "Honda",
          "Mercedes",
          "Tesla",
          "Toyota",
          "",
          "",
          "",
          "",
          "",
          "",
          ""
         ],
         "type": "treemap",
         "values": [
          46849.57,
          56784.665,
          54961.225,
          56401.45,
          55132.835,
          56797.72,
          55114.42,
          46049.78,
          58779.595,
          58132.97,
          51706.44,
          51393.69,
          49283.41,
          50203.075,
          52992.345,
          56810.935,
          43716.494999999995,
          50719.93,
          54276.244999999995,
          58360.32,
          50250.98,
          145891.695,
          172375.195,
          156810.69,
          158827.82,
          160802.77,
          164441.45,
          155568.475
         ]
        }
       ],
       "layout": {
        "coloraxis": {
         "colorbar": {
          "title": {
           "text": "Price"
          }
         },
         "colorscale": [
          [
           0,
           "#0d0887"
          ],
          [
           0.1111111111111111,
           "#46039f"
          ],
          [
           0.2222222222222222,
           "#7201a8"
          ],
          [
           0.3333333333333333,
           "#9c179e"
          ],
          [
           0.4444444444444444,
           "#bd3786"
          ],
          [
           0.5555555555555556,
           "#d8576b"
          ],
          [
           0.6666666666666666,
           "#ed7953"
          ],
          [
           0.7777777777777778,
           "#fb9f3a"
          ],
          [
           0.8888888888888888,
           "#fdca26"
          ],
          [
           1,
           "#f0f921"
          ]
         ]
        },
        "legend": {
         "tracegroupgap": 0
        },
        "margin": {
         "t": 60
        },
        "template": {
         "data": {
          "bar": [
           {
            "error_x": {
             "color": "#2a3f5f"
            },
            "error_y": {
             "color": "#2a3f5f"
            },
            "marker": {
             "line": {
              "color": "#E5ECF6",
              "width": 0.5
             },
             "pattern": {
              "fillmode": "overlay",
              "size": 10,
              "solidity": 0.2
             }
            },
            "type": "bar"
           }
          ],
          "barpolar": [
           {
            "marker": {
             "line": {
              "color": "#E5ECF6",
              "width": 0.5
             },
             "pattern": {
              "fillmode": "overlay",
              "size": 10,
              "solidity": 0.2
             }
            },
            "type": "barpolar"
           }
          ],
          "carpet": [
           {
            "aaxis": {
             "endlinecolor": "#2a3f5f",
             "gridcolor": "white",
             "linecolor": "white",
             "minorgridcolor": "white",
             "startlinecolor": "#2a3f5f"
            },
            "baxis": {
             "endlinecolor": "#2a3f5f",
             "gridcolor": "white",
             "linecolor": "white",
             "minorgridcolor": "white",
             "startlinecolor": "#2a3f5f"
            },
            "type": "carpet"
           }
          ],
          "choropleth": [
           {
            "colorbar": {
             "outlinewidth": 0,
             "ticks": ""
            },
            "type": "choropleth"
           }
          ],
          "contour": [
           {
            "colorbar": {
             "outlinewidth": 0,
             "ticks": ""
            },
            "colorscale": [
             [
              0,
              "#0d0887"
             ],
             [
              0.1111111111111111,
              "#46039f"
             ],
             [
              0.2222222222222222,
              "#7201a8"
             ],
             [
              0.3333333333333333,
              "#9c179e"
             ],
             [
              0.4444444444444444,
              "#bd3786"
             ],
             [
              0.5555555555555556,
              "#d8576b"
             ],
             [
              0.6666666666666666,
              "#ed7953"
             ],
             [
              0.7777777777777778,
              "#fb9f3a"
             ],
             [
              0.8888888888888888,
              "#fdca26"
             ],
             [
              1,
              "#f0f921"
             ]
            ],
            "type": "contour"
           }
          ],
          "contourcarpet": [
           {
            "colorbar": {
             "outlinewidth": 0,
             "ticks": ""
            },
            "type": "contourcarpet"
           }
          ],
          "heatmap": [
           {
            "colorbar": {
             "outlinewidth": 0,
             "ticks": ""
            },
            "colorscale": [
             [
              0,
              "#0d0887"
             ],
             [
              0.1111111111111111,
              "#46039f"
             ],
             [
              0.2222222222222222,
              "#7201a8"
             ],
             [
              0.3333333333333333,
              "#9c179e"
             ],
             [
              0.4444444444444444,
              "#bd3786"
             ],
             [
              0.5555555555555556,
              "#d8576b"
             ],
             [
              0.6666666666666666,
              "#ed7953"
             ],
             [
              0.7777777777777778,
              "#fb9f3a"
             ],
             [
              0.8888888888888888,
              "#fdca26"
             ],
             [
              1,
              "#f0f921"
             ]
            ],
            "type": "heatmap"
           }
          ],
          "heatmapgl": [
           {
            "colorbar": {
             "outlinewidth": 0,
             "ticks": ""
            },
            "colorscale": [
             [
              0,
              "#0d0887"
             ],
             [
              0.1111111111111111,
              "#46039f"
             ],
             [
              0.2222222222222222,
              "#7201a8"
             ],
             [
              0.3333333333333333,
              "#9c179e"
             ],
             [
              0.4444444444444444,
              "#bd3786"
             ],
             [
              0.5555555555555556,
              "#d8576b"
             ],
             [
              0.6666666666666666,
              "#ed7953"
             ],
             [
              0.7777777777777778,
              "#fb9f3a"
             ],
             [
              0.8888888888888888,
              "#fdca26"
             ],
             [
              1,
              "#f0f921"
             ]
            ],
            "type": "heatmapgl"
           }
          ],
          "histogram": [
           {
            "marker": {
             "pattern": {
              "fillmode": "overlay",
              "size": 10,
              "solidity": 0.2
             }
            },
            "type": "histogram"
           }
          ],
          "histogram2d": [
           {
            "colorbar": {
             "outlinewidth": 0,
             "ticks": ""
            },
            "colorscale": [
             [
              0,
              "#0d0887"
             ],
             [
              0.1111111111111111,
              "#46039f"
             ],
             [
              0.2222222222222222,
              "#7201a8"
             ],
             [
              0.3333333333333333,
              "#9c179e"
             ],
             [
              0.4444444444444444,
              "#bd3786"
             ],
             [
              0.5555555555555556,
              "#d8576b"
             ],
             [
              0.6666666666666666,
              "#ed7953"
             ],
             [
              0.7777777777777778,
              "#fb9f3a"
             ],
             [
              0.8888888888888888,
              "#fdca26"
             ],
             [
              1,
              "#f0f921"
             ]
            ],
            "type": "histogram2d"
           }
          ],
          "histogram2dcontour": [
           {
            "colorbar": {
             "outlinewidth": 0,
             "ticks": ""
            },
            "colorscale": [
             [
              0,
              "#0d0887"
             ],
             [
              0.1111111111111111,
              "#46039f"
             ],
             [
              0.2222222222222222,
              "#7201a8"
             ],
             [
              0.3333333333333333,
              "#9c179e"
             ],
             [
              0.4444444444444444,
              "#bd3786"
             ],
             [
              0.5555555555555556,
              "#d8576b"
             ],
             [
              0.6666666666666666,
              "#ed7953"
             ],
             [
              0.7777777777777778,
              "#fb9f3a"
             ],
             [
              0.8888888888888888,
              "#fdca26"
             ],
             [
              1,
              "#f0f921"
             ]
            ],
            "type": "histogram2dcontour"
           }
          ],
          "mesh3d": [
           {
            "colorbar": {
             "outlinewidth": 0,
             "ticks": ""
            },
            "type": "mesh3d"
           }
          ],
          "parcoords": [
           {
            "line": {
             "colorbar": {
              "outlinewidth": 0,
              "ticks": ""
             }
            },
            "type": "parcoords"
           }
          ],
          "pie": [
           {
            "automargin": true,
            "type": "pie"
           }
          ],
          "scatter": [
           {
            "fillpattern": {
             "fillmode": "overlay",
             "size": 10,
             "solidity": 0.2
            },
            "type": "scatter"
           }
          ],
          "scatter3d": [
           {
            "line": {
             "colorbar": {
              "outlinewidth": 0,
              "ticks": ""
             }
            },
            "marker": {
             "colorbar": {
              "outlinewidth": 0,
              "ticks": ""
             }
            },
            "type": "scatter3d"
           }
          ],
          "scattercarpet": [
           {
            "marker": {
             "colorbar": {
              "outlinewidth": 0,
              "ticks": ""
             }
            },
            "type": "scattercarpet"
           }
          ],
          "scattergeo": [
           {
            "marker": {
             "colorbar": {
              "outlinewidth": 0,
              "ticks": ""
             }
            },
            "type": "scattergeo"
           }
          ],
          "scattergl": [
           {
            "marker": {
             "colorbar": {
              "outlinewidth": 0,
              "ticks": ""
             }
            },
            "type": "scattergl"
           }
          ],
          "scattermapbox": [
           {
            "marker": {
             "colorbar": {
              "outlinewidth": 0,
              "ticks": ""
             }
            },
            "type": "scattermapbox"
           }
          ],
          "scatterpolar": [
           {
            "marker": {
             "colorbar": {
              "outlinewidth": 0,
              "ticks": ""
             }
            },
            "type": "scatterpolar"
           }
          ],
          "scatterpolargl": [
           {
            "marker": {
             "colorbar": {
              "outlinewidth": 0,
              "ticks": ""
             }
            },
            "type": "scatterpolargl"
           }
          ],
          "scatterternary": [
           {
            "marker": {
             "colorbar": {
              "outlinewidth": 0,
              "ticks": ""
             }
            },
            "type": "scatterternary"
           }
          ],
          "surface": [
           {
            "colorbar": {
             "outlinewidth": 0,
             "ticks": ""
            },
            "colorscale": [
             [
              0,
              "#0d0887"
             ],
             [
              0.1111111111111111,
              "#46039f"
             ],
             [
              0.2222222222222222,
              "#7201a8"
             ],
             [
              0.3333333333333333,
              "#9c179e"
             ],
             [
              0.4444444444444444,
              "#bd3786"
             ],
             [
              0.5555555555555556,
              "#d8576b"
             ],
             [
              0.6666666666666666,
              "#ed7953"
             ],
             [
              0.7777777777777778,
              "#fb9f3a"
             ],
             [
              0.8888888888888888,
              "#fdca26"
             ],
             [
              1,
              "#f0f921"
             ]
            ],
            "type": "surface"
           }
          ],
          "table": [
           {
            "cells": {
             "fill": {
              "color": "#EBF0F8"
             },
             "line": {
              "color": "white"
             }
            },
            "header": {
             "fill": {
              "color": "#C8D4E3"
             },
             "line": {
              "color": "white"
             }
            },
            "type": "table"
           }
          ]
         },
         "layout": {
          "annotationdefaults": {
           "arrowcolor": "#2a3f5f",
           "arrowhead": 0,
           "arrowwidth": 1
          },
          "autotypenumbers": "strict",
          "coloraxis": {
           "colorbar": {
            "outlinewidth": 0,
            "ticks": ""
           }
          },
          "colorscale": {
           "diverging": [
            [
             0,
             "#8e0152"
            ],
            [
             0.1,
             "#c51b7d"
            ],
            [
             0.2,
             "#de77ae"
            ],
            [
             0.3,
             "#f1b6da"
            ],
            [
             0.4,
             "#fde0ef"
            ],
            [
             0.5,
             "#f7f7f7"
            ],
            [
             0.6,
             "#e6f5d0"
            ],
            [
             0.7,
             "#b8e186"
            ],
            [
             0.8,
             "#7fbc41"
            ],
            [
             0.9,
             "#4d9221"
            ],
            [
             1,
             "#276419"
            ]
           ],
           "sequential": [
            [
             0,
             "#0d0887"
            ],
            [
             0.1111111111111111,
             "#46039f"
            ],
            [
             0.2222222222222222,
             "#7201a8"
            ],
            [
             0.3333333333333333,
             "#9c179e"
            ],
            [
             0.4444444444444444,
             "#bd3786"
            ],
            [
             0.5555555555555556,
             "#d8576b"
            ],
            [
             0.6666666666666666,
             "#ed7953"
            ],
            [
             0.7777777777777778,
             "#fb9f3a"
            ],
            [
             0.8888888888888888,
             "#fdca26"
            ],
            [
             1,
             "#f0f921"
            ]
           ],
           "sequentialminus": [
            [
             0,
             "#0d0887"
            ],
            [
             0.1111111111111111,
             "#46039f"
            ],
            [
             0.2222222222222222,
             "#7201a8"
            ],
            [
             0.3333333333333333,
             "#9c179e"
            ],
            [
             0.4444444444444444,
             "#bd3786"
            ],
            [
             0.5555555555555556,
             "#d8576b"
            ],
            [
             0.6666666666666666,
             "#ed7953"
            ],
            [
             0.7777777777777778,
             "#fb9f3a"
            ],
            [
             0.8888888888888888,
             "#fdca26"
            ],
            [
             1,
             "#f0f921"
            ]
           ]
          },
          "colorway": [
           "#636efa",
           "#EF553B",
           "#00cc96",
           "#ab63fa",
           "#FFA15A",
           "#19d3f3",
           "#FF6692",
           "#B6E880",
           "#FF97FF",
           "#FECB52"
          ],
          "font": {
           "color": "#2a3f5f"
          },
          "geo": {
           "bgcolor": "white",
           "lakecolor": "white",
           "landcolor": "#E5ECF6",
           "showlakes": true,
           "showland": true,
           "subunitcolor": "white"
          },
          "hoverlabel": {
           "align": "left"
          },
          "hovermode": "closest",
          "mapbox": {
           "style": "light"
          },
          "paper_bgcolor": "white",
          "plot_bgcolor": "#E5ECF6",
          "polar": {
           "angularaxis": {
            "gridcolor": "white",
            "linecolor": "white",
            "ticks": ""
           },
           "bgcolor": "#E5ECF6",
           "radialaxis": {
            "gridcolor": "white",
            "linecolor": "white",
            "ticks": ""
           }
          },
          "scene": {
           "xaxis": {
            "backgroundcolor": "#E5ECF6",
            "gridcolor": "white",
            "gridwidth": 2,
            "linecolor": "white",
            "showbackground": true,
            "ticks": "",
            "zerolinecolor": "white"
           },
           "yaxis": {
            "backgroundcolor": "#E5ECF6",
            "gridcolor": "white",
            "gridwidth": 2,
            "linecolor": "white",
            "showbackground": true,
            "ticks": "",
            "zerolinecolor": "white"
           },
           "zaxis": {
            "backgroundcolor": "#E5ECF6",
            "gridcolor": "white",
            "gridwidth": 2,
            "linecolor": "white",
            "showbackground": true,
            "ticks": "",
            "zerolinecolor": "white"
           }
          },
          "shapedefaults": {
           "line": {
            "color": "#2a3f5f"
           }
          },
          "ternary": {
           "aaxis": {
            "gridcolor": "white",
            "linecolor": "white",
            "ticks": ""
           },
           "baxis": {
            "gridcolor": "white",
            "linecolor": "white",
            "ticks": ""
           },
           "bgcolor": "#E5ECF6",
           "caxis": {
            "gridcolor": "white",
            "linecolor": "white",
            "ticks": ""
           }
          },
          "title": {
           "x": 0.05
          },
          "xaxis": {
           "automargin": true,
           "gridcolor": "white",
           "linecolor": "white",
           "ticks": "",
           "title": {
            "standoff": 15
           },
           "zerolinecolor": "white",
           "zerolinewidth": 2
          },
          "yaxis": {
           "automargin": true,
           "gridcolor": "white",
           "linecolor": "white",
           "ticks": "",
           "title": {
            "standoff": 15
           },
           "zerolinecolor": "white",
           "zerolinewidth": 2
          }
         }
        }
       }
      }
     },
     "metadata": {},
     "output_type": "display_data"
    }
   ],
   "source": [
    "fig = px.treemap(brand_cond_price_med, path=[\"Brand\", \"Condition\"], values=\"Price\", color=\"Price\")\n",
    "fig.show()"
   ]
  },
  {
   "cell_type": "code",
   "execution_count": 15,
   "metadata": {},
   "outputs": [
    {
     "data": {
      "application/vnd.plotly.v1+json": {
       "config": {
        "plotlyServerURL": "https://plot.ly"
       },
       "data": [
        {
         "branchvalues": "total",
         "customdata": [
          [
           51931.67765765765
          ],
          [
           54000.02231884058
          ],
          [
           52967.725403225806
          ],
          [
           52429.64016260163
          ],
          [
           53181.41872727272
          ],
          [
           55098.00479338843
          ],
          [
           54968.75541284404
          ],
          [
           50789.72147286822
          ],
          [
           54920.84653846154
          ],
          [
           53635.52008849558
          ],
          [
           53297.15247706421
          ],
          [
           52781.500347826084
          ],
          [
           49380.04571428572
          ],
          [
           49256.70891666667
          ],
          [
           53145.0784375
          ],
          [
           53659.27439655172
          ],
          [
           47945.88818181818
          ],
          [
           50528.87158333334
          ],
          [
           53567.3921875
          ],
          [
           56170.430555555555
          ],
          [
           52241.68931034484
          ],
          [
           51973.29432316765
          ],
          [
           54198.62073772703
          ],
          [
           51641.55212902896
          ],
          [
           52110.88208365765
          ],
          [
           53178.70638776509
          ],
          [
           53715.39312816336
          ],
          [
           52260.05175346941
          ]
         ],
         "domain": {
          "x": [
           0,
           1
          ],
          "y": [
           0,
           1
          ]
         },
         "hovertemplate": "labels=%{label}<br>Price_sum=%{value}<br>parent=%{parent}<br>id=%{id}<br>Price=%{color}<extra></extra>",
         "ids": [
          "Audi/Like New",
          "BMW/Like New",
          "Ford/Like New",
          "Honda/Like New",
          "Mercedes/Like New",
          "Tesla/Like New",
          "Toyota/Like New",
          "Audi/New",
          "BMW/New",
          "Ford/New",
          "Honda/New",
          "Mercedes/New",
          "Tesla/New",
          "Toyota/New",
          "Audi/Used",
          "BMW/Used",
          "Ford/Used",
          "Honda/Used",
          "Mercedes/Used",
          "Tesla/Used",
          "Toyota/Used",
          "Audi",
          "BMW",
          "Ford",
          "Honda",
          "Mercedes",
          "Tesla",
          "Toyota"
         ],
         "labels": [
          "Like New",
          "Like New",
          "Like New",
          "Like New",
          "Like New",
          "Like New",
          "Like New",
          "New",
          "New",
          "New",
          "New",
          "New",
          "New",
          "New",
          "Used",
          "Used",
          "Used",
          "Used",
          "Used",
          "Used",
          "Used",
          "Audi",
          "BMW",
          "Ford",
          "Honda",
          "Mercedes",
          "Tesla",
          "Toyota"
         ],
         "marker": {
          "coloraxis": "coloraxis",
          "colors": [
           51931.67765765765,
           54000.02231884058,
           52967.725403225806,
           52429.64016260163,
           53181.41872727272,
           55098.00479338843,
           54968.75541284404,
           50789.72147286822,
           54920.84653846154,
           53635.52008849558,
           53297.15247706421,
           52781.500347826084,
           49380.04571428572,
           49256.70891666667,
           53145.0784375,
           53659.27439655172,
           47945.88818181818,
           50528.87158333334,
           53567.3921875,
           56170.430555555555,
           52241.68931034484,
           51973.29432316765,
           54198.62073772703,
           51641.55212902896,
           52110.88208365765,
           53178.70638776509,
           53715.39312816336,
           52260.05175346941
          ]
         },
         "name": "",
         "parents": [
          "Audi",
          "BMW",
          "Ford",
          "Honda",
          "Mercedes",
          "Tesla",
          "Toyota",
          "Audi",
          "BMW",
          "Ford",
          "Honda",
          "Mercedes",
          "Tesla",
          "Toyota",
          "Audi",
          "BMW",
          "Ford",
          "Honda",
          "Mercedes",
          "Tesla",
          "Toyota",
          "",
          "",
          "",
          "",
          "",
          "",
          ""
         ],
         "type": "treemap",
         "values": [
          51931.67765765765,
          54000.02231884058,
          52967.725403225806,
          52429.64016260163,
          53181.41872727272,
          55098.00479338843,
          54968.75541284404,
          50789.72147286822,
          54920.84653846154,
          53635.52008849557,
          53297.15247706422,
          52781.500347826084,
          49380.04571428572,
          49256.70891666667,
          53145.0784375,
          53659.27439655172,
          47945.88818181818,
          50528.87158333333,
          53567.3921875,
          56170.430555555555,
          52241.68931034483,
          155866.47756802588,
          162580.14325385384,
          154549.13367353956,
          156255.66422299918,
          159530.3112625988,
          160648.4810632297,
          156467.15363985553
         ]
        }
       ],
       "layout": {
        "coloraxis": {
         "colorbar": {
          "title": {
           "text": "Price"
          }
         },
         "colorscale": [
          [
           0,
           "#0d0887"
          ],
          [
           0.1111111111111111,
           "#46039f"
          ],
          [
           0.2222222222222222,
           "#7201a8"
          ],
          [
           0.3333333333333333,
           "#9c179e"
          ],
          [
           0.4444444444444444,
           "#bd3786"
          ],
          [
           0.5555555555555556,
           "#d8576b"
          ],
          [
           0.6666666666666666,
           "#ed7953"
          ],
          [
           0.7777777777777778,
           "#fb9f3a"
          ],
          [
           0.8888888888888888,
           "#fdca26"
          ],
          [
           1,
           "#f0f921"
          ]
         ]
        },
        "legend": {
         "tracegroupgap": 0
        },
        "margin": {
         "t": 60
        },
        "template": {
         "data": {
          "bar": [
           {
            "error_x": {
             "color": "#2a3f5f"
            },
            "error_y": {
             "color": "#2a3f5f"
            },
            "marker": {
             "line": {
              "color": "#E5ECF6",
              "width": 0.5
             },
             "pattern": {
              "fillmode": "overlay",
              "size": 10,
              "solidity": 0.2
             }
            },
            "type": "bar"
           }
          ],
          "barpolar": [
           {
            "marker": {
             "line": {
              "color": "#E5ECF6",
              "width": 0.5
             },
             "pattern": {
              "fillmode": "overlay",
              "size": 10,
              "solidity": 0.2
             }
            },
            "type": "barpolar"
           }
          ],
          "carpet": [
           {
            "aaxis": {
             "endlinecolor": "#2a3f5f",
             "gridcolor": "white",
             "linecolor": "white",
             "minorgridcolor": "white",
             "startlinecolor": "#2a3f5f"
            },
            "baxis": {
             "endlinecolor": "#2a3f5f",
             "gridcolor": "white",
             "linecolor": "white",
             "minorgridcolor": "white",
             "startlinecolor": "#2a3f5f"
            },
            "type": "carpet"
           }
          ],
          "choropleth": [
           {
            "colorbar": {
             "outlinewidth": 0,
             "ticks": ""
            },
            "type": "choropleth"
           }
          ],
          "contour": [
           {
            "colorbar": {
             "outlinewidth": 0,
             "ticks": ""
            },
            "colorscale": [
             [
              0,
              "#0d0887"
             ],
             [
              0.1111111111111111,
              "#46039f"
             ],
             [
              0.2222222222222222,
              "#7201a8"
             ],
             [
              0.3333333333333333,
              "#9c179e"
             ],
             [
              0.4444444444444444,
              "#bd3786"
             ],
             [
              0.5555555555555556,
              "#d8576b"
             ],
             [
              0.6666666666666666,
              "#ed7953"
             ],
             [
              0.7777777777777778,
              "#fb9f3a"
             ],
             [
              0.8888888888888888,
              "#fdca26"
             ],
             [
              1,
              "#f0f921"
             ]
            ],
            "type": "contour"
           }
          ],
          "contourcarpet": [
           {
            "colorbar": {
             "outlinewidth": 0,
             "ticks": ""
            },
            "type": "contourcarpet"
           }
          ],
          "heatmap": [
           {
            "colorbar": {
             "outlinewidth": 0,
             "ticks": ""
            },
            "colorscale": [
             [
              0,
              "#0d0887"
             ],
             [
              0.1111111111111111,
              "#46039f"
             ],
             [
              0.2222222222222222,
              "#7201a8"
             ],
             [
              0.3333333333333333,
              "#9c179e"
             ],
             [
              0.4444444444444444,
              "#bd3786"
             ],
             [
              0.5555555555555556,
              "#d8576b"
             ],
             [
              0.6666666666666666,
              "#ed7953"
             ],
             [
              0.7777777777777778,
              "#fb9f3a"
             ],
             [
              0.8888888888888888,
              "#fdca26"
             ],
             [
              1,
              "#f0f921"
             ]
            ],
            "type": "heatmap"
           }
          ],
          "heatmapgl": [
           {
            "colorbar": {
             "outlinewidth": 0,
             "ticks": ""
            },
            "colorscale": [
             [
              0,
              "#0d0887"
             ],
             [
              0.1111111111111111,
              "#46039f"
             ],
             [
              0.2222222222222222,
              "#7201a8"
             ],
             [
              0.3333333333333333,
              "#9c179e"
             ],
             [
              0.4444444444444444,
              "#bd3786"
             ],
             [
              0.5555555555555556,
              "#d8576b"
             ],
             [
              0.6666666666666666,
              "#ed7953"
             ],
             [
              0.7777777777777778,
              "#fb9f3a"
             ],
             [
              0.8888888888888888,
              "#fdca26"
             ],
             [
              1,
              "#f0f921"
             ]
            ],
            "type": "heatmapgl"
           }
          ],
          "histogram": [
           {
            "marker": {
             "pattern": {
              "fillmode": "overlay",
              "size": 10,
              "solidity": 0.2
             }
            },
            "type": "histogram"
           }
          ],
          "histogram2d": [
           {
            "colorbar": {
             "outlinewidth": 0,
             "ticks": ""
            },
            "colorscale": [
             [
              0,
              "#0d0887"
             ],
             [
              0.1111111111111111,
              "#46039f"
             ],
             [
              0.2222222222222222,
              "#7201a8"
             ],
             [
              0.3333333333333333,
              "#9c179e"
             ],
             [
              0.4444444444444444,
              "#bd3786"
             ],
             [
              0.5555555555555556,
              "#d8576b"
             ],
             [
              0.6666666666666666,
              "#ed7953"
             ],
             [
              0.7777777777777778,
              "#fb9f3a"
             ],
             [
              0.8888888888888888,
              "#fdca26"
             ],
             [
              1,
              "#f0f921"
             ]
            ],
            "type": "histogram2d"
           }
          ],
          "histogram2dcontour": [
           {
            "colorbar": {
             "outlinewidth": 0,
             "ticks": ""
            },
            "colorscale": [
             [
              0,
              "#0d0887"
             ],
             [
              0.1111111111111111,
              "#46039f"
             ],
             [
              0.2222222222222222,
              "#7201a8"
             ],
             [
              0.3333333333333333,
              "#9c179e"
             ],
             [
              0.4444444444444444,
              "#bd3786"
             ],
             [
              0.5555555555555556,
              "#d8576b"
             ],
             [
              0.6666666666666666,
              "#ed7953"
             ],
             [
              0.7777777777777778,
              "#fb9f3a"
             ],
             [
              0.8888888888888888,
              "#fdca26"
             ],
             [
              1,
              "#f0f921"
             ]
            ],
            "type": "histogram2dcontour"
           }
          ],
          "mesh3d": [
           {
            "colorbar": {
             "outlinewidth": 0,
             "ticks": ""
            },
            "type": "mesh3d"
           }
          ],
          "parcoords": [
           {
            "line": {
             "colorbar": {
              "outlinewidth": 0,
              "ticks": ""
             }
            },
            "type": "parcoords"
           }
          ],
          "pie": [
           {
            "automargin": true,
            "type": "pie"
           }
          ],
          "scatter": [
           {
            "fillpattern": {
             "fillmode": "overlay",
             "size": 10,
             "solidity": 0.2
            },
            "type": "scatter"
           }
          ],
          "scatter3d": [
           {
            "line": {
             "colorbar": {
              "outlinewidth": 0,
              "ticks": ""
             }
            },
            "marker": {
             "colorbar": {
              "outlinewidth": 0,
              "ticks": ""
             }
            },
            "type": "scatter3d"
           }
          ],
          "scattercarpet": [
           {
            "marker": {
             "colorbar": {
              "outlinewidth": 0,
              "ticks": ""
             }
            },
            "type": "scattercarpet"
           }
          ],
          "scattergeo": [
           {
            "marker": {
             "colorbar": {
              "outlinewidth": 0,
              "ticks": ""
             }
            },
            "type": "scattergeo"
           }
          ],
          "scattergl": [
           {
            "marker": {
             "colorbar": {
              "outlinewidth": 0,
              "ticks": ""
             }
            },
            "type": "scattergl"
           }
          ],
          "scattermapbox": [
           {
            "marker": {
             "colorbar": {
              "outlinewidth": 0,
              "ticks": ""
             }
            },
            "type": "scattermapbox"
           }
          ],
          "scatterpolar": [
           {
            "marker": {
             "colorbar": {
              "outlinewidth": 0,
              "ticks": ""
             }
            },
            "type": "scatterpolar"
           }
          ],
          "scatterpolargl": [
           {
            "marker": {
             "colorbar": {
              "outlinewidth": 0,
              "ticks": ""
             }
            },
            "type": "scatterpolargl"
           }
          ],
          "scatterternary": [
           {
            "marker": {
             "colorbar": {
              "outlinewidth": 0,
              "ticks": ""
             }
            },
            "type": "scatterternary"
           }
          ],
          "surface": [
           {
            "colorbar": {
             "outlinewidth": 0,
             "ticks": ""
            },
            "colorscale": [
             [
              0,
              "#0d0887"
             ],
             [
              0.1111111111111111,
              "#46039f"
             ],
             [
              0.2222222222222222,
              "#7201a8"
             ],
             [
              0.3333333333333333,
              "#9c179e"
             ],
             [
              0.4444444444444444,
              "#bd3786"
             ],
             [
              0.5555555555555556,
              "#d8576b"
             ],
             [
              0.6666666666666666,
              "#ed7953"
             ],
             [
              0.7777777777777778,
              "#fb9f3a"
             ],
             [
              0.8888888888888888,
              "#fdca26"
             ],
             [
              1,
              "#f0f921"
             ]
            ],
            "type": "surface"
           }
          ],
          "table": [
           {
            "cells": {
             "fill": {
              "color": "#EBF0F8"
             },
             "line": {
              "color": "white"
             }
            },
            "header": {
             "fill": {
              "color": "#C8D4E3"
             },
             "line": {
              "color": "white"
             }
            },
            "type": "table"
           }
          ]
         },
         "layout": {
          "annotationdefaults": {
           "arrowcolor": "#2a3f5f",
           "arrowhead": 0,
           "arrowwidth": 1
          },
          "autotypenumbers": "strict",
          "coloraxis": {
           "colorbar": {
            "outlinewidth": 0,
            "ticks": ""
           }
          },
          "colorscale": {
           "diverging": [
            [
             0,
             "#8e0152"
            ],
            [
             0.1,
             "#c51b7d"
            ],
            [
             0.2,
             "#de77ae"
            ],
            [
             0.3,
             "#f1b6da"
            ],
            [
             0.4,
             "#fde0ef"
            ],
            [
             0.5,
             "#f7f7f7"
            ],
            [
             0.6,
             "#e6f5d0"
            ],
            [
             0.7,
             "#b8e186"
            ],
            [
             0.8,
             "#7fbc41"
            ],
            [
             0.9,
             "#4d9221"
            ],
            [
             1,
             "#276419"
            ]
           ],
           "sequential": [
            [
             0,
             "#0d0887"
            ],
            [
             0.1111111111111111,
             "#46039f"
            ],
            [
             0.2222222222222222,
             "#7201a8"
            ],
            [
             0.3333333333333333,
             "#9c179e"
            ],
            [
             0.4444444444444444,
             "#bd3786"
            ],
            [
             0.5555555555555556,
             "#d8576b"
            ],
            [
             0.6666666666666666,
             "#ed7953"
            ],
            [
             0.7777777777777778,
             "#fb9f3a"
            ],
            [
             0.8888888888888888,
             "#fdca26"
            ],
            [
             1,
             "#f0f921"
            ]
           ],
           "sequentialminus": [
            [
             0,
             "#0d0887"
            ],
            [
             0.1111111111111111,
             "#46039f"
            ],
            [
             0.2222222222222222,
             "#7201a8"
            ],
            [
             0.3333333333333333,
             "#9c179e"
            ],
            [
             0.4444444444444444,
             "#bd3786"
            ],
            [
             0.5555555555555556,
             "#d8576b"
            ],
            [
             0.6666666666666666,
             "#ed7953"
            ],
            [
             0.7777777777777778,
             "#fb9f3a"
            ],
            [
             0.8888888888888888,
             "#fdca26"
            ],
            [
             1,
             "#f0f921"
            ]
           ]
          },
          "colorway": [
           "#636efa",
           "#EF553B",
           "#00cc96",
           "#ab63fa",
           "#FFA15A",
           "#19d3f3",
           "#FF6692",
           "#B6E880",
           "#FF97FF",
           "#FECB52"
          ],
          "font": {
           "color": "#2a3f5f"
          },
          "geo": {
           "bgcolor": "white",
           "lakecolor": "white",
           "landcolor": "#E5ECF6",
           "showlakes": true,
           "showland": true,
           "subunitcolor": "white"
          },
          "hoverlabel": {
           "align": "left"
          },
          "hovermode": "closest",
          "mapbox": {
           "style": "light"
          },
          "paper_bgcolor": "white",
          "plot_bgcolor": "#E5ECF6",
          "polar": {
           "angularaxis": {
            "gridcolor": "white",
            "linecolor": "white",
            "ticks": ""
           },
           "bgcolor": "#E5ECF6",
           "radialaxis": {
            "gridcolor": "white",
            "linecolor": "white",
            "ticks": ""
           }
          },
          "scene": {
           "xaxis": {
            "backgroundcolor": "#E5ECF6",
            "gridcolor": "white",
            "gridwidth": 2,
            "linecolor": "white",
            "showbackground": true,
            "ticks": "",
            "zerolinecolor": "white"
           },
           "yaxis": {
            "backgroundcolor": "#E5ECF6",
            "gridcolor": "white",
            "gridwidth": 2,
            "linecolor": "white",
            "showbackground": true,
            "ticks": "",
            "zerolinecolor": "white"
           },
           "zaxis": {
            "backgroundcolor": "#E5ECF6",
            "gridcolor": "white",
            "gridwidth": 2,
            "linecolor": "white",
            "showbackground": true,
            "ticks": "",
            "zerolinecolor": "white"
           }
          },
          "shapedefaults": {
           "line": {
            "color": "#2a3f5f"
           }
          },
          "ternary": {
           "aaxis": {
            "gridcolor": "white",
            "linecolor": "white",
            "ticks": ""
           },
           "baxis": {
            "gridcolor": "white",
            "linecolor": "white",
            "ticks": ""
           },
           "bgcolor": "#E5ECF6",
           "caxis": {
            "gridcolor": "white",
            "linecolor": "white",
            "ticks": ""
           }
          },
          "title": {
           "x": 0.05
          },
          "xaxis": {
           "automargin": true,
           "gridcolor": "white",
           "linecolor": "white",
           "ticks": "",
           "title": {
            "standoff": 15
           },
           "zerolinecolor": "white",
           "zerolinewidth": 2
          },
          "yaxis": {
           "automargin": true,
           "gridcolor": "white",
           "linecolor": "white",
           "ticks": "",
           "title": {
            "standoff": 15
           },
           "zerolinecolor": "white",
           "zerolinewidth": 2
          }
         }
        }
       }
      }
     },
     "metadata": {},
     "output_type": "display_data"
    }
   ],
   "source": [
    "fig = px.treemap(brand_cond_price_avg, path=[\"Brand\", \"Condition\"], values=\"Price\", color=\"Price\")\n",
    "fig.show()"
   ]
  },
  {
   "cell_type": "code",
   "execution_count": 19,
   "metadata": {},
   "outputs": [
    {
     "data": {
      "application/vnd.plotly.v1+json": {
       "config": {
        "plotlyServerURL": "https://plot.ly"
       },
       "data": [
        {
         "branchvalues": "total",
         "customdata": [
          [
           63555.14
          ],
          [
           63811.854999999996
          ],
          [
           56198.64
          ],
          [
           36442.479999999996
          ],
          [
           55434.155
          ],
          [
           69257.71
          ],
          [
           50321.58
          ],
          [
           55114.42
          ],
          [
           59222.42
          ],
          [
           61390.82
          ],
          [
           46108.509999999995
          ],
          [
           59890.45
          ],
          [
           47020.82000000001
          ],
          [
           60940.76
          ],
          [
           63237.125
          ],
          [
           50179.850000000006
          ],
          [
           56755.155
          ],
          [
           49332.78
          ],
          [
           74090.14
          ],
          [
           50970.83
          ],
          [
           51512.715
          ],
          [
           46862.090000000004
          ],
          [
           47044.229999999996
          ],
          [
           49436.03999999999
          ],
          [
           50671.55
          ],
          [
           48326.38
          ],
          [
           43429.33
          ],
          [
           57004.575
          ],
          [
           65645.3
          ],
          [
           58703.76
          ],
          [
           38018.04
          ],
          [
           58403.72000000001
          ],
          [
           46168.78
          ],
          [
           41149.78
          ],
          [
           54210.22
          ],
          [
           58688.87
          ],
          [
           47700.62
          ],
          [
           46011.26
          ],
          [
           45314.56
          ],
          [
           60529.54
          ],
          [
           58805.38
          ],
          [
           62597.655
          ],
          [
           56612.31
          ],
          [
           64119.76
          ],
          [
           46834.12
          ],
          [
           56069.88
          ],
          [
           46995.76999999999
          ],
          [
           47743.83
          ],
          [
           43401.649999999994
          ],
          [
           46812.38999999999
          ],
          [
           45042.04
          ],
          [
           47839.71
          ],
          [
           43191.21
          ],
          [
           53563.87
          ],
          [
           56120.47
          ],
          [
           59245.06
          ],
          [
           68399.37
          ],
          [
           49798.02000000001
          ],
          [
           48799.649999999994
          ],
          [
           61508.19
          ],
          [
           54051.23
          ],
          [
           46174.22
          ],
          [
           47851.494999999995
          ],
          [
           57634.57000000001
          ],
          [
           51851.015
          ],
          [
           53729.8
          ],
          [
           54219.619999999995
          ],
          [
           37721.92
          ],
          [
           46891.93
          ],
          [
           55623
          ],
          [
           52813.31
          ],
          [
           46525.93
          ],
          [
           78308.17
          ],
          [
           67574.525
          ],
          [
           45422.54
          ],
          [
           51452.935
          ],
          [
           61179.02
          ],
          [
           39212.51
          ],
          [
           40906.465
          ],
          [
           59627.420000000006
          ],
          [
           50507.25
          ],
          [
           47415.40000000001
          ],
          [
           46800.59999999999
          ],
          [
           49454.545
          ],
          [
           65926.3541240576
          ],
          [
           58021.6828029832
          ],
          [
           48841.0263598129
          ],
          [
           54506.344820026476
          ],
          [
           52205.71676810141
          ],
          [
           55063.86014752872
          ],
          [
           50929.302584511155
          ],
          [
           57185.305584765236
          ],
          [
           53353.62843489149
          ],
          [
           54444.596780599844
          ],
          [
           48881.07487823864
          ],
          [
           54847.15887332145
          ],
          [
           51518.98683896732
          ],
          [
           59868.69868088854
          ],
          [
           57876.6040986886
          ],
          [
           54680.51362268083
          ],
          [
           63479.461759329955
          ],
          [
           58642.82653645002
          ],
          [
           58622.60073386124
          ],
          [
           50110.03428583927
          ],
          [
           53046.037265154606
          ],
          [
           44587.331515149075
          ],
          [
           44478.24779639824
          ],
          [
           52822.31786408203
          ],
          [
           48376.175240474804
          ],
          [
           49916.04356862114
          ],
          [
           49374.03667929708
          ],
          [
           55552.3145311799
          ],
          [
           51244.054358547226
          ],
          [
           57856.26513153102
          ],
          [
           52659.33267197186
          ],
          [
           54312.09771761303
          ],
          [
           55945.55539022973
          ],
          [
           55300.43434994803
          ],
          [
           51953.44579114461
          ]
         ],
         "domain": {
          "x": [
           0,
           1
          ],
          "y": [
           0,
           1
          ]
         },
         "hovertemplate": "labels=%{label}<br>Price_sum=%{value}<br>parent=%{parent}<br>id=%{id}<br>Price=%{color}<extra></extra>",
         "ids": [
          "BMW/3 Series/Like New",
          "BMW/5 Series/Like New",
          "Audi/A3/Like New",
          "Audi/A4/Like New",
          "Honda/Accord/Like New",
          "Mercedes/C-Class/Like New",
          "Honda/CR-V/Like New",
          "Toyota/Camry/Like New",
          "Honda/Civic/Like New",
          "Toyota/Corolla/Like New",
          "Mercedes/E-Class/Like New",
          "Ford/Explorer/Like New",
          "Ford/Fiesta/Like New",
          "Honda/Fit/Like New",
          "Ford/Focus/Like New",
          "Mercedes/GLA/Like New",
          "Mercedes/GLC/Like New",
          "Tesla/Model 3/Like New",
          "Tesla/Model S/Like New",
          "Tesla/Model X/Like New",
          "Tesla/Model Y/Like New",
          "Ford/Mustang/Like New",
          "Toyota/Prius/Like New",
          "Audi/Q5/Like New",
          "Audi/Q7/Like New",
          "Toyota/RAV4/Like New",
          "BMW/X3/Like New",
          "BMW/X5/Like New",
          "BMW/3 Series/New",
          "BMW/5 Series/New",
          "Audi/A3/New",
          "Audi/A4/New",
          "Honda/Accord/New",
          "Mercedes/C-Class/New",
          "Honda/CR-V/New",
          "Toyota/Camry/New",
          "Honda/Civic/New",
          "Toyota/Corolla/New",
          "Mercedes/E-Class/New",
          "Ford/Explorer/New",
          "Ford/Fiesta/New",
          "Honda/Fit/New",
          "Ford/Focus/New",
          "Mercedes/GLA/New",
          "Mercedes/GLC/New",
          "Tesla/Model 3/New",
          "Tesla/Model S/New",
          "Tesla/Model X/New",
          "Tesla/Model Y/New",
          "Ford/Mustang/New",
          "Toyota/Prius/New",
          "Audi/Q5/New",
          "Audi/Q7/New",
          "Toyota/RAV4/New",
          "BMW/X3/New",
          "BMW/X5/New",
          "BMW/3 Series/Used",
          "BMW/5 Series/Used",
          "Audi/A3/Used",
          "Audi/A4/Used",
          "Honda/Accord/Used",
          "Mercedes/C-Class/Used",
          "Honda/CR-V/Used",
          "Toyota/Camry/Used",
          "Honda/Civic/Used",
          "Toyota/Corolla/Used",
          "Mercedes/E-Class/Used",
          "Ford/Explorer/Used",
          "Ford/Fiesta/Used",
          "Honda/Fit/Used",
          "Ford/Focus/Used",
          "Mercedes/GLA/Used",
          "Mercedes/GLC/Used",
          "Tesla/Model 3/Used",
          "Tesla/Model S/Used",
          "Tesla/Model X/Used",
          "Tesla/Model Y/Used",
          "Ford/Mustang/Used",
          "Toyota/Prius/Used",
          "Audi/Q5/Used",
          "Audi/Q7/Used",
          "Toyota/RAV4/Used",
          "BMW/X3/Used",
          "BMW/X5/Used",
          "BMW/3 Series",
          "BMW/5 Series",
          "Audi/A3",
          "Audi/A4",
          "Honda/Accord",
          "Mercedes/C-Class",
          "Honda/CR-V",
          "Toyota/Camry",
          "Honda/Civic",
          "Toyota/Corolla",
          "Mercedes/E-Class",
          "Ford/Explorer",
          "Ford/Fiesta",
          "Honda/Fit",
          "Ford/Focus",
          "Mercedes/GLA",
          "Mercedes/GLC",
          "Tesla/Model 3",
          "Tesla/Model S",
          "Tesla/Model X",
          "Tesla/Model Y",
          "Ford/Mustang",
          "Toyota/Prius",
          "Audi/Q5",
          "Audi/Q7",
          "Toyota/RAV4",
          "BMW/X3",
          "BMW/X5",
          "Audi",
          "BMW",
          "Ford",
          "Honda",
          "Mercedes",
          "Tesla",
          "Toyota"
         ],
         "labels": [
          "Like New",
          "Like New",
          "Like New",
          "Like New",
          "Like New",
          "Like New",
          "Like New",
          "Like New",
          "Like New",
          "Like New",
          "Like New",
          "Like New",
          "Like New",
          "Like New",
          "Like New",
          "Like New",
          "Like New",
          "Like New",
          "Like New",
          "Like New",
          "Like New",
          "Like New",
          "Like New",
          "Like New",
          "Like New",
          "Like New",
          "Like New",
          "Like New",
          "New",
          "New",
          "New",
          "New",
          "New",
          "New",
          "New",
          "New",
          "New",
          "New",
          "New",
          "New",
          "New",
          "New",
          "New",
          "New",
          "New",
          "New",
          "New",
          "New",
          "New",
          "New",
          "New",
          "New",
          "New",
          "New",
          "New",
          "New",
          "Used",
          "Used",
          "Used",
          "Used",
          "Used",
          "Used",
          "Used",
          "Used",
          "Used",
          "Used",
          "Used",
          "Used",
          "Used",
          "Used",
          "Used",
          "Used",
          "Used",
          "Used",
          "Used",
          "Used",
          "Used",
          "Used",
          "Used",
          "Used",
          "Used",
          "Used",
          "Used",
          "Used",
          "3 Series",
          "5 Series",
          "A3",
          "A4",
          "Accord",
          "C-Class",
          "CR-V",
          "Camry",
          "Civic",
          "Corolla",
          "E-Class",
          "Explorer",
          "Fiesta",
          "Fit",
          "Focus",
          "GLA",
          "GLC",
          "Model 3",
          "Model S",
          "Model X",
          "Model Y",
          "Mustang",
          "Prius",
          "Q5",
          "Q7",
          "RAV4",
          "X3",
          "X5",
          "Audi",
          "BMW",
          "Ford",
          "Honda",
          "Mercedes",
          "Tesla",
          "Toyota"
         ],
         "marker": {
          "coloraxis": "coloraxis",
          "colors": [
           63555.14,
           63811.854999999996,
           56198.64,
           36442.479999999996,
           55434.155,
           69257.71,
           50321.58,
           55114.42,
           59222.42,
           61390.82,
           46108.509999999995,
           59890.45,
           47020.82000000001,
           60940.76,
           63237.125,
           50179.850000000006,
           56755.155,
           49332.78,
           74090.14,
           50970.83,
           51512.715,
           46862.090000000004,
           47044.229999999996,
           49436.03999999999,
           50671.55,
           48326.38,
           43429.33,
           57004.575,
           65645.3,
           58703.76,
           38018.04,
           58403.72000000001,
           46168.78,
           41149.78,
           54210.22,
           58688.87,
           47700.62,
           46011.26,
           45314.56,
           60529.54,
           58805.38,
           62597.655,
           56612.31,
           64119.76,
           46834.12,
           56069.88,
           46995.76999999999,
           47743.83,
           43401.649999999994,
           46812.38999999999,
           45042.04,
           47839.71,
           43191.21,
           53563.87,
           56120.47,
           59245.06,
           68399.37,
           49798.02000000001,
           48799.649999999994,
           61508.19,
           54051.23,
           46174.22,
           47851.494999999995,
           57634.57000000001,
           51851.015,
           53729.8,
           54219.619999999995,
           37721.92,
           46891.93,
           55623,
           52813.31,
           46525.93,
           78308.17,
           67574.525,
           45422.54,
           51452.935,
           61179.02,
           39212.51,
           40906.465,
           59627.420000000006,
           50507.25,
           47415.40000000001,
           46800.59999999999,
           49454.545,
           65926.3541240576,
           58021.6828029832,
           48841.0263598129,
           54506.344820026476,
           52205.71676810141,
           55063.86014752872,
           50929.302584511155,
           57185.305584765236,
           53353.62843489149,
           54444.596780599844,
           48881.07487823864,
           54847.15887332145,
           51518.98683896732,
           59868.69868088854,
           57876.6040986886,
           54680.51362268083,
           63479.461759329955,
           58642.82653645002,
           58622.60073386124,
           50110.03428583927,
           53046.037265154606,
           44587.331515149075,
           44478.24779639824,
           52822.31786408203,
           48376.175240474804,
           49916.04356862114,
           49374.03667929708,
           55552.3145311799,
           51244.054358547226,
           57856.26513153102,
           52659.33267197186,
           54312.09771761303,
           55945.55539022973,
           55300.43434994803,
           51953.44579114461
          ]
         },
         "name": "",
         "parents": [
          "BMW/3 Series",
          "BMW/5 Series",
          "Audi/A3",
          "Audi/A4",
          "Honda/Accord",
          "Mercedes/C-Class",
          "Honda/CR-V",
          "Toyota/Camry",
          "Honda/Civic",
          "Toyota/Corolla",
          "Mercedes/E-Class",
          "Ford/Explorer",
          "Ford/Fiesta",
          "Honda/Fit",
          "Ford/Focus",
          "Mercedes/GLA",
          "Mercedes/GLC",
          "Tesla/Model 3",
          "Tesla/Model S",
          "Tesla/Model X",
          "Tesla/Model Y",
          "Ford/Mustang",
          "Toyota/Prius",
          "Audi/Q5",
          "Audi/Q7",
          "Toyota/RAV4",
          "BMW/X3",
          "BMW/X5",
          "BMW/3 Series",
          "BMW/5 Series",
          "Audi/A3",
          "Audi/A4",
          "Honda/Accord",
          "Mercedes/C-Class",
          "Honda/CR-V",
          "Toyota/Camry",
          "Honda/Civic",
          "Toyota/Corolla",
          "Mercedes/E-Class",
          "Ford/Explorer",
          "Ford/Fiesta",
          "Honda/Fit",
          "Ford/Focus",
          "Mercedes/GLA",
          "Mercedes/GLC",
          "Tesla/Model 3",
          "Tesla/Model S",
          "Tesla/Model X",
          "Tesla/Model Y",
          "Ford/Mustang",
          "Toyota/Prius",
          "Audi/Q5",
          "Audi/Q7",
          "Toyota/RAV4",
          "BMW/X3",
          "BMW/X5",
          "BMW/3 Series",
          "BMW/5 Series",
          "Audi/A3",
          "Audi/A4",
          "Honda/Accord",
          "Mercedes/C-Class",
          "Honda/CR-V",
          "Toyota/Camry",
          "Honda/Civic",
          "Toyota/Corolla",
          "Mercedes/E-Class",
          "Ford/Explorer",
          "Ford/Fiesta",
          "Honda/Fit",
          "Ford/Focus",
          "Mercedes/GLA",
          "Mercedes/GLC",
          "Tesla/Model 3",
          "Tesla/Model S",
          "Tesla/Model X",
          "Tesla/Model Y",
          "Ford/Mustang",
          "Toyota/Prius",
          "Audi/Q5",
          "Audi/Q7",
          "Toyota/RAV4",
          "BMW/X3",
          "BMW/X5",
          "BMW",
          "BMW",
          "Audi",
          "Audi",
          "Honda",
          "Mercedes",
          "Honda",
          "Toyota",
          "Honda",
          "Toyota",
          "Mercedes",
          "Ford",
          "Ford",
          "Honda",
          "Ford",
          "Mercedes",
          "Mercedes",
          "Tesla",
          "Tesla",
          "Tesla",
          "Tesla",
          "Ford",
          "Toyota",
          "Audi",
          "Audi",
          "Toyota",
          "BMW",
          "BMW",
          "",
          "",
          "",
          "",
          "",
          "",
          ""
         ],
         "type": "treemap",
         "values": [
          63555.14,
          63811.854999999996,
          56198.64,
          36442.479999999996,
          55434.155,
          69257.71,
          50321.58,
          55114.42,
          59222.42,
          61390.82,
          46108.509999999995,
          59890.45,
          47020.82,
          60940.76,
          63237.125,
          50179.85,
          56755.155,
          49332.78,
          74090.14,
          50970.83,
          51512.715,
          46862.09,
          47044.23,
          49436.04,
          50671.55,
          48326.38,
          43429.33,
          57004.575,
          65645.3,
          58703.76,
          38018.04,
          58403.72,
          46168.78,
          41149.78,
          54210.22,
          58688.87,
          47700.62,
          46011.26,
          45314.56,
          60529.54,
          58805.380000000005,
          62597.655,
          56612.31,
          64119.76,
          46834.12,
          56069.88,
          46995.77,
          47743.83,
          43401.649999999994,
          46812.39,
          45042.04,
          47839.71,
          43191.21,
          53563.869999999995,
          56120.47,
          59245.06,
          68399.37,
          49798.020000000004,
          48799.65,
          61508.19,
          54051.23,
          46174.22,
          47851.494999999995,
          57634.57000000001,
          51851.015,
          53729.8,
          54219.619999999995,
          37721.92,
          46891.93,
          55623,
          52813.31,
          46525.93,
          78308.17,
          67574.525,
          45422.54,
          51452.935,
          61179.02,
          39212.51,
          40906.465,
          59627.42,
          50507.25,
          47415.4,
          46800.6,
          49454.545,
          197599.81,
          172313.635,
          143016.33000000002,
          156354.39,
          155654.165,
          156581.71000000002,
          152383.29499999998,
          171437.86000000002,
          158774.055,
          161131.88,
          145642.69,
          158141.91,
          152718.13,
          179161.415,
          172662.745,
          160825.54,
          181897.445,
          172977.185,
          166508.45,
          150167.595,
          156093.38499999998,
          132886.99,
          132992.735,
          156903.16999999998,
          144370.01,
          149305.65,
          146350.4,
          165704.18,
          600643.9,
          681968.025,
          616409.775,
          645972.93,
          644947.385,
          645746.615,
          614868.125
         ]
        }
       ],
       "layout": {
        "coloraxis": {
         "colorbar": {
          "title": {
           "text": "Price"
          }
         },
         "colorscale": [
          [
           0,
           "#0d0887"
          ],
          [
           0.1111111111111111,
           "#46039f"
          ],
          [
           0.2222222222222222,
           "#7201a8"
          ],
          [
           0.3333333333333333,
           "#9c179e"
          ],
          [
           0.4444444444444444,
           "#bd3786"
          ],
          [
           0.5555555555555556,
           "#d8576b"
          ],
          [
           0.6666666666666666,
           "#ed7953"
          ],
          [
           0.7777777777777778,
           "#fb9f3a"
          ],
          [
           0.8888888888888888,
           "#fdca26"
          ],
          [
           1,
           "#f0f921"
          ]
         ]
        },
        "legend": {
         "tracegroupgap": 0
        },
        "margin": {
         "t": 60
        },
        "template": {
         "data": {
          "bar": [
           {
            "error_x": {
             "color": "#2a3f5f"
            },
            "error_y": {
             "color": "#2a3f5f"
            },
            "marker": {
             "line": {
              "color": "#E5ECF6",
              "width": 0.5
             },
             "pattern": {
              "fillmode": "overlay",
              "size": 10,
              "solidity": 0.2
             }
            },
            "type": "bar"
           }
          ],
          "barpolar": [
           {
            "marker": {
             "line": {
              "color": "#E5ECF6",
              "width": 0.5
             },
             "pattern": {
              "fillmode": "overlay",
              "size": 10,
              "solidity": 0.2
             }
            },
            "type": "barpolar"
           }
          ],
          "carpet": [
           {
            "aaxis": {
             "endlinecolor": "#2a3f5f",
             "gridcolor": "white",
             "linecolor": "white",
             "minorgridcolor": "white",
             "startlinecolor": "#2a3f5f"
            },
            "baxis": {
             "endlinecolor": "#2a3f5f",
             "gridcolor": "white",
             "linecolor": "white",
             "minorgridcolor": "white",
             "startlinecolor": "#2a3f5f"
            },
            "type": "carpet"
           }
          ],
          "choropleth": [
           {
            "colorbar": {
             "outlinewidth": 0,
             "ticks": ""
            },
            "type": "choropleth"
           }
          ],
          "contour": [
           {
            "colorbar": {
             "outlinewidth": 0,
             "ticks": ""
            },
            "colorscale": [
             [
              0,
              "#0d0887"
             ],
             [
              0.1111111111111111,
              "#46039f"
             ],
             [
              0.2222222222222222,
              "#7201a8"
             ],
             [
              0.3333333333333333,
              "#9c179e"
             ],
             [
              0.4444444444444444,
              "#bd3786"
             ],
             [
              0.5555555555555556,
              "#d8576b"
             ],
             [
              0.6666666666666666,
              "#ed7953"
             ],
             [
              0.7777777777777778,
              "#fb9f3a"
             ],
             [
              0.8888888888888888,
              "#fdca26"
             ],
             [
              1,
              "#f0f921"
             ]
            ],
            "type": "contour"
           }
          ],
          "contourcarpet": [
           {
            "colorbar": {
             "outlinewidth": 0,
             "ticks": ""
            },
            "type": "contourcarpet"
           }
          ],
          "heatmap": [
           {
            "colorbar": {
             "outlinewidth": 0,
             "ticks": ""
            },
            "colorscale": [
             [
              0,
              "#0d0887"
             ],
             [
              0.1111111111111111,
              "#46039f"
             ],
             [
              0.2222222222222222,
              "#7201a8"
             ],
             [
              0.3333333333333333,
              "#9c179e"
             ],
             [
              0.4444444444444444,
              "#bd3786"
             ],
             [
              0.5555555555555556,
              "#d8576b"
             ],
             [
              0.6666666666666666,
              "#ed7953"
             ],
             [
              0.7777777777777778,
              "#fb9f3a"
             ],
             [
              0.8888888888888888,
              "#fdca26"
             ],
             [
              1,
              "#f0f921"
             ]
            ],
            "type": "heatmap"
           }
          ],
          "heatmapgl": [
           {
            "colorbar": {
             "outlinewidth": 0,
             "ticks": ""
            },
            "colorscale": [
             [
              0,
              "#0d0887"
             ],
             [
              0.1111111111111111,
              "#46039f"
             ],
             [
              0.2222222222222222,
              "#7201a8"
             ],
             [
              0.3333333333333333,
              "#9c179e"
             ],
             [
              0.4444444444444444,
              "#bd3786"
             ],
             [
              0.5555555555555556,
              "#d8576b"
             ],
             [
              0.6666666666666666,
              "#ed7953"
             ],
             [
              0.7777777777777778,
              "#fb9f3a"
             ],
             [
              0.8888888888888888,
              "#fdca26"
             ],
             [
              1,
              "#f0f921"
             ]
            ],
            "type": "heatmapgl"
           }
          ],
          "histogram": [
           {
            "marker": {
             "pattern": {
              "fillmode": "overlay",
              "size": 10,
              "solidity": 0.2
             }
            },
            "type": "histogram"
           }
          ],
          "histogram2d": [
           {
            "colorbar": {
             "outlinewidth": 0,
             "ticks": ""
            },
            "colorscale": [
             [
              0,
              "#0d0887"
             ],
             [
              0.1111111111111111,
              "#46039f"
             ],
             [
              0.2222222222222222,
              "#7201a8"
             ],
             [
              0.3333333333333333,
              "#9c179e"
             ],
             [
              0.4444444444444444,
              "#bd3786"
             ],
             [
              0.5555555555555556,
              "#d8576b"
             ],
             [
              0.6666666666666666,
              "#ed7953"
             ],
             [
              0.7777777777777778,
              "#fb9f3a"
             ],
             [
              0.8888888888888888,
              "#fdca26"
             ],
             [
              1,
              "#f0f921"
             ]
            ],
            "type": "histogram2d"
           }
          ],
          "histogram2dcontour": [
           {
            "colorbar": {
             "outlinewidth": 0,
             "ticks": ""
            },
            "colorscale": [
             [
              0,
              "#0d0887"
             ],
             [
              0.1111111111111111,
              "#46039f"
             ],
             [
              0.2222222222222222,
              "#7201a8"
             ],
             [
              0.3333333333333333,
              "#9c179e"
             ],
             [
              0.4444444444444444,
              "#bd3786"
             ],
             [
              0.5555555555555556,
              "#d8576b"
             ],
             [
              0.6666666666666666,
              "#ed7953"
             ],
             [
              0.7777777777777778,
              "#fb9f3a"
             ],
             [
              0.8888888888888888,
              "#fdca26"
             ],
             [
              1,
              "#f0f921"
             ]
            ],
            "type": "histogram2dcontour"
           }
          ],
          "mesh3d": [
           {
            "colorbar": {
             "outlinewidth": 0,
             "ticks": ""
            },
            "type": "mesh3d"
           }
          ],
          "parcoords": [
           {
            "line": {
             "colorbar": {
              "outlinewidth": 0,
              "ticks": ""
             }
            },
            "type": "parcoords"
           }
          ],
          "pie": [
           {
            "automargin": true,
            "type": "pie"
           }
          ],
          "scatter": [
           {
            "fillpattern": {
             "fillmode": "overlay",
             "size": 10,
             "solidity": 0.2
            },
            "type": "scatter"
           }
          ],
          "scatter3d": [
           {
            "line": {
             "colorbar": {
              "outlinewidth": 0,
              "ticks": ""
             }
            },
            "marker": {
             "colorbar": {
              "outlinewidth": 0,
              "ticks": ""
             }
            },
            "type": "scatter3d"
           }
          ],
          "scattercarpet": [
           {
            "marker": {
             "colorbar": {
              "outlinewidth": 0,
              "ticks": ""
             }
            },
            "type": "scattercarpet"
           }
          ],
          "scattergeo": [
           {
            "marker": {
             "colorbar": {
              "outlinewidth": 0,
              "ticks": ""
             }
            },
            "type": "scattergeo"
           }
          ],
          "scattergl": [
           {
            "marker": {
             "colorbar": {
              "outlinewidth": 0,
              "ticks": ""
             }
            },
            "type": "scattergl"
           }
          ],
          "scattermapbox": [
           {
            "marker": {
             "colorbar": {
              "outlinewidth": 0,
              "ticks": ""
             }
            },
            "type": "scattermapbox"
           }
          ],
          "scatterpolar": [
           {
            "marker": {
             "colorbar": {
              "outlinewidth": 0,
              "ticks": ""
             }
            },
            "type": "scatterpolar"
           }
          ],
          "scatterpolargl": [
           {
            "marker": {
             "colorbar": {
              "outlinewidth": 0,
              "ticks": ""
             }
            },
            "type": "scatterpolargl"
           }
          ],
          "scatterternary": [
           {
            "marker": {
             "colorbar": {
              "outlinewidth": 0,
              "ticks": ""
             }
            },
            "type": "scatterternary"
           }
          ],
          "surface": [
           {
            "colorbar": {
             "outlinewidth": 0,
             "ticks": ""
            },
            "colorscale": [
             [
              0,
              "#0d0887"
             ],
             [
              0.1111111111111111,
              "#46039f"
             ],
             [
              0.2222222222222222,
              "#7201a8"
             ],
             [
              0.3333333333333333,
              "#9c179e"
             ],
             [
              0.4444444444444444,
              "#bd3786"
             ],
             [
              0.5555555555555556,
              "#d8576b"
             ],
             [
              0.6666666666666666,
              "#ed7953"
             ],
             [
              0.7777777777777778,
              "#fb9f3a"
             ],
             [
              0.8888888888888888,
              "#fdca26"
             ],
             [
              1,
              "#f0f921"
             ]
            ],
            "type": "surface"
           }
          ],
          "table": [
           {
            "cells": {
             "fill": {
              "color": "#EBF0F8"
             },
             "line": {
              "color": "white"
             }
            },
            "header": {
             "fill": {
              "color": "#C8D4E3"
             },
             "line": {
              "color": "white"
             }
            },
            "type": "table"
           }
          ]
         },
         "layout": {
          "annotationdefaults": {
           "arrowcolor": "#2a3f5f",
           "arrowhead": 0,
           "arrowwidth": 1
          },
          "autotypenumbers": "strict",
          "coloraxis": {
           "colorbar": {
            "outlinewidth": 0,
            "ticks": ""
           }
          },
          "colorscale": {
           "diverging": [
            [
             0,
             "#8e0152"
            ],
            [
             0.1,
             "#c51b7d"
            ],
            [
             0.2,
             "#de77ae"
            ],
            [
             0.3,
             "#f1b6da"
            ],
            [
             0.4,
             "#fde0ef"
            ],
            [
             0.5,
             "#f7f7f7"
            ],
            [
             0.6,
             "#e6f5d0"
            ],
            [
             0.7,
             "#b8e186"
            ],
            [
             0.8,
             "#7fbc41"
            ],
            [
             0.9,
             "#4d9221"
            ],
            [
             1,
             "#276419"
            ]
           ],
           "sequential": [
            [
             0,
             "#0d0887"
            ],
            [
             0.1111111111111111,
             "#46039f"
            ],
            [
             0.2222222222222222,
             "#7201a8"
            ],
            [
             0.3333333333333333,
             "#9c179e"
            ],
            [
             0.4444444444444444,
             "#bd3786"
            ],
            [
             0.5555555555555556,
             "#d8576b"
            ],
            [
             0.6666666666666666,
             "#ed7953"
            ],
            [
             0.7777777777777778,
             "#fb9f3a"
            ],
            [
             0.8888888888888888,
             "#fdca26"
            ],
            [
             1,
             "#f0f921"
            ]
           ],
           "sequentialminus": [
            [
             0,
             "#0d0887"
            ],
            [
             0.1111111111111111,
             "#46039f"
            ],
            [
             0.2222222222222222,
             "#7201a8"
            ],
            [
             0.3333333333333333,
             "#9c179e"
            ],
            [
             0.4444444444444444,
             "#bd3786"
            ],
            [
             0.5555555555555556,
             "#d8576b"
            ],
            [
             0.6666666666666666,
             "#ed7953"
            ],
            [
             0.7777777777777778,
             "#fb9f3a"
            ],
            [
             0.8888888888888888,
             "#fdca26"
            ],
            [
             1,
             "#f0f921"
            ]
           ]
          },
          "colorway": [
           "#636efa",
           "#EF553B",
           "#00cc96",
           "#ab63fa",
           "#FFA15A",
           "#19d3f3",
           "#FF6692",
           "#B6E880",
           "#FF97FF",
           "#FECB52"
          ],
          "font": {
           "color": "#2a3f5f"
          },
          "geo": {
           "bgcolor": "white",
           "lakecolor": "white",
           "landcolor": "#E5ECF6",
           "showlakes": true,
           "showland": true,
           "subunitcolor": "white"
          },
          "hoverlabel": {
           "align": "left"
          },
          "hovermode": "closest",
          "mapbox": {
           "style": "light"
          },
          "paper_bgcolor": "white",
          "plot_bgcolor": "#E5ECF6",
          "polar": {
           "angularaxis": {
            "gridcolor": "white",
            "linecolor": "white",
            "ticks": ""
           },
           "bgcolor": "#E5ECF6",
           "radialaxis": {
            "gridcolor": "white",
            "linecolor": "white",
            "ticks": ""
           }
          },
          "scene": {
           "xaxis": {
            "backgroundcolor": "#E5ECF6",
            "gridcolor": "white",
            "gridwidth": 2,
            "linecolor": "white",
            "showbackground": true,
            "ticks": "",
            "zerolinecolor": "white"
           },
           "yaxis": {
            "backgroundcolor": "#E5ECF6",
            "gridcolor": "white",
            "gridwidth": 2,
            "linecolor": "white",
            "showbackground": true,
            "ticks": "",
            "zerolinecolor": "white"
           },
           "zaxis": {
            "backgroundcolor": "#E5ECF6",
            "gridcolor": "white",
            "gridwidth": 2,
            "linecolor": "white",
            "showbackground": true,
            "ticks": "",
            "zerolinecolor": "white"
           }
          },
          "shapedefaults": {
           "line": {
            "color": "#2a3f5f"
           }
          },
          "ternary": {
           "aaxis": {
            "gridcolor": "white",
            "linecolor": "white",
            "ticks": ""
           },
           "baxis": {
            "gridcolor": "white",
            "linecolor": "white",
            "ticks": ""
           },
           "bgcolor": "#E5ECF6",
           "caxis": {
            "gridcolor": "white",
            "linecolor": "white",
            "ticks": ""
           }
          },
          "title": {
           "x": 0.05
          },
          "xaxis": {
           "automargin": true,
           "gridcolor": "white",
           "linecolor": "white",
           "ticks": "",
           "title": {
            "standoff": 15
           },
           "zerolinecolor": "white",
           "zerolinewidth": 2
          },
          "yaxis": {
           "automargin": true,
           "gridcolor": "white",
           "linecolor": "white",
           "ticks": "",
           "title": {
            "standoff": 15
           },
           "zerolinecolor": "white",
           "zerolinewidth": 2
          }
         }
        }
       }
      }
     },
     "metadata": {},
     "output_type": "display_data"
    }
   ],
   "source": [
    "fig = px.treemap(brand_cond_model_price_med, path=[\"Brand\",\"Model\",\"Condition\"], values=\"Price\", color=\"Price\")\n",
    "fig.show()"
   ]
  },
  {
   "cell_type": "code",
   "execution_count": 18,
   "metadata": {},
   "outputs": [
    {
     "data": {
      "application/vnd.plotly.v1+json": {
       "config": {
        "plotlyServerURL": "https://plot.ly"
       },
       "data": [
        {
         "branchvalues": "total",
         "customdata": [
          [
           53102.01378378378
          ],
          [
           58756.0975
          ],
          [
           56020.07366666666
          ],
          [
           43334.9209375
          ],
          [
           52637.30472222222
          ],
          [
           60446.92896551724
          ],
          [
           51438.966875
          ],
          [
           55771.8004
          ],
          [
           52431.09714285714
          ],
          [
           58155.82815789473
          ],
          [
           47151.578499999996
          ],
          [
           53966.2773076923
          ],
          [
           49869.780000000006
          ],
          [
           53141.25852941177
          ],
          [
           57862.666875
          ],
          [
           47988.305428571424
          ],
          [
           56706.64846153847
          ],
          [
           51359.22242424243
          ],
          [
           63996.56391304348
          ],
          [
           54603.377428571424
          ],
          [
           52965.50200000001
          ],
          [
           50623.70827586207
          ],
          [
           49711.9147826087
          ],
          [
           52312.51238095238
          ],
          [
           57090.49214285715
          ],
          [
           54087.12260869566
          ],
          [
           49562.18935483871
          ],
          [
           53987.68205882353
          ],
          [
           57500.1762962963
          ],
          [
           56417.218518518515
          ],
          [
           45603.47162162162
          ],
          [
           59400.54757575758
          ],
          [
           54274.5064
          ],
          [
           50728.40933333333
          ],
          [
           53960.544137931036
          ],
          [
           57664.8696
          ],
          [
           45993.08074074074
          ],
          [
           44347.62111111111
          ],
          [
           50216.54485714286
          ],
          [
           60514.75137931034
          ],
          [
           52052.970312499994
          ],
          [
           58780.642857142855
          ],
          [
           53337.759629629625
          ],
          [
           57807.675652173915
          ],
          [
           54106.09814814814
          ],
          [
           54934.52035714285
          ],
          [
           47439.293225806454
          ],
          [
           47331.8990625
          ],
          [
           48315.00035714285
          ],
          [
           48002.856799999994
          ],
          [
           46063.71911764706
          ],
          [
           48202.86519999999
          ],
          [
           49978.11529411764
          ],
          [
           50165.620882352945
          ],
          [
           53761.842352941174
          ],
          [
           50505.98375
          ],
          [
           66513.97310344827
          ],
          [
           52275.096999999994
          ],
          [
           51097.541935483874
          ],
          [
           51688.26774193549
          ],
          [
           51651.58962962963
          ],
          [
           48746.18575757575
          ],
          [
           45396.73441176471
          ],
          [
           56014.49250000001
          ],
          [
           51567.878749999996
          ],
          [
           56113.18763157894
          ],
          [
           55009.23617647059
          ],
          [
           42712.67870967742
          ],
          [
           52187.60735294117
          ],
          [
           54637.42888888889
          ],
          [
           55371.53227272727
          ],
          [
           45568.930882352935
          ],
          [
           67716.45888888888
          ],
          [
           60166.936923076915
          ],
          [
           49422.450399999994
          ],
          [
           51507.61269230769
          ],
          [
           62171.19193548387
          ],
          [
           41626.18695652174
          ],
          [
           45608.62472222222
          ],
          [
           58106.575454545455
          ],
          [
           51475.54393939394
          ],
          [
           50330.76225806452
          ],
          [
           49244.76333333333
          ],
          [
           46590.30299999999
          ],
          [
           59566.57241424321
          ],
          [
           55944.79598990985
          ],
          [
           51262.6266072883
          ],
          [
           52310.72400535556
          ],
          [
           52876.606864484536
          ],
          [
           53797.5948611457
          ],
          [
           50522.286616783145
          ],
          [
           56496.24431390371
          ],
          [
           50160.1865542888
          ],
          [
           53572.57497804573
          ],
          [
           50998.316422693984
          ],
          [
           53429.410646268654
          ],
          [
           51392.08783111674
          ],
          [
           55622.25756465494
          ],
          [
           55585.65483882441
          ],
          [
           51010.05367648096
          ],
          [
           60094.55209889301
          ],
          [
           55722.65816807799
          ],
          [
           54635.81876775726
          ],
          [
           51321.1899400516
          ],
          [
           55092.3672420305
          ],
          [
           47056.28549503492
          ],
          [
           47199.64870469944
          ],
          [
           53186.139211534355
          ],
          [
           53025.40555636846
          ],
          [
           51591.48087261961
          ],
          [
           50939.597579499175
          ],
          [
           50542.62608056219
          ],
          [
           52458.24997593669
          ],
          [
           54497.22098946301
          ],
          [
           52056.47493513464
          ],
          [
           52389.076904206886
          ],
          [
           54226.917804873
          ],
          [
           54242.98851946329
          ],
          [
           52431.84390108808
          ]
         ],
         "domain": {
          "x": [
           0,
           1
          ],
          "y": [
           0,
           1
          ]
         },
         "hovertemplate": "labels=%{label}<br>Price_sum=%{value}<br>parent=%{parent}<br>id=%{id}<br>Price=%{color}<extra></extra>",
         "ids": [
          "BMW/3 Series/Like New",
          "BMW/5 Series/Like New",
          "Audi/A3/Like New",
          "Audi/A4/Like New",
          "Honda/Accord/Like New",
          "Mercedes/C-Class/Like New",
          "Honda/CR-V/Like New",
          "Toyota/Camry/Like New",
          "Honda/Civic/Like New",
          "Toyota/Corolla/Like New",
          "Mercedes/E-Class/Like New",
          "Ford/Explorer/Like New",
          "Ford/Fiesta/Like New",
          "Honda/Fit/Like New",
          "Ford/Focus/Like New",
          "Mercedes/GLA/Like New",
          "Mercedes/GLC/Like New",
          "Tesla/Model 3/Like New",
          "Tesla/Model S/Like New",
          "Tesla/Model X/Like New",
          "Tesla/Model Y/Like New",
          "Ford/Mustang/Like New",
          "Toyota/Prius/Like New",
          "Audi/Q5/Like New",
          "Audi/Q7/Like New",
          "Toyota/RAV4/Like New",
          "BMW/X3/Like New",
          "BMW/X5/Like New",
          "BMW/3 Series/New",
          "BMW/5 Series/New",
          "Audi/A3/New",
          "Audi/A4/New",
          "Honda/Accord/New",
          "Mercedes/C-Class/New",
          "Honda/CR-V/New",
          "Toyota/Camry/New",
          "Honda/Civic/New",
          "Toyota/Corolla/New",
          "Mercedes/E-Class/New",
          "Ford/Explorer/New",
          "Ford/Fiesta/New",
          "Honda/Fit/New",
          "Ford/Focus/New",
          "Mercedes/GLA/New",
          "Mercedes/GLC/New",
          "Tesla/Model 3/New",
          "Tesla/Model S/New",
          "Tesla/Model X/New",
          "Tesla/Model Y/New",
          "Ford/Mustang/New",
          "Toyota/Prius/New",
          "Audi/Q5/New",
          "Audi/Q7/New",
          "Toyota/RAV4/New",
          "BMW/X3/New",
          "BMW/X5/New",
          "BMW/3 Series/Used",
          "BMW/5 Series/Used",
          "Audi/A3/Used",
          "Audi/A4/Used",
          "Honda/Accord/Used",
          "Mercedes/C-Class/Used",
          "Honda/CR-V/Used",
          "Toyota/Camry/Used",
          "Honda/Civic/Used",
          "Toyota/Corolla/Used",
          "Mercedes/E-Class/Used",
          "Ford/Explorer/Used",
          "Ford/Fiesta/Used",
          "Honda/Fit/Used",
          "Ford/Focus/Used",
          "Mercedes/GLA/Used",
          "Mercedes/GLC/Used",
          "Tesla/Model 3/Used",
          "Tesla/Model S/Used",
          "Tesla/Model X/Used",
          "Tesla/Model Y/Used",
          "Ford/Mustang/Used",
          "Toyota/Prius/Used",
          "Audi/Q5/Used",
          "Audi/Q7/Used",
          "Toyota/RAV4/Used",
          "BMW/X3/Used",
          "BMW/X5/Used",
          "BMW/3 Series",
          "BMW/5 Series",
          "Audi/A3",
          "Audi/A4",
          "Honda/Accord",
          "Mercedes/C-Class",
          "Honda/CR-V",
          "Toyota/Camry",
          "Honda/Civic",
          "Toyota/Corolla",
          "Mercedes/E-Class",
          "Ford/Explorer",
          "Ford/Fiesta",
          "Honda/Fit",
          "Ford/Focus",
          "Mercedes/GLA",
          "Mercedes/GLC",
          "Tesla/Model 3",
          "Tesla/Model S",
          "Tesla/Model X",
          "Tesla/Model Y",
          "Ford/Mustang",
          "Toyota/Prius",
          "Audi/Q5",
          "Audi/Q7",
          "Toyota/RAV4",
          "BMW/X3",
          "BMW/X5",
          "Audi",
          "BMW",
          "Ford",
          "Honda",
          "Mercedes",
          "Tesla",
          "Toyota"
         ],
         "labels": [
          "Like New",
          "Like New",
          "Like New",
          "Like New",
          "Like New",
          "Like New",
          "Like New",
          "Like New",
          "Like New",
          "Like New",
          "Like New",
          "Like New",
          "Like New",
          "Like New",
          "Like New",
          "Like New",
          "Like New",
          "Like New",
          "Like New",
          "Like New",
          "Like New",
          "Like New",
          "Like New",
          "Like New",
          "Like New",
          "Like New",
          "Like New",
          "Like New",
          "New",
          "New",
          "New",
          "New",
          "New",
          "New",
          "New",
          "New",
          "New",
          "New",
          "New",
          "New",
          "New",
          "New",
          "New",
          "New",
          "New",
          "New",
          "New",
          "New",
          "New",
          "New",
          "New",
          "New",
          "New",
          "New",
          "New",
          "New",
          "Used",
          "Used",
          "Used",
          "Used",
          "Used",
          "Used",
          "Used",
          "Used",
          "Used",
          "Used",
          "Used",
          "Used",
          "Used",
          "Used",
          "Used",
          "Used",
          "Used",
          "Used",
          "Used",
          "Used",
          "Used",
          "Used",
          "Used",
          "Used",
          "Used",
          "Used",
          "Used",
          "Used",
          "3 Series",
          "5 Series",
          "A3",
          "A4",
          "Accord",
          "C-Class",
          "CR-V",
          "Camry",
          "Civic",
          "Corolla",
          "E-Class",
          "Explorer",
          "Fiesta",
          "Fit",
          "Focus",
          "GLA",
          "GLC",
          "Model 3",
          "Model S",
          "Model X",
          "Model Y",
          "Mustang",
          "Prius",
          "Q5",
          "Q7",
          "RAV4",
          "X3",
          "X5",
          "Audi",
          "BMW",
          "Ford",
          "Honda",
          "Mercedes",
          "Tesla",
          "Toyota"
         ],
         "marker": {
          "coloraxis": "coloraxis",
          "colors": [
           53102.01378378378,
           58756.0975,
           56020.07366666666,
           43334.9209375,
           52637.30472222222,
           60446.92896551724,
           51438.966875,
           55771.8004,
           52431.09714285714,
           58155.82815789473,
           47151.578499999996,
           53966.2773076923,
           49869.780000000006,
           53141.25852941177,
           57862.666875,
           47988.305428571424,
           56706.64846153847,
           51359.22242424243,
           63996.56391304348,
           54603.377428571424,
           52965.50200000001,
           50623.70827586207,
           49711.9147826087,
           52312.51238095238,
           57090.49214285715,
           54087.12260869566,
           49562.18935483871,
           53987.68205882353,
           57500.1762962963,
           56417.218518518515,
           45603.47162162162,
           59400.54757575758,
           54274.5064,
           50728.40933333333,
           53960.544137931036,
           57664.8696,
           45993.08074074074,
           44347.62111111111,
           50216.54485714286,
           60514.75137931034,
           52052.970312499994,
           58780.642857142855,
           53337.759629629625,
           57807.675652173915,
           54106.09814814814,
           54934.52035714285,
           47439.293225806454,
           47331.8990625,
           48315.00035714285,
           48002.856799999994,
           46063.71911764706,
           48202.86519999999,
           49978.11529411764,
           50165.620882352945,
           53761.842352941174,
           50505.98375,
           66513.97310344827,
           52275.096999999994,
           51097.541935483874,
           51688.26774193549,
           51651.58962962963,
           48746.18575757575,
           45396.73441176471,
           56014.49250000001,
           51567.878749999996,
           56113.18763157894,
           55009.23617647059,
           42712.67870967742,
           52187.60735294117,
           54637.42888888889,
           55371.53227272727,
           45568.930882352935,
           67716.45888888888,
           60166.936923076915,
           49422.450399999994,
           51507.61269230769,
           62171.19193548387,
           41626.18695652174,
           45608.62472222222,
           58106.575454545455,
           51475.54393939394,
           50330.76225806452,
           49244.76333333333,
           46590.30299999999,
           59566.57241424321,
           55944.79598990985,
           51262.6266072883,
           52310.72400535556,
           52876.606864484536,
           53797.5948611457,
           50522.286616783145,
           56496.24431390371,
           50160.1865542888,
           53572.57497804573,
           50998.316422693984,
           53429.410646268654,
           51392.08783111674,
           55622.25756465494,
           55585.65483882441,
           51010.05367648096,
           60094.55209889301,
           55722.65816807799,
           54635.81876775726,
           51321.1899400516,
           55092.3672420305,
           47056.28549503492,
           47199.64870469944,
           53186.139211534355,
           53025.40555636846,
           51591.48087261961,
           50939.597579499175,
           50542.62608056219,
           52458.24997593669,
           54497.22098946301,
           52056.47493513464,
           52389.076904206886,
           54226.917804873,
           54242.98851946329,
           52431.84390108808
          ]
         },
         "name": "",
         "parents": [
          "BMW/3 Series",
          "BMW/5 Series",
          "Audi/A3",
          "Audi/A4",
          "Honda/Accord",
          "Mercedes/C-Class",
          "Honda/CR-V",
          "Toyota/Camry",
          "Honda/Civic",
          "Toyota/Corolla",
          "Mercedes/E-Class",
          "Ford/Explorer",
          "Ford/Fiesta",
          "Honda/Fit",
          "Ford/Focus",
          "Mercedes/GLA",
          "Mercedes/GLC",
          "Tesla/Model 3",
          "Tesla/Model S",
          "Tesla/Model X",
          "Tesla/Model Y",
          "Ford/Mustang",
          "Toyota/Prius",
          "Audi/Q5",
          "Audi/Q7",
          "Toyota/RAV4",
          "BMW/X3",
          "BMW/X5",
          "BMW/3 Series",
          "BMW/5 Series",
          "Audi/A3",
          "Audi/A4",
          "Honda/Accord",
          "Mercedes/C-Class",
          "Honda/CR-V",
          "Toyota/Camry",
          "Honda/Civic",
          "Toyota/Corolla",
          "Mercedes/E-Class",
          "Ford/Explorer",
          "Ford/Fiesta",
          "Honda/Fit",
          "Ford/Focus",
          "Mercedes/GLA",
          "Mercedes/GLC",
          "Tesla/Model 3",
          "Tesla/Model S",
          "Tesla/Model X",
          "Tesla/Model Y",
          "Ford/Mustang",
          "Toyota/Prius",
          "Audi/Q5",
          "Audi/Q7",
          "Toyota/RAV4",
          "BMW/X3",
          "BMW/X5",
          "BMW/3 Series",
          "BMW/5 Series",
          "Audi/A3",
          "Audi/A4",
          "Honda/Accord",
          "Mercedes/C-Class",
          "Honda/CR-V",
          "Toyota/Camry",
          "Honda/Civic",
          "Toyota/Corolla",
          "Mercedes/E-Class",
          "Ford/Explorer",
          "Ford/Fiesta",
          "Honda/Fit",
          "Ford/Focus",
          "Mercedes/GLA",
          "Mercedes/GLC",
          "Tesla/Model 3",
          "Tesla/Model S",
          "Tesla/Model X",
          "Tesla/Model Y",
          "Ford/Mustang",
          "Toyota/Prius",
          "Audi/Q5",
          "Audi/Q7",
          "Toyota/RAV4",
          "BMW/X3",
          "BMW/X5",
          "BMW",
          "BMW",
          "Audi",
          "Audi",
          "Honda",
          "Mercedes",
          "Honda",
          "Toyota",
          "Honda",
          "Toyota",
          "Mercedes",
          "Ford",
          "Ford",
          "Honda",
          "Ford",
          "Mercedes",
          "Mercedes",
          "Tesla",
          "Tesla",
          "Tesla",
          "Tesla",
          "Ford",
          "Toyota",
          "Audi",
          "Audi",
          "Toyota",
          "BMW",
          "BMW",
          "",
          "",
          "",
          "",
          "",
          "",
          ""
         ],
         "type": "treemap",
         "values": [
          53102.01378378378,
          58756.0975,
          56020.07366666666,
          43334.9209375,
          52637.30472222222,
          60446.92896551724,
          51438.966875,
          55771.8004,
          52431.09714285714,
          58155.82815789473,
          47151.578499999996,
          53966.277307692304,
          49869.780000000006,
          53141.25852941177,
          57862.666875,
          47988.305428571424,
          56706.64846153847,
          51359.22242424243,
          63996.56391304348,
          54603.377428571424,
          52965.502,
          50623.70827586207,
          49711.9147826087,
          52312.51238095238,
          57090.49214285715,
          54087.12260869565,
          49562.189354838716,
          53987.68205882353,
          57500.1762962963,
          56417.218518518515,
          45603.47162162162,
          59400.54757575758,
          54274.5064,
          50728.40933333334,
          53960.544137931036,
          57664.8696,
          45993.08074074074,
          44347.62111111111,
          50216.54485714286,
          60514.75137931034,
          52052.9703125,
          58780.642857142855,
          53337.75962962963,
          57807.675652173915,
          54106.09814814814,
          54934.52035714286,
          47439.293225806454,
          47331.8990625,
          48315.00035714286,
          48002.856799999994,
          46063.71911764706,
          48202.86519999999,
          49978.11529411765,
          50165.620882352945,
          53761.842352941174,
          50505.98375,
          66513.97310344827,
          52275.096999999994,
          51097.541935483874,
          51688.26774193549,
          51651.58962962963,
          48746.18575757575,
          45396.73441176471,
          56014.49250000001,
          51567.878749999996,
          56113.18763157894,
          55009.236176470586,
          42712.67870967742,
          52187.60735294117,
          54637.42888888889,
          55371.53227272727,
          45568.930882352935,
          67716.45888888888,
          60166.936923076915,
          49422.4504,
          51507.61269230769,
          62171.19193548387,
          41626.18695652174,
          45608.62472222222,
          58106.575454545455,
          51475.54393939394,
          50330.76225806452,
          49244.76333333333,
          46590.303,
          177116.16318352835,
          167448.4130185185,
          152721.08722377216,
          154423.73625519307,
          158563.40075185185,
          159921.52405642634,
          150796.24542469575,
          169451.1625,
          149992.05663359788,
          158616.6369005848,
          152377.35953361343,
          157193.70739668008,
          154110.35766544117,
          166559.3302754435,
          166571.9587773569,
          151364.91196309828,
          178529.2054985755,
          166460.6797044622,
          160858.30753884994,
          153442.88918337913,
          163451.69429262672,
          140252.7520323838,
          141384.258622478,
          158621.95303549783,
          158544.15137636874,
          154583.5057491131,
          152568.79504111322,
          151083.96880882353,
          624310.9278908318,
          648217.3400519836,
          618128.775871862,
          625911.033085589,
          642193.0010517135,
          644213.570719318,
          624035.5637721759
         ]
        }
       ],
       "layout": {
        "coloraxis": {
         "colorbar": {
          "title": {
           "text": "Price"
          }
         },
         "colorscale": [
          [
           0,
           "#0d0887"
          ],
          [
           0.1111111111111111,
           "#46039f"
          ],
          [
           0.2222222222222222,
           "#7201a8"
          ],
          [
           0.3333333333333333,
           "#9c179e"
          ],
          [
           0.4444444444444444,
           "#bd3786"
          ],
          [
           0.5555555555555556,
           "#d8576b"
          ],
          [
           0.6666666666666666,
           "#ed7953"
          ],
          [
           0.7777777777777778,
           "#fb9f3a"
          ],
          [
           0.8888888888888888,
           "#fdca26"
          ],
          [
           1,
           "#f0f921"
          ]
         ]
        },
        "legend": {
         "tracegroupgap": 0
        },
        "margin": {
         "t": 60
        },
        "template": {
         "data": {
          "bar": [
           {
            "error_x": {
             "color": "#2a3f5f"
            },
            "error_y": {
             "color": "#2a3f5f"
            },
            "marker": {
             "line": {
              "color": "#E5ECF6",
              "width": 0.5
             },
             "pattern": {
              "fillmode": "overlay",
              "size": 10,
              "solidity": 0.2
             }
            },
            "type": "bar"
           }
          ],
          "barpolar": [
           {
            "marker": {
             "line": {
              "color": "#E5ECF6",
              "width": 0.5
             },
             "pattern": {
              "fillmode": "overlay",
              "size": 10,
              "solidity": 0.2
             }
            },
            "type": "barpolar"
           }
          ],
          "carpet": [
           {
            "aaxis": {
             "endlinecolor": "#2a3f5f",
             "gridcolor": "white",
             "linecolor": "white",
             "minorgridcolor": "white",
             "startlinecolor": "#2a3f5f"
            },
            "baxis": {
             "endlinecolor": "#2a3f5f",
             "gridcolor": "white",
             "linecolor": "white",
             "minorgridcolor": "white",
             "startlinecolor": "#2a3f5f"
            },
            "type": "carpet"
           }
          ],
          "choropleth": [
           {
            "colorbar": {
             "outlinewidth": 0,
             "ticks": ""
            },
            "type": "choropleth"
           }
          ],
          "contour": [
           {
            "colorbar": {
             "outlinewidth": 0,
             "ticks": ""
            },
            "colorscale": [
             [
              0,
              "#0d0887"
             ],
             [
              0.1111111111111111,
              "#46039f"
             ],
             [
              0.2222222222222222,
              "#7201a8"
             ],
             [
              0.3333333333333333,
              "#9c179e"
             ],
             [
              0.4444444444444444,
              "#bd3786"
             ],
             [
              0.5555555555555556,
              "#d8576b"
             ],
             [
              0.6666666666666666,
              "#ed7953"
             ],
             [
              0.7777777777777778,
              "#fb9f3a"
             ],
             [
              0.8888888888888888,
              "#fdca26"
             ],
             [
              1,
              "#f0f921"
             ]
            ],
            "type": "contour"
           }
          ],
          "contourcarpet": [
           {
            "colorbar": {
             "outlinewidth": 0,
             "ticks": ""
            },
            "type": "contourcarpet"
           }
          ],
          "heatmap": [
           {
            "colorbar": {
             "outlinewidth": 0,
             "ticks": ""
            },
            "colorscale": [
             [
              0,
              "#0d0887"
             ],
             [
              0.1111111111111111,
              "#46039f"
             ],
             [
              0.2222222222222222,
              "#7201a8"
             ],
             [
              0.3333333333333333,
              "#9c179e"
             ],
             [
              0.4444444444444444,
              "#bd3786"
             ],
             [
              0.5555555555555556,
              "#d8576b"
             ],
             [
              0.6666666666666666,
              "#ed7953"
             ],
             [
              0.7777777777777778,
              "#fb9f3a"
             ],
             [
              0.8888888888888888,
              "#fdca26"
             ],
             [
              1,
              "#f0f921"
             ]
            ],
            "type": "heatmap"
           }
          ],
          "heatmapgl": [
           {
            "colorbar": {
             "outlinewidth": 0,
             "ticks": ""
            },
            "colorscale": [
             [
              0,
              "#0d0887"
             ],
             [
              0.1111111111111111,
              "#46039f"
             ],
             [
              0.2222222222222222,
              "#7201a8"
             ],
             [
              0.3333333333333333,
              "#9c179e"
             ],
             [
              0.4444444444444444,
              "#bd3786"
             ],
             [
              0.5555555555555556,
              "#d8576b"
             ],
             [
              0.6666666666666666,
              "#ed7953"
             ],
             [
              0.7777777777777778,
              "#fb9f3a"
             ],
             [
              0.8888888888888888,
              "#fdca26"
             ],
             [
              1,
              "#f0f921"
             ]
            ],
            "type": "heatmapgl"
           }
          ],
          "histogram": [
           {
            "marker": {
             "pattern": {
              "fillmode": "overlay",
              "size": 10,
              "solidity": 0.2
             }
            },
            "type": "histogram"
           }
          ],
          "histogram2d": [
           {
            "colorbar": {
             "outlinewidth": 0,
             "ticks": ""
            },
            "colorscale": [
             [
              0,
              "#0d0887"
             ],
             [
              0.1111111111111111,
              "#46039f"
             ],
             [
              0.2222222222222222,
              "#7201a8"
             ],
             [
              0.3333333333333333,
              "#9c179e"
             ],
             [
              0.4444444444444444,
              "#bd3786"
             ],
             [
              0.5555555555555556,
              "#d8576b"
             ],
             [
              0.6666666666666666,
              "#ed7953"
             ],
             [
              0.7777777777777778,
              "#fb9f3a"
             ],
             [
              0.8888888888888888,
              "#fdca26"
             ],
             [
              1,
              "#f0f921"
             ]
            ],
            "type": "histogram2d"
           }
          ],
          "histogram2dcontour": [
           {
            "colorbar": {
             "outlinewidth": 0,
             "ticks": ""
            },
            "colorscale": [
             [
              0,
              "#0d0887"
             ],
             [
              0.1111111111111111,
              "#46039f"
             ],
             [
              0.2222222222222222,
              "#7201a8"
             ],
             [
              0.3333333333333333,
              "#9c179e"
             ],
             [
              0.4444444444444444,
              "#bd3786"
             ],
             [
              0.5555555555555556,
              "#d8576b"
             ],
             [
              0.6666666666666666,
              "#ed7953"
             ],
             [
              0.7777777777777778,
              "#fb9f3a"
             ],
             [
              0.8888888888888888,
              "#fdca26"
             ],
             [
              1,
              "#f0f921"
             ]
            ],
            "type": "histogram2dcontour"
           }
          ],
          "mesh3d": [
           {
            "colorbar": {
             "outlinewidth": 0,
             "ticks": ""
            },
            "type": "mesh3d"
           }
          ],
          "parcoords": [
           {
            "line": {
             "colorbar": {
              "outlinewidth": 0,
              "ticks": ""
             }
            },
            "type": "parcoords"
           }
          ],
          "pie": [
           {
            "automargin": true,
            "type": "pie"
           }
          ],
          "scatter": [
           {
            "fillpattern": {
             "fillmode": "overlay",
             "size": 10,
             "solidity": 0.2
            },
            "type": "scatter"
           }
          ],
          "scatter3d": [
           {
            "line": {
             "colorbar": {
              "outlinewidth": 0,
              "ticks": ""
             }
            },
            "marker": {
             "colorbar": {
              "outlinewidth": 0,
              "ticks": ""
             }
            },
            "type": "scatter3d"
           }
          ],
          "scattercarpet": [
           {
            "marker": {
             "colorbar": {
              "outlinewidth": 0,
              "ticks": ""
             }
            },
            "type": "scattercarpet"
           }
          ],
          "scattergeo": [
           {
            "marker": {
             "colorbar": {
              "outlinewidth": 0,
              "ticks": ""
             }
            },
            "type": "scattergeo"
           }
          ],
          "scattergl": [
           {
            "marker": {
             "colorbar": {
              "outlinewidth": 0,
              "ticks": ""
             }
            },
            "type": "scattergl"
           }
          ],
          "scattermapbox": [
           {
            "marker": {
             "colorbar": {
              "outlinewidth": 0,
              "ticks": ""
             }
            },
            "type": "scattermapbox"
           }
          ],
          "scatterpolar": [
           {
            "marker": {
             "colorbar": {
              "outlinewidth": 0,
              "ticks": ""
             }
            },
            "type": "scatterpolar"
           }
          ],
          "scatterpolargl": [
           {
            "marker": {
             "colorbar": {
              "outlinewidth": 0,
              "ticks": ""
             }
            },
            "type": "scatterpolargl"
           }
          ],
          "scatterternary": [
           {
            "marker": {
             "colorbar": {
              "outlinewidth": 0,
              "ticks": ""
             }
            },
            "type": "scatterternary"
           }
          ],
          "surface": [
           {
            "colorbar": {
             "outlinewidth": 0,
             "ticks": ""
            },
            "colorscale": [
             [
              0,
              "#0d0887"
             ],
             [
              0.1111111111111111,
              "#46039f"
             ],
             [
              0.2222222222222222,
              "#7201a8"
             ],
             [
              0.3333333333333333,
              "#9c179e"
             ],
             [
              0.4444444444444444,
              "#bd3786"
             ],
             [
              0.5555555555555556,
              "#d8576b"
             ],
             [
              0.6666666666666666,
              "#ed7953"
             ],
             [
              0.7777777777777778,
              "#fb9f3a"
             ],
             [
              0.8888888888888888,
              "#fdca26"
             ],
             [
              1,
              "#f0f921"
             ]
            ],
            "type": "surface"
           }
          ],
          "table": [
           {
            "cells": {
             "fill": {
              "color": "#EBF0F8"
             },
             "line": {
              "color": "white"
             }
            },
            "header": {
             "fill": {
              "color": "#C8D4E3"
             },
             "line": {
              "color": "white"
             }
            },
            "type": "table"
           }
          ]
         },
         "layout": {
          "annotationdefaults": {
           "arrowcolor": "#2a3f5f",
           "arrowhead": 0,
           "arrowwidth": 1
          },
          "autotypenumbers": "strict",
          "coloraxis": {
           "colorbar": {
            "outlinewidth": 0,
            "ticks": ""
           }
          },
          "colorscale": {
           "diverging": [
            [
             0,
             "#8e0152"
            ],
            [
             0.1,
             "#c51b7d"
            ],
            [
             0.2,
             "#de77ae"
            ],
            [
             0.3,
             "#f1b6da"
            ],
            [
             0.4,
             "#fde0ef"
            ],
            [
             0.5,
             "#f7f7f7"
            ],
            [
             0.6,
             "#e6f5d0"
            ],
            [
             0.7,
             "#b8e186"
            ],
            [
             0.8,
             "#7fbc41"
            ],
            [
             0.9,
             "#4d9221"
            ],
            [
             1,
             "#276419"
            ]
           ],
           "sequential": [
            [
             0,
             "#0d0887"
            ],
            [
             0.1111111111111111,
             "#46039f"
            ],
            [
             0.2222222222222222,
             "#7201a8"
            ],
            [
             0.3333333333333333,
             "#9c179e"
            ],
            [
             0.4444444444444444,
             "#bd3786"
            ],
            [
             0.5555555555555556,
             "#d8576b"
            ],
            [
             0.6666666666666666,
             "#ed7953"
            ],
            [
             0.7777777777777778,
             "#fb9f3a"
            ],
            [
             0.8888888888888888,
             "#fdca26"
            ],
            [
             1,
             "#f0f921"
            ]
           ],
           "sequentialminus": [
            [
             0,
             "#0d0887"
            ],
            [
             0.1111111111111111,
             "#46039f"
            ],
            [
             0.2222222222222222,
             "#7201a8"
            ],
            [
             0.3333333333333333,
             "#9c179e"
            ],
            [
             0.4444444444444444,
             "#bd3786"
            ],
            [
             0.5555555555555556,
             "#d8576b"
            ],
            [
             0.6666666666666666,
             "#ed7953"
            ],
            [
             0.7777777777777778,
             "#fb9f3a"
            ],
            [
             0.8888888888888888,
             "#fdca26"
            ],
            [
             1,
             "#f0f921"
            ]
           ]
          },
          "colorway": [
           "#636efa",
           "#EF553B",
           "#00cc96",
           "#ab63fa",
           "#FFA15A",
           "#19d3f3",
           "#FF6692",
           "#B6E880",
           "#FF97FF",
           "#FECB52"
          ],
          "font": {
           "color": "#2a3f5f"
          },
          "geo": {
           "bgcolor": "white",
           "lakecolor": "white",
           "landcolor": "#E5ECF6",
           "showlakes": true,
           "showland": true,
           "subunitcolor": "white"
          },
          "hoverlabel": {
           "align": "left"
          },
          "hovermode": "closest",
          "mapbox": {
           "style": "light"
          },
          "paper_bgcolor": "white",
          "plot_bgcolor": "#E5ECF6",
          "polar": {
           "angularaxis": {
            "gridcolor": "white",
            "linecolor": "white",
            "ticks": ""
           },
           "bgcolor": "#E5ECF6",
           "radialaxis": {
            "gridcolor": "white",
            "linecolor": "white",
            "ticks": ""
           }
          },
          "scene": {
           "xaxis": {
            "backgroundcolor": "#E5ECF6",
            "gridcolor": "white",
            "gridwidth": 2,
            "linecolor": "white",
            "showbackground": true,
            "ticks": "",
            "zerolinecolor": "white"
           },
           "yaxis": {
            "backgroundcolor": "#E5ECF6",
            "gridcolor": "white",
            "gridwidth": 2,
            "linecolor": "white",
            "showbackground": true,
            "ticks": "",
            "zerolinecolor": "white"
           },
           "zaxis": {
            "backgroundcolor": "#E5ECF6",
            "gridcolor": "white",
            "gridwidth": 2,
            "linecolor": "white",
            "showbackground": true,
            "ticks": "",
            "zerolinecolor": "white"
           }
          },
          "shapedefaults": {
           "line": {
            "color": "#2a3f5f"
           }
          },
          "ternary": {
           "aaxis": {
            "gridcolor": "white",
            "linecolor": "white",
            "ticks": ""
           },
           "baxis": {
            "gridcolor": "white",
            "linecolor": "white",
            "ticks": ""
           },
           "bgcolor": "#E5ECF6",
           "caxis": {
            "gridcolor": "white",
            "linecolor": "white",
            "ticks": ""
           }
          },
          "title": {
           "x": 0.05
          },
          "xaxis": {
           "automargin": true,
           "gridcolor": "white",
           "linecolor": "white",
           "ticks": "",
           "title": {
            "standoff": 15
           },
           "zerolinecolor": "white",
           "zerolinewidth": 2
          },
          "yaxis": {
           "automargin": true,
           "gridcolor": "white",
           "linecolor": "white",
           "ticks": "",
           "title": {
            "standoff": 15
           },
           "zerolinecolor": "white",
           "zerolinewidth": 2
          }
         }
        }
       }
      }
     },
     "metadata": {},
     "output_type": "display_data"
    }
   ],
   "source": [
    "fig = px.treemap(brand_cond_model_price_avg, path=[\"Brand\",\"Model\",\"Condition\"], values=\"Price\", color=\"Price\")\n",
    "fig.show()"
   ]
  },
  {
   "cell_type": "markdown",
   "metadata": {},
   "source": [
    "### Fuel Type"
   ]
  },
  {
   "cell_type": "code",
   "execution_count": 29,
   "metadata": {},
   "outputs": [
    {
     "data": {
      "image/png": "[encoded data removed]",
      "text/plain": [
       "<Figure size 640x480 with 1 Axes>"
      ]
     },
     "metadata": {},
     "output_type": "display_data"
    }
   ],
   "source": [
    "sns.boxplot(data=df_new, x=\"Fuel Type\", y=\"Price\")\n",
    "plt.show()"
   ]
  },
  {
   "cell_type": "code",
   "execution_count": 33,
   "metadata": {},
   "outputs": [
    {
     "data": {
      "text/plain": [
       "<seaborn.axisgrid.FacetGrid at 0x13ce74140>"
      ]
     },
     "execution_count": 33,
     "metadata": {},
     "output_type": "execute_result"
    },
    {
     "data": {
      "image/png": "[encoded data removed]",
      "text/plain": [
       "<Figure size 601.5x500 with 1 Axes>"
      ]
     },
     "metadata": {},
     "output_type": "display_data"
    }
   ],
   "source": [
    "sns.displot(data=df_new, x=\"Price\", hue=\"Fuel Type\", kde=True)\n",
    "#sns.kdeplot(data=df_new, x=\"Price\", hue=\"Fuel Type\")"
   ]
  },
  {
   "cell_type": "markdown",
   "metadata": {},
   "source": [
    "# Data Preprocessing"
   ]
  },
  {
   "cell_type": "code",
   "execution_count": 44,
   "metadata": {},
   "outputs": [],
   "source": [
    "from sklearn.preprocessing import OneHotEncoder\n",
    "from sklearn.model_selection import train_test_split"
   ]
  },
  {
   "cell_type": "code",
   "execution_count": 51,
   "metadata": {},
   "outputs": [
    {
     "data": {
      "text/html": [
       "<style>#sk-container-id-1 {\n",
       "  /* Definition of color scheme common for light and dark mode */\n",
       "  --sklearn-color-text: black;\n",
       "  --sklearn-color-line: gray;\n",
       "  /* Definition of color scheme for unfitted estimators */\n",
       "  --sklearn-color-unfitted-level-0: #fff5e6;\n",
       "  --sklearn-color-unfitted-level-1: #f6e4d2;\n",
       "  --sklearn-color-unfitted-level-2: #ffe0b3;\n",
       "  --sklearn-color-unfitted-level-3: chocolate;\n",
       "  /* Definition of color scheme for fitted estimators */\n",
       "  --sklearn-color-fitted-level-0: #f0f8ff;\n",
       "  --sklearn-color-fitted-level-1: #d4ebff;\n",
       "  --sklearn-color-fitted-level-2: #b3dbfd;\n",
       "  --sklearn-color-fitted-level-3: cornflowerblue;\n",
       "\n",
       "  /* Specific color for light theme */\n",
       "  --sklearn-color-text-on-default-background: var(--sg-text-color, var(--theme-code-foreground, var(--jp-content-font-color1, black)));\n",
       "  --sklearn-color-background: var(--sg-background-color, var(--theme-background, var(--jp-layout-color0, white)));\n",
       "  --sklearn-color-border-box: var(--sg-text-color, var(--theme-code-foreground, var(--jp-content-font-color1, black)));\n",
       "  --sklearn-color-icon: #696969;\n",
       "\n",
       "  @media (prefers-color-scheme: dark) {\n",
       "    /* Redefinition of color scheme for dark theme */\n",
       "    --sklearn-color-text-on-default-background: var(--sg-text-color, var(--theme-code-foreground, var(--jp-content-font-color1, white)));\n",
       "    --sklearn-color-background: var(--sg-background-color, var(--theme-background, var(--jp-layout-color0, #111)));\n",
       "    --sklearn-color-border-box: var(--sg-text-color, var(--theme-code-foreground, var(--jp-content-font-color1, white)));\n",
       "    --sklearn-color-icon: #878787;\n",
       "  }\n",
       "}\n",
       "\n",
       "#sk-container-id-1 {\n",
       "  color: var(--sklearn-color-text);\n",
       "}\n",
       "\n",
       "#sk-container-id-1 pre {\n",
       "  padding: 0;\n",
       "}\n",
       "\n",
       "#sk-container-id-1 input.sk-hidden--visually {\n",
       "  border: 0;\n",
       "  clip: rect(1px 1px 1px 1px);\n",
       "  clip: rect(1px, 1px, 1px, 1px);\n",
       "  height: 1px;\n",
       "  margin: -1px;\n",
       "  overflow: hidden;\n",
       "  padding: 0;\n",
       "  position: absolute;\n",
       "  width: 1px;\n",
       "}\n",
       "\n",
       "#sk-container-id-1 div.sk-dashed-wrapped {\n",
       "  border: 1px dashed var(--sklearn-color-line);\n",
       "  margin: 0 0.4em 0.5em 0.4em;\n",
       "  box-sizing: border-box;\n",
       "  padding-bottom: 0.4em;\n",
       "  background-color: var(--sklearn-color-background);\n",
       "}\n",
       "\n",
       "#sk-container-id-1 div.sk-container {\n",
       "  /* jupyter's `normalize.less` sets `[hidden] { display: none; }`\n",
       "     but bootstrap.min.css set `[hidden] { display: none !important; }`\n",
       "     so we also need the `!important` here to be able to override the\n",
       "     default hidden behavior on the sphinx rendered scikit-learn.org.\n",
       "     See: https://github.com/scikit-learn/scikit-learn/issues/21755 */\n",
       "  display: inline-block !important;\n",
       "  position: relative;\n",
       "}\n",
       "\n",
       "#sk-container-id-1 div.sk-text-repr-fallback {\n",
       "  display: none;\n",
       "}\n",
       "\n",
       "div.sk-parallel-item,\n",
       "div.sk-serial,\n",
       "div.sk-item {\n",
       "  /* draw centered vertical line to link estimators */\n",
       "  background-image: linear-gradient(var(--sklearn-color-text-on-default-background), var(--sklearn-color-text-on-default-background));\n",
       "  background-size: 2px 100%;\n",
       "  background-repeat: no-repeat;\n",
       "  background-position: center center;\n",
       "}\n",
       "\n",
       "/* Parallel-specific style estimator block */\n",
       "\n",
       "#sk-container-id-1 div.sk-parallel-item::after {\n",
       "  content: \"\";\n",
       "  width: 100%;\n",
       "  border-bottom: 2px solid var(--sklearn-color-text-on-default-background);\n",
       "  flex-grow: 1;\n",
       "}\n",
       "\n",
       "#sk-container-id-1 div.sk-parallel {\n",
       "  display: flex;\n",
       "  align-items: stretch;\n",
       "  justify-content: center;\n",
       "  background-color: var(--sklearn-color-background);\n",
       "  position: relative;\n",
       "}\n",
       "\n",
       "#sk-container-id-1 div.sk-parallel-item {\n",
       "  display: flex;\n",
       "  flex-direction: column;\n",
       "}\n",
       "\n",
       "#sk-container-id-1 div.sk-parallel-item:first-child::after {\n",
       "  align-self: flex-end;\n",
       "  width: 50%;\n",
       "}\n",
       "\n",
       "#sk-container-id-1 div.sk-parallel-item:last-child::after {\n",
       "  align-self: flex-start;\n",
       "  width: 50%;\n",
       "}\n",
       "\n",
       "#sk-container-id-1 div.sk-parallel-item:only-child::after {\n",
       "  width: 0;\n",
       "}\n",
       "\n",
       "/* Serial-specific style estimator block */\n",
       "\n",
       "#sk-container-id-1 div.sk-serial {\n",
       "  display: flex;\n",
       "  flex-direction: column;\n",
       "  align-items: center;\n",
       "  background-color: var(--sklearn-color-background);\n",
       "  padding-right: 1em;\n",
       "  padding-left: 1em;\n",
       "}\n",
       "\n",
       "\n",
       "/* Toggleable style: style used for estimator/Pipeline/ColumnTransformer box that is\n",
       "clickable and can be expanded/collapsed.\n",
       "- Pipeline and ColumnTransformer use this feature and define the default style\n",
       "- Estimators will overwrite some part of the style using the `sk-estimator` class\n",
       "*/\n",
       "\n",
       "/* Pipeline and ColumnTransformer style (default) */\n",
       "\n",
       "#sk-container-id-1 div.sk-toggleable {\n",
       "  /* Default theme specific background. It is overwritten whether we have a\n",
       "  specific estimator or a Pipeline/ColumnTransformer */\n",
       "  background-color: var(--sklearn-color-background);\n",
       "}\n",
       "\n",
       "/* Toggleable label */\n",
       "#sk-container-id-1 label.sk-toggleable__label {\n",
       "  cursor: pointer;\n",
       "  display: block;\n",
       "  width: 100%;\n",
       "  margin-bottom: 0;\n",
       "  padding: 0.5em;\n",
       "  box-sizing: border-box;\n",
       "  text-align: center;\n",
       "}\n",
       "\n",
       "#sk-container-id-1 label.sk-toggleable__label-arrow:before {\n",
       "  /* Arrow on the left of the label */\n",
       "  content: \"▸\";\n",
       "  float: left;\n",
       "  margin-right: 0.25em;\n",
       "  color: var(--sklearn-color-icon);\n",
       "}\n",
       "\n",
       "#sk-container-id-1 label.sk-toggleable__label-arrow:hover:before {\n",
       "  color: var(--sklearn-color-text);\n",
       "}\n",
       "\n",
       "/* Toggleable content - dropdown */\n",
       "\n",
       "#sk-container-id-1 div.sk-toggleable__content {\n",
       "  max-height: 0;\n",
       "  max-width: 0;\n",
       "  overflow: hidden;\n",
       "  text-align: left;\n",
       "  /* unfitted */\n",
       "  background-color: var(--sklearn-color-unfitted-level-0);\n",
       "}\n",
       "\n",
       "#sk-container-id-1 div.sk-toggleable__content.fitted {\n",
       "  /* fitted */\n",
       "  background-color: var(--sklearn-color-fitted-level-0);\n",
       "}\n",
       "\n",
       "#sk-container-id-1 div.sk-toggleable__content pre {\n",
       "  margin: 0.2em;\n",
       "  border-radius: 0.25em;\n",
       "  color: var(--sklearn-color-text);\n",
       "  /* unfitted */\n",
       "  background-color: var(--sklearn-color-unfitted-level-0);\n",
       "}\n",
       "\n",
       "#sk-container-id-1 div.sk-toggleable__content.fitted pre {\n",
       "  /* unfitted */\n",
       "  background-color: var(--sklearn-color-fitted-level-0);\n",
       "}\n",
       "\n",
       "#sk-container-id-1 input.sk-toggleable__control:checked~div.sk-toggleable__content {\n",
       "  /* Expand drop-down */\n",
       "  max-height: 200px;\n",
       "  max-width: 100%;\n",
       "  overflow: auto;\n",
       "}\n",
       "\n",
       "#sk-container-id-1 input.sk-toggleable__control:checked~label.sk-toggleable__label-arrow:before {\n",
       "  content: \"▾\";\n",
       "}\n",
       "\n",
       "/* Pipeline/ColumnTransformer-specific style */\n",
       "\n",
       "#sk-container-id-1 div.sk-label input.sk-toggleable__control:checked~label.sk-toggleable__label {\n",
       "  color: var(--sklearn-color-text);\n",
       "  background-color: var(--sklearn-color-unfitted-level-2);\n",
       "}\n",
       "\n",
       "#sk-container-id-1 div.sk-label.fitted input.sk-toggleable__control:checked~label.sk-toggleable__label {\n",
       "  background-color: var(--sklearn-color-fitted-level-2);\n",
       "}\n",
       "\n",
       "/* Estimator-specific style */\n",
       "\n",
       "/* Colorize estimator box */\n",
       "#sk-container-id-1 div.sk-estimator input.sk-toggleable__control:checked~label.sk-toggleable__label {\n",
       "  /* unfitted */\n",
       "  background-color: var(--sklearn-color-unfitted-level-2);\n",
       "}\n",
       "\n",
       "#sk-container-id-1 div.sk-estimator.fitted input.sk-toggleable__control:checked~label.sk-toggleable__label {\n",
       "  /* fitted */\n",
       "  background-color: var(--sklearn-color-fitted-level-2);\n",
       "}\n",
       "\n",
       "#sk-container-id-1 div.sk-label label.sk-toggleable__label,\n",
       "#sk-container-id-1 div.sk-label label {\n",
       "  /* The background is the default theme color */\n",
       "  color: var(--sklearn-color-text-on-default-background);\n",
       "}\n",
       "\n",
       "/* On hover, darken the color of the background */\n",
       "#sk-container-id-1 div.sk-label:hover label.sk-toggleable__label {\n",
       "  color: var(--sklearn-color-text);\n",
       "  background-color: var(--sklearn-color-unfitted-level-2);\n",
       "}\n",
       "\n",
       "/* Label box, darken color on hover, fitted */\n",
       "#sk-container-id-1 div.sk-label.fitted:hover label.sk-toggleable__label.fitted {\n",
       "  color: var(--sklearn-color-text);\n",
       "  background-color: var(--sklearn-color-fitted-level-2);\n",
       "}\n",
       "\n",
       "/* Estimator label */\n",
       "\n",
       "#sk-container-id-1 div.sk-label label {\n",
       "  font-family: monospace;\n",
       "  font-weight: bold;\n",
       "  display: inline-block;\n",
       "  line-height: 1.2em;\n",
       "}\n",
       "\n",
       "#sk-container-id-1 div.sk-label-container {\n",
       "  text-align: center;\n",
       "}\n",
       "\n",
       "/* Estimator-specific */\n",
       "#sk-container-id-1 div.sk-estimator {\n",
       "  font-family: monospace;\n",
       "  border: 1px dotted var(--sklearn-color-border-box);\n",
       "  border-radius: 0.25em;\n",
       "  box-sizing: border-box;\n",
       "  margin-bottom: 0.5em;\n",
       "  /* unfitted */\n",
       "  background-color: var(--sklearn-color-unfitted-level-0);\n",
       "}\n",
       "\n",
       "#sk-container-id-1 div.sk-estimator.fitted {\n",
       "  /* fitted */\n",
       "  background-color: var(--sklearn-color-fitted-level-0);\n",
       "}\n",
       "\n",
       "/* on hover */\n",
       "#sk-container-id-1 div.sk-estimator:hover {\n",
       "  /* unfitted */\n",
       "  background-color: var(--sklearn-color-unfitted-level-2);\n",
       "}\n",
       "\n",
       "#sk-container-id-1 div.sk-estimator.fitted:hover {\n",
       "  /* fitted */\n",
       "  background-color: var(--sklearn-color-fitted-level-2);\n",
       "}\n",
       "\n",
       "/* Specification for estimator info (e.g. \"i\" and \"?\") */\n",
       "\n",
       "/* Common style for \"i\" and \"?\" */\n",
       "\n",
       ".sk-estimator-doc-link,\n",
       "a:link.sk-estimator-doc-link,\n",
       "a:visited.sk-estimator-doc-link {\n",
       "  float: right;\n",
       "  font-size: smaller;\n",
       "  line-height: 1em;\n",
       "  font-family: monospace;\n",
       "  background-color: var(--sklearn-color-background);\n",
       "  border-radius: 1em;\n",
       "  height: 1em;\n",
       "  width: 1em;\n",
       "  text-decoration: none !important;\n",
       "  margin-left: 1ex;\n",
       "  /* unfitted */\n",
       "  border: var(--sklearn-color-unfitted-level-1) 1pt solid;\n",
       "  color: var(--sklearn-color-unfitted-level-1);\n",
       "}\n",
       "\n",
       ".sk-estimator-doc-link.fitted,\n",
       "a:link.sk-estimator-doc-link.fitted,\n",
       "a:visited.sk-estimator-doc-link.fitted {\n",
       "  /* fitted */\n",
       "  border: var(--sklearn-color-fitted-level-1) 1pt solid;\n",
       "  color: var(--sklearn-color-fitted-level-1);\n",
       "}\n",
       "\n",
       "/* On hover */\n",
       "div.sk-estimator:hover .sk-estimator-doc-link:hover,\n",
       ".sk-estimator-doc-link:hover,\n",
       "div.sk-label-container:hover .sk-estimator-doc-link:hover,\n",
       ".sk-estimator-doc-link:hover {\n",
       "  /* unfitted */\n",
       "  background-color: var(--sklearn-color-unfitted-level-3);\n",
       "  color: var(--sklearn-color-background);\n",
       "  text-decoration: none;\n",
       "}\n",
       "\n",
       "div.sk-estimator.fitted:hover .sk-estimator-doc-link.fitted:hover,\n",
       ".sk-estimator-doc-link.fitted:hover,\n",
       "div.sk-label-container:hover .sk-estimator-doc-link.fitted:hover,\n",
       ".sk-estimator-doc-link.fitted:hover {\n",
       "  /* fitted */\n",
       "  background-color: var(--sklearn-color-fitted-level-3);\n",
       "  color: var(--sklearn-color-background);\n",
       "  text-decoration: none;\n",
       "}\n",
       "\n",
       "/* Span, style for the box shown on hovering the info icon */\n",
       ".sk-estimator-doc-link span {\n",
       "  display: none;\n",
       "  z-index: 9999;\n",
       "  position: relative;\n",
       "  font-weight: normal;\n",
       "  right: .2ex;\n",
       "  padding: .5ex;\n",
       "  margin: .5ex;\n",
       "  width: min-content;\n",
       "  min-width: 20ex;\n",
       "  max-width: 50ex;\n",
       "  color: var(--sklearn-color-text);\n",
       "  box-shadow: 2pt 2pt 4pt #999;\n",
       "  /* unfitted */\n",
       "  background: var(--sklearn-color-unfitted-level-0);\n",
       "  border: .5pt solid var(--sklearn-color-unfitted-level-3);\n",
       "}\n",
       "\n",
       ".sk-estimator-doc-link.fitted span {\n",
       "  /* fitted */\n",
       "  background: var(--sklearn-color-fitted-level-0);\n",
       "  border: var(--sklearn-color-fitted-level-3);\n",
       "}\n",
       "\n",
       ".sk-estimator-doc-link:hover span {\n",
       "  display: block;\n",
       "}\n",
       "\n",
       "/* \"?\"-specific style due to the `<a>` HTML tag */\n",
       "\n",
       "#sk-container-id-1 a.estimator_doc_link {\n",
       "  float: right;\n",
       "  font-size: 1rem;\n",
       "  line-height: 1em;\n",
       "  font-family: monospace;\n",
       "  background-color: var(--sklearn-color-background);\n",
       "  border-radius: 1rem;\n",
       "  height: 1rem;\n",
       "  width: 1rem;\n",
       "  text-decoration: none;\n",
       "  /* unfitted */\n",
       "  color: var(--sklearn-color-unfitted-level-1);\n",
       "  border: var(--sklearn-color-unfitted-level-1) 1pt solid;\n",
       "}\n",
       "\n",
       "#sk-container-id-1 a.estimator_doc_link.fitted {\n",
       "  /* fitted */\n",
       "  border: var(--sklearn-color-fitted-level-1) 1pt solid;\n",
       "  color: var(--sklearn-color-fitted-level-1);\n",
       "}\n",
       "\n",
       "/* On hover */\n",
       "#sk-container-id-1 a.estimator_doc_link:hover {\n",
       "  /* unfitted */\n",
       "  background-color: var(--sklearn-color-unfitted-level-3);\n",
       "  color: var(--sklearn-color-background);\n",
       "  text-decoration: none;\n",
       "}\n",
       "\n",
       "#sk-container-id-1 a.estimator_doc_link.fitted:hover {\n",
       "  /* fitted */\n",
       "  background-color: var(--sklearn-color-fitted-level-3);\n",
       "}\n",
       "</style><div id=\"sk-container-id-1\" class=\"sk-top-container\"><div class=\"sk-text-repr-fallback\"><pre>OneHotEncoder()</pre><b>In a Jupyter environment, please rerun this cell to show the HTML representation or trust the notebook. <br />On GitHub, the HTML representation is unable to render, please try loading this page with nbviewer.org.</b></div><div class=\"sk-container\" hidden><div class=\"sk-item\"><div class=\"sk-estimator fitted sk-toggleable\"><input class=\"sk-toggleable__control sk-hidden--visually\" id=\"sk-estimator-id-1\" type=\"checkbox\" checked><label for=\"sk-estimator-id-1\" class=\"sk-toggleable__label fitted sk-toggleable__label-arrow fitted\">&nbsp;&nbsp;OneHotEncoder<a class=\"sk-estimator-doc-link fitted\" rel=\"noreferrer\" target=\"_blank\" href=\"https://scikit-learn.org/1.5/modules/generated/sklearn.preprocessing.OneHotEncoder.html\">?<span>Documentation for OneHotEncoder</span></a><span class=\"sk-estimator-doc-link fitted\">i<span>Fitted</span></span></label><div class=\"sk-toggleable__content fitted\"><pre>OneHotEncoder()</pre></div> </div></div></div></div>"
      ],
      "text/plain": [
       "OneHotEncoder()"
      ]
     },
     "execution_count": 51,
     "metadata": {},
     "output_type": "execute_result"
    }
   ],
   "source": [
    "cols = ['Brand', 'Fuel Type', 'Transmission','Condition', 'Model']\n",
    "encoder = OneHotEncoder()\n",
    "\n",
    "\n",
    "encoder.fit(df_new[cols])\n",
    "#df_new[['Brand', 'Fuel Type', 'Transmission','Condition', 'Model']]"
   ]
  },
  {
   "cell_type": "code",
   "execution_count": 64,
   "metadata": {},
   "outputs": [],
   "source": [
    "new_df = encoder.transform(df_new[cols]).toarray()"
   ]
  },
  {
   "cell_type": "code",
   "execution_count": 65,
   "metadata": {},
   "outputs": [
    {
     "data": {
      "text/plain": [
       "array([[0., 0., 0., ..., 0., 0., 0.],\n",
       "       [0., 1., 0., ..., 0., 0., 0.],\n",
       "       [1., 0., 0., ..., 0., 0., 0.],\n",
       "       ...,\n",
       "       [0., 0., 1., ..., 0., 0., 0.],\n",
       "       [1., 0., 0., ..., 0., 0., 0.],\n",
       "       [0., 0., 0., ..., 1., 0., 0.]])"
      ]
     },
     "execution_count": 65,
     "metadata": {},
     "output_type": "execute_result"
    }
   ],
   "source": [
    "new_df"
   ]
  },
  {
   "cell_type": "code",
   "execution_count": 66,
   "metadata": {},
   "outputs": [
    {
     "data": {
      "text/plain": [
       "array(['Brand_Audi', 'Brand_BMW', 'Brand_Ford', 'Brand_Honda',\n",
       "       'Brand_Mercedes', 'Brand_Tesla', 'Brand_Toyota',\n",
       "       'Fuel Type_Diesel', 'Fuel Type_Electric', 'Fuel Type_Hybrid',\n",
       "       'Fuel Type_Petrol', 'Transmission_Automatic',\n",
       "       'Transmission_Manual', 'Condition_Like New', 'Condition_New',\n",
       "       'Condition_Used', 'Model_3 Series', 'Model_5 Series', 'Model_A3',\n",
       "       'Model_A4', 'Model_Accord', 'Model_C-Class', 'Model_CR-V',\n",
       "       'Model_Camry', 'Model_Civic', 'Model_Corolla', 'Model_E-Class',\n",
       "       'Model_Explorer', 'Model_Fiesta', 'Model_Fit', 'Model_Focus',\n",
       "       'Model_GLA', 'Model_GLC', 'Model_Model 3', 'Model_Model S',\n",
       "       'Model_Model X', 'Model_Model Y', 'Model_Mustang', 'Model_Prius',\n",
       "       'Model_Q5', 'Model_Q7', 'Model_RAV4', 'Model_X3', 'Model_X5'],\n",
       "      dtype=object)"
      ]
     },
     "execution_count": 66,
     "metadata": {},
     "output_type": "execute_result"
    }
   ],
   "source": [
    "encoder.get_feature_names_out(cols)"
   ]
  },
  {
   "cell_type": "code",
   "execution_count": 67,
   "metadata": {},
   "outputs": [
    {
     "data": {
      "text/plain": [
       "array([[0., 0., 0., ..., 0., 0., 0.],\n",
       "       [0., 1., 0., ..., 0., 0., 0.],\n",
       "       [1., 0., 0., ..., 0., 0., 0.],\n",
       "       ...,\n",
       "       [0., 0., 1., ..., 0., 0., 0.],\n",
       "       [1., 0., 0., ..., 0., 0., 0.],\n",
       "       [0., 0., 0., ..., 1., 0., 0.]])"
      ]
     },
     "execution_count": 67,
     "metadata": {},
     "output_type": "execute_result"
    }
   ],
   "source": [
    "new_df"
   ]
  },
  {
   "cell_type": "code",
   "execution_count": 68,
   "metadata": {},
   "outputs": [],
   "source": [
    "encoded_df = pd.DataFrame(new_df, columns=encoder.get_feature_names_out(cols))"
   ]
  },
  {
   "cell_type": "code",
   "execution_count": 69,
   "metadata": {},
   "outputs": [
    {
     "data": {
      "text/html": [
       "<div>\n",
       "<style scoped>\n",
       "    .dataframe tbody tr th:only-of-type {\n",
       "        vertical-align: middle;\n",
       "    }\n",
       "\n",
       "    .dataframe tbody tr th {\n",
       "        vertical-align: top;\n",
       "    }\n",
       "\n",
       "    .dataframe thead th {\n",
       "        text-align: right;\n",
       "    }\n",
       "</style>\n",
       "<table border=\"1\" class=\"dataframe\">\n",
       "  <thead>\n",
       "    <tr style=\"text-align: right;\">\n",
       "      <th></th>\n",
       "      <th>Brand_Audi</th>\n",
       "      <th>Brand_BMW</th>\n",
       "      <th>Brand_Ford</th>\n",
       "      <th>Brand_Honda</th>\n",
       "      <th>Brand_Mercedes</th>\n",
       "      <th>Brand_Tesla</th>\n",
       "      <th>Brand_Toyota</th>\n",
       "      <th>Fuel Type_Diesel</th>\n",
       "      <th>Fuel Type_Electric</th>\n",
       "      <th>Fuel Type_Hybrid</th>\n",
       "      <th>...</th>\n",
       "      <th>Model_Model S</th>\n",
       "      <th>Model_Model X</th>\n",
       "      <th>Model_Model Y</th>\n",
       "      <th>Model_Mustang</th>\n",
       "      <th>Model_Prius</th>\n",
       "      <th>Model_Q5</th>\n",
       "      <th>Model_Q7</th>\n",
       "      <th>Model_RAV4</th>\n",
       "      <th>Model_X3</th>\n",
       "      <th>Model_X5</th>\n",
       "    </tr>\n",
       "  </thead>\n",
       "  <tbody>\n",
       "    <tr>\n",
       "      <th>0</th>\n",
       "      <td>0.0</td>\n",
       "      <td>0.0</td>\n",
       "      <td>0.0</td>\n",
       "      <td>0.0</td>\n",
       "      <td>0.0</td>\n",
       "      <td>1.0</td>\n",
       "      <td>0.0</td>\n",
       "      <td>0.0</td>\n",
       "      <td>0.0</td>\n",
       "      <td>0.0</td>\n",
       "      <td>...</td>\n",
       "      <td>0.0</td>\n",
       "      <td>1.0</td>\n",
       "      <td>0.0</td>\n",
       "      <td>0.0</td>\n",
       "      <td>0.0</td>\n",
       "      <td>0.0</td>\n",
       "      <td>0.0</td>\n",
       "      <td>0.0</td>\n",
       "      <td>0.0</td>\n",
       "      <td>0.0</td>\n",
       "    </tr>\n",
       "    <tr>\n",
       "      <th>1</th>\n",
       "      <td>0.0</td>\n",
       "      <td>1.0</td>\n",
       "      <td>0.0</td>\n",
       "      <td>0.0</td>\n",
       "      <td>0.0</td>\n",
       "      <td>0.0</td>\n",
       "      <td>0.0</td>\n",
       "      <td>0.0</td>\n",
       "      <td>1.0</td>\n",
       "      <td>0.0</td>\n",
       "      <td>...</td>\n",
       "      <td>0.0</td>\n",
       "      <td>0.0</td>\n",
       "      <td>0.0</td>\n",
       "      <td>0.0</td>\n",
       "      <td>0.0</td>\n",
       "      <td>0.0</td>\n",
       "      <td>0.0</td>\n",
       "      <td>0.0</td>\n",
       "      <td>0.0</td>\n",
       "      <td>0.0</td>\n",
       "    </tr>\n",
       "    <tr>\n",
       "      <th>2</th>\n",
       "      <td>1.0</td>\n",
       "      <td>0.0</td>\n",
       "      <td>0.0</td>\n",
       "      <td>0.0</td>\n",
       "      <td>0.0</td>\n",
       "      <td>0.0</td>\n",
       "      <td>0.0</td>\n",
       "      <td>0.0</td>\n",
       "      <td>1.0</td>\n",
       "      <td>0.0</td>\n",
       "      <td>...</td>\n",
       "      <td>0.0</td>\n",
       "      <td>0.0</td>\n",
       "      <td>0.0</td>\n",
       "      <td>0.0</td>\n",
       "      <td>0.0</td>\n",
       "      <td>0.0</td>\n",
       "      <td>0.0</td>\n",
       "      <td>0.0</td>\n",
       "      <td>0.0</td>\n",
       "      <td>0.0</td>\n",
       "    </tr>\n",
       "    <tr>\n",
       "      <th>3</th>\n",
       "      <td>0.0</td>\n",
       "      <td>0.0</td>\n",
       "      <td>0.0</td>\n",
       "      <td>0.0</td>\n",
       "      <td>0.0</td>\n",
       "      <td>1.0</td>\n",
       "      <td>0.0</td>\n",
       "      <td>1.0</td>\n",
       "      <td>0.0</td>\n",
       "      <td>0.0</td>\n",
       "      <td>...</td>\n",
       "      <td>0.0</td>\n",
       "      <td>0.0</td>\n",
       "      <td>1.0</td>\n",
       "      <td>0.0</td>\n",
       "      <td>0.0</td>\n",
       "      <td>0.0</td>\n",
       "      <td>0.0</td>\n",
       "      <td>0.0</td>\n",
       "      <td>0.0</td>\n",
       "      <td>0.0</td>\n",
       "    </tr>\n",
       "    <tr>\n",
       "      <th>4</th>\n",
       "      <td>0.0</td>\n",
       "      <td>0.0</td>\n",
       "      <td>1.0</td>\n",
       "      <td>0.0</td>\n",
       "      <td>0.0</td>\n",
       "      <td>0.0</td>\n",
       "      <td>0.0</td>\n",
       "      <td>1.0</td>\n",
       "      <td>0.0</td>\n",
       "      <td>0.0</td>\n",
       "      <td>...</td>\n",
       "      <td>0.0</td>\n",
       "      <td>0.0</td>\n",
       "      <td>0.0</td>\n",
       "      <td>1.0</td>\n",
       "      <td>0.0</td>\n",
       "      <td>0.0</td>\n",
       "      <td>0.0</td>\n",
       "      <td>0.0</td>\n",
       "      <td>0.0</td>\n",
       "      <td>0.0</td>\n",
       "    </tr>\n",
       "    <tr>\n",
       "      <th>...</th>\n",
       "      <td>...</td>\n",
       "      <td>...</td>\n",
       "      <td>...</td>\n",
       "      <td>...</td>\n",
       "      <td>...</td>\n",
       "      <td>...</td>\n",
       "      <td>...</td>\n",
       "      <td>...</td>\n",
       "      <td>...</td>\n",
       "      <td>...</td>\n",
       "      <td>...</td>\n",
       "      <td>...</td>\n",
       "      <td>...</td>\n",
       "      <td>...</td>\n",
       "      <td>...</td>\n",
       "      <td>...</td>\n",
       "      <td>...</td>\n",
       "      <td>...</td>\n",
       "      <td>...</td>\n",
       "      <td>...</td>\n",
       "      <td>...</td>\n",
       "    </tr>\n",
       "    <tr>\n",
       "      <th>2495</th>\n",
       "      <td>1.0</td>\n",
       "      <td>0.0</td>\n",
       "      <td>0.0</td>\n",
       "      <td>0.0</td>\n",
       "      <td>0.0</td>\n",
       "      <td>0.0</td>\n",
       "      <td>0.0</td>\n",
       "      <td>0.0</td>\n",
       "      <td>0.0</td>\n",
       "      <td>0.0</td>\n",
       "      <td>...</td>\n",
       "      <td>0.0</td>\n",
       "      <td>0.0</td>\n",
       "      <td>0.0</td>\n",
       "      <td>0.0</td>\n",
       "      <td>0.0</td>\n",
       "      <td>1.0</td>\n",
       "      <td>0.0</td>\n",
       "      <td>0.0</td>\n",
       "      <td>0.0</td>\n",
       "      <td>0.0</td>\n",
       "    </tr>\n",
       "    <tr>\n",
       "      <th>2496</th>\n",
       "      <td>1.0</td>\n",
       "      <td>0.0</td>\n",
       "      <td>0.0</td>\n",
       "      <td>0.0</td>\n",
       "      <td>0.0</td>\n",
       "      <td>0.0</td>\n",
       "      <td>0.0</td>\n",
       "      <td>0.0</td>\n",
       "      <td>0.0</td>\n",
       "      <td>1.0</td>\n",
       "      <td>...</td>\n",
       "      <td>0.0</td>\n",
       "      <td>0.0</td>\n",
       "      <td>0.0</td>\n",
       "      <td>0.0</td>\n",
       "      <td>0.0</td>\n",
       "      <td>0.0</td>\n",
       "      <td>0.0</td>\n",
       "      <td>0.0</td>\n",
       "      <td>0.0</td>\n",
       "      <td>0.0</td>\n",
       "    </tr>\n",
       "    <tr>\n",
       "      <th>2497</th>\n",
       "      <td>0.0</td>\n",
       "      <td>0.0</td>\n",
       "      <td>1.0</td>\n",
       "      <td>0.0</td>\n",
       "      <td>0.0</td>\n",
       "      <td>0.0</td>\n",
       "      <td>0.0</td>\n",
       "      <td>0.0</td>\n",
       "      <td>0.0</td>\n",
       "      <td>1.0</td>\n",
       "      <td>...</td>\n",
       "      <td>0.0</td>\n",
       "      <td>0.0</td>\n",
       "      <td>0.0</td>\n",
       "      <td>0.0</td>\n",
       "      <td>0.0</td>\n",
       "      <td>0.0</td>\n",
       "      <td>0.0</td>\n",
       "      <td>0.0</td>\n",
       "      <td>0.0</td>\n",
       "      <td>0.0</td>\n",
       "    </tr>\n",
       "    <tr>\n",
       "      <th>2498</th>\n",
       "      <td>1.0</td>\n",
       "      <td>0.0</td>\n",
       "      <td>0.0</td>\n",
       "      <td>0.0</td>\n",
       "      <td>0.0</td>\n",
       "      <td>0.0</td>\n",
       "      <td>0.0</td>\n",
       "      <td>1.0</td>\n",
       "      <td>0.0</td>\n",
       "      <td>0.0</td>\n",
       "      <td>...</td>\n",
       "      <td>0.0</td>\n",
       "      <td>0.0</td>\n",
       "      <td>0.0</td>\n",
       "      <td>0.0</td>\n",
       "      <td>0.0</td>\n",
       "      <td>1.0</td>\n",
       "      <td>0.0</td>\n",
       "      <td>0.0</td>\n",
       "      <td>0.0</td>\n",
       "      <td>0.0</td>\n",
       "    </tr>\n",
       "    <tr>\n",
       "      <th>2499</th>\n",
       "      <td>0.0</td>\n",
       "      <td>0.0</td>\n",
       "      <td>0.0</td>\n",
       "      <td>0.0</td>\n",
       "      <td>0.0</td>\n",
       "      <td>0.0</td>\n",
       "      <td>1.0</td>\n",
       "      <td>1.0</td>\n",
       "      <td>0.0</td>\n",
       "      <td>0.0</td>\n",
       "      <td>...</td>\n",
       "      <td>0.0</td>\n",
       "      <td>0.0</td>\n",
       "      <td>0.0</td>\n",
       "      <td>0.0</td>\n",
       "      <td>0.0</td>\n",
       "      <td>0.0</td>\n",
       "      <td>0.0</td>\n",
       "      <td>1.0</td>\n",
       "      <td>0.0</td>\n",
       "      <td>0.0</td>\n",
       "    </tr>\n",
       "  </tbody>\n",
       "</table>\n",
       "<p>2500 rows × 44 columns</p>\n",
       "</div>"
      ],
      "text/plain": [
       "      Brand_Audi  Brand_BMW  Brand_Ford  Brand_Honda  Brand_Mercedes  \\\n",
       "0            0.0        0.0         0.0          0.0             0.0   \n",
       "1            0.0        1.0         0.0          0.0             0.0   \n",
       "2            1.0        0.0         0.0          0.0             0.0   \n",
       "3            0.0        0.0         0.0          0.0             0.0   \n",
       "4            0.0        0.0         1.0          0.0             0.0   \n",
       "...          ...        ...         ...          ...             ...   \n",
       "2495         1.0        0.0         0.0          0.0             0.0   \n",
       "2496         1.0        0.0         0.0          0.0             0.0   \n",
       "2497         0.0        0.0         1.0          0.0             0.0   \n",
       "2498         1.0        0.0         0.0          0.0             0.0   \n",
       "2499         0.0        0.0         0.0          0.0             0.0   \n",
       "\n",
       "      Brand_Tesla  Brand_Toyota  Fuel Type_Diesel  Fuel Type_Electric  \\\n",
       "0             1.0           0.0               0.0                 0.0   \n",
       "1             0.0           0.0               0.0                 1.0   \n",
       "2             0.0           0.0               0.0                 1.0   \n",
       "3             1.0           0.0               1.0                 0.0   \n",
       "4             0.0           0.0               1.0                 0.0   \n",
       "...           ...           ...               ...                 ...   \n",
       "2495          0.0           0.0               0.0                 0.0   \n",
       "2496          0.0           0.0               0.0                 0.0   \n",
       "2497          0.0           0.0               0.0                 0.0   \n",
       "2498          0.0           0.0               1.0                 0.0   \n",
       "2499          0.0           1.0               1.0                 0.0   \n",
       "\n",
       "      Fuel Type_Hybrid  ...  Model_Model S  Model_Model X  Model_Model Y  \\\n",
       "0                  0.0  ...            0.0            1.0            0.0   \n",
       "1                  0.0  ...            0.0            0.0            0.0   \n",
       "2                  0.0  ...            0.0            0.0            0.0   \n",
       "3                  0.0  ...            0.0            0.0            1.0   \n",
       "4                  0.0  ...            0.0            0.0            0.0   \n",
       "...                ...  ...            ...            ...            ...   \n",
       "2495               0.0  ...            0.0            0.0            0.0   \n",
       "2496               1.0  ...            0.0            0.0            0.0   \n",
       "2497               1.0  ...            0.0            0.0            0.0   \n",
       "2498               0.0  ...            0.0            0.0            0.0   \n",
       "2499               0.0  ...            0.0            0.0            0.0   \n",
       "\n",
       "      Model_Mustang  Model_Prius  Model_Q5  Model_Q7  Model_RAV4  Model_X3  \\\n",
       "0               0.0          0.0       0.0       0.0         0.0       0.0   \n",
       "1               0.0          0.0       0.0       0.0         0.0       0.0   \n",
       "2               0.0          0.0       0.0       0.0         0.0       0.0   \n",
       "3               0.0          0.0       0.0       0.0         0.0       0.0   \n",
       "4               1.0          0.0       0.0       0.0         0.0       0.0   \n",
       "...             ...          ...       ...       ...         ...       ...   \n",
       "2495            0.0          0.0       1.0       0.0         0.0       0.0   \n",
       "2496            0.0          0.0       0.0       0.0         0.0       0.0   \n",
       "2497            0.0          0.0       0.0       0.0         0.0       0.0   \n",
       "2498            0.0          0.0       1.0       0.0         0.0       0.0   \n",
       "2499            0.0          0.0       0.0       0.0         1.0       0.0   \n",
       "\n",
       "      Model_X5  \n",
       "0          0.0  \n",
       "1          0.0  \n",
       "2          0.0  \n",
       "3          0.0  \n",
       "4          0.0  \n",
       "...        ...  \n",
       "2495       0.0  \n",
       "2496       0.0  \n",
       "2497       0.0  \n",
       "2498       0.0  \n",
       "2499       0.0  \n",
       "\n",
       "[2500 rows x 44 columns]"
      ]
     },
     "execution_count": 69,
     "metadata": {},
     "output_type": "execute_result"
    }
   ],
   "source": [
    "encoded_df"
   ]
  },
  {
   "cell_type": "code",
   "execution_count": 70,
   "metadata": {},
   "outputs": [],
   "source": [
    "final_df = df_new.drop(columns=cols)"
   ]
  },
  {
   "cell_type": "code",
   "execution_count": 73,
   "metadata": {},
   "outputs": [
    {
     "data": {
      "text/html": [
       "<div>\n",
       "<style scoped>\n",
       "    .dataframe tbody tr th:only-of-type {\n",
       "        vertical-align: middle;\n",
       "    }\n",
       "\n",
       "    .dataframe tbody tr th {\n",
       "        vertical-align: top;\n",
       "    }\n",
       "\n",
       "    .dataframe thead th {\n",
       "        text-align: right;\n",
       "    }\n",
       "</style>\n",
       "<table border=\"1\" class=\"dataframe\">\n",
       "  <thead>\n",
       "    <tr style=\"text-align: right;\">\n",
       "      <th></th>\n",
       "      <th>Year</th>\n",
       "      <th>Engine Size</th>\n",
       "      <th>Mileage</th>\n",
       "      <th>Price</th>\n",
       "      <th>Brand_Audi</th>\n",
       "      <th>Brand_BMW</th>\n",
       "      <th>Brand_Ford</th>\n",
       "      <th>Brand_Honda</th>\n",
       "      <th>Brand_Mercedes</th>\n",
       "      <th>Brand_Tesla</th>\n",
       "      <th>...</th>\n",
       "      <th>Model_Model S</th>\n",
       "      <th>Model_Model X</th>\n",
       "      <th>Model_Model Y</th>\n",
       "      <th>Model_Mustang</th>\n",
       "      <th>Model_Prius</th>\n",
       "      <th>Model_Q5</th>\n",
       "      <th>Model_Q7</th>\n",
       "      <th>Model_RAV4</th>\n",
       "      <th>Model_X3</th>\n",
       "      <th>Model_X5</th>\n",
       "    </tr>\n",
       "  </thead>\n",
       "  <tbody>\n",
       "    <tr>\n",
       "      <th>0</th>\n",
       "      <td>2016</td>\n",
       "      <td>2.3</td>\n",
       "      <td>114832</td>\n",
       "      <td>26613.92</td>\n",
       "      <td>0.0</td>\n",
       "      <td>0.0</td>\n",
       "      <td>0.0</td>\n",
       "      <td>0.0</td>\n",
       "      <td>0.0</td>\n",
       "      <td>1.0</td>\n",
       "      <td>...</td>\n",
       "      <td>0.0</td>\n",
       "      <td>1.0</td>\n",
       "      <td>0.0</td>\n",
       "      <td>0.0</td>\n",
       "      <td>0.0</td>\n",
       "      <td>0.0</td>\n",
       "      <td>0.0</td>\n",
       "      <td>0.0</td>\n",
       "      <td>0.0</td>\n",
       "      <td>0.0</td>\n",
       "    </tr>\n",
       "    <tr>\n",
       "      <th>1</th>\n",
       "      <td>2018</td>\n",
       "      <td>4.4</td>\n",
       "      <td>143190</td>\n",
       "      <td>14679.61</td>\n",
       "      <td>0.0</td>\n",
       "      <td>1.0</td>\n",
       "      <td>0.0</td>\n",
       "      <td>0.0</td>\n",
       "      <td>0.0</td>\n",
       "      <td>0.0</td>\n",
       "      <td>...</td>\n",
       "      <td>0.0</td>\n",
       "      <td>0.0</td>\n",
       "      <td>0.0</td>\n",
       "      <td>0.0</td>\n",
       "      <td>0.0</td>\n",
       "      <td>0.0</td>\n",
       "      <td>0.0</td>\n",
       "      <td>0.0</td>\n",
       "      <td>0.0</td>\n",
       "      <td>0.0</td>\n",
       "    </tr>\n",
       "    <tr>\n",
       "      <th>2</th>\n",
       "      <td>2013</td>\n",
       "      <td>4.5</td>\n",
       "      <td>181601</td>\n",
       "      <td>44402.61</td>\n",
       "      <td>1.0</td>\n",
       "      <td>0.0</td>\n",
       "      <td>0.0</td>\n",
       "      <td>0.0</td>\n",
       "      <td>0.0</td>\n",
       "      <td>0.0</td>\n",
       "      <td>...</td>\n",
       "      <td>0.0</td>\n",
       "      <td>0.0</td>\n",
       "      <td>0.0</td>\n",
       "      <td>0.0</td>\n",
       "      <td>0.0</td>\n",
       "      <td>0.0</td>\n",
       "      <td>0.0</td>\n",
       "      <td>0.0</td>\n",
       "      <td>0.0</td>\n",
       "      <td>0.0</td>\n",
       "    </tr>\n",
       "    <tr>\n",
       "      <th>3</th>\n",
       "      <td>2011</td>\n",
       "      <td>4.1</td>\n",
       "      <td>68682</td>\n",
       "      <td>86374.33</td>\n",
       "      <td>0.0</td>\n",
       "      <td>0.0</td>\n",
       "      <td>0.0</td>\n",
       "      <td>0.0</td>\n",
       "      <td>0.0</td>\n",
       "      <td>1.0</td>\n",
       "      <td>...</td>\n",
       "      <td>0.0</td>\n",
       "      <td>0.0</td>\n",
       "      <td>1.0</td>\n",
       "      <td>0.0</td>\n",
       "      <td>0.0</td>\n",
       "      <td>0.0</td>\n",
       "      <td>0.0</td>\n",
       "      <td>0.0</td>\n",
       "      <td>0.0</td>\n",
       "      <td>0.0</td>\n",
       "    </tr>\n",
       "    <tr>\n",
       "      <th>4</th>\n",
       "      <td>2009</td>\n",
       "      <td>2.6</td>\n",
       "      <td>223009</td>\n",
       "      <td>73577.10</td>\n",
       "      <td>0.0</td>\n",
       "      <td>0.0</td>\n",
       "      <td>1.0</td>\n",
       "      <td>0.0</td>\n",
       "      <td>0.0</td>\n",
       "      <td>0.0</td>\n",
       "      <td>...</td>\n",
       "      <td>0.0</td>\n",
       "      <td>0.0</td>\n",
       "      <td>0.0</td>\n",
       "      <td>1.0</td>\n",
       "      <td>0.0</td>\n",
       "      <td>0.0</td>\n",
       "      <td>0.0</td>\n",
       "      <td>0.0</td>\n",
       "      <td>0.0</td>\n",
       "      <td>0.0</td>\n",
       "    </tr>\n",
       "  </tbody>\n",
       "</table>\n",
       "<p>5 rows × 48 columns</p>\n",
       "</div>"
      ],
      "text/plain": [
       "   Year  Engine Size  Mileage     Price  Brand_Audi  Brand_BMW  Brand_Ford  \\\n",
       "0  2016          2.3   114832  26613.92         0.0        0.0         0.0   \n",
       "1  2018          4.4   143190  14679.61         0.0        1.0         0.0   \n",
       "2  2013          4.5   181601  44402.61         1.0        0.0         0.0   \n",
       "3  2011          4.1    68682  86374.33         0.0        0.0         0.0   \n",
       "4  2009          2.6   223009  73577.10         0.0        0.0         1.0   \n",
       "\n",
       "   Brand_Honda  Brand_Mercedes  Brand_Tesla  ...  Model_Model S  \\\n",
       "0          0.0             0.0          1.0  ...            0.0   \n",
       "1          0.0             0.0          0.0  ...            0.0   \n",
       "2          0.0             0.0          0.0  ...            0.0   \n",
       "3          0.0             0.0          1.0  ...            0.0   \n",
       "4          0.0             0.0          0.0  ...            0.0   \n",
       "\n",
       "   Model_Model X  Model_Model Y  Model_Mustang  Model_Prius  Model_Q5  \\\n",
       "0            1.0            0.0            0.0          0.0       0.0   \n",
       "1            0.0            0.0            0.0          0.0       0.0   \n",
       "2            0.0            0.0            0.0          0.0       0.0   \n",
       "3            0.0            1.0            0.0          0.0       0.0   \n",
       "4            0.0            0.0            1.0          0.0       0.0   \n",
       "\n",
       "   Model_Q7  Model_RAV4  Model_X3  Model_X5  \n",
       "0       0.0         0.0       0.0       0.0  \n",
       "1       0.0         0.0       0.0       0.0  \n",
       "2       0.0         0.0       0.0       0.0  \n",
       "3       0.0         0.0       0.0       0.0  \n",
       "4       0.0         0.0       0.0       0.0  \n",
       "\n",
       "[5 rows x 48 columns]"
      ]
     },
     "execution_count": 73,
     "metadata": {},
     "output_type": "execute_result"
    }
   ],
   "source": [
    "final_df = pd.concat([final_df, encoded_df], axis=1)\n",
    "final_df.head(5)"
   ]
  },
  {
   "cell_type": "code",
   "execution_count": 74,
   "metadata": {},
   "outputs": [],
   "source": [
    "X = final_df.drop(columns=\"Price\")\n",
    "y = final_df[\"Price\"]"
   ]
  },
  {
   "cell_type": "markdown",
   "metadata": {},
   "source": [
    "# Spliting data"
   ]
  },
  {
   "cell_type": "code",
   "execution_count": 75,
   "metadata": {},
   "outputs": [],
   "source": [
    "random_state = 42\n",
    "X_train, X_test, y_train, y_test = train_test_split(X, y, test_size=0.3, random_state=random_state)"
   ]
  },
  {
   "cell_type": "markdown",
   "metadata": {},
   "source": [
    "# Modeling"
   ]
  },
  {
   "cell_type": "code",
   "execution_count": 93,
   "metadata": {},
   "outputs": [],
   "source": [
    "from sklearn.ensemble import RandomForestRegressor\n",
    "from sklearn.linear_model import LinearRegression, Lasso, Ridge\n",
    "from sklearn.metrics import mean_squared_error as MSE\n",
    "from sklearn.metrics import root_mean_squared_error\n",
    "from sklearn.metrics import r2_score\n",
    "from sklearn.ensemble import StackingRegressor, AdaBoostRegressor"
   ]
  },
  {
   "cell_type": "code",
   "execution_count": 77,
   "metadata": {},
   "outputs": [],
   "source": [
    "rf = RandomForestRegressor(n_estimators=300, random_state=random_state)"
   ]
  },
  {
   "cell_type": "code",
   "execution_count": 79,
   "metadata": {},
   "outputs": [
    {
     "data": {
      "text/html": [
       "<style>#sk-container-id-2 {\n",
       "  /* Definition of color scheme common for light and dark mode */\n",
       "  --sklearn-color-text: black;\n",
       "  --sklearn-color-line: gray;\n",
       "  /* Definition of color scheme for unfitted estimators */\n",
       "  --sklearn-color-unfitted-level-0: #fff5e6;\n",
       "  --sklearn-color-unfitted-level-1: #f6e4d2;\n",
       "  --sklearn-color-unfitted-level-2: #ffe0b3;\n",
       "  --sklearn-color-unfitted-level-3: chocolate;\n",
       "  /* Definition of color scheme for fitted estimators */\n",
       "  --sklearn-color-fitted-level-0: #f0f8ff;\n",
       "  --sklearn-color-fitted-level-1: #d4ebff;\n",
       "  --sklearn-color-fitted-level-2: #b3dbfd;\n",
       "  --sklearn-color-fitted-level-3: cornflowerblue;\n",
       "\n",
       "  /* Specific color for light theme */\n",
       "  --sklearn-color-text-on-default-background: var(--sg-text-color, var(--theme-code-foreground, var(--jp-content-font-color1, black)));\n",
       "  --sklearn-color-background: var(--sg-background-color, var(--theme-background, var(--jp-layout-color0, white)));\n",
       "  --sklearn-color-border-box: var(--sg-text-color, var(--theme-code-foreground, var(--jp-content-font-color1, black)));\n",
       "  --sklearn-color-icon: #696969;\n",
       "\n",
       "  @media (prefers-color-scheme: dark) {\n",
       "    /* Redefinition of color scheme for dark theme */\n",
       "    --sklearn-color-text-on-default-background: var(--sg-text-color, var(--theme-code-foreground, var(--jp-content-font-color1, white)));\n",
       "    --sklearn-color-background: var(--sg-background-color, var(--theme-background, var(--jp-layout-color0, #111)));\n",
       "    --sklearn-color-border-box: var(--sg-text-color, var(--theme-code-foreground, var(--jp-content-font-color1, white)));\n",
       "    --sklearn-color-icon: #878787;\n",
       "  }\n",
       "}\n",
       "\n",
       "#sk-container-id-2 {\n",
       "  color: var(--sklearn-color-text);\n",
       "}\n",
       "\n",
       "#sk-container-id-2 pre {\n",
       "  padding: 0;\n",
       "}\n",
       "\n",
       "#sk-container-id-2 input.sk-hidden--visually {\n",
       "  border: 0;\n",
       "  clip: rect(1px 1px 1px 1px);\n",
       "  clip: rect(1px, 1px, 1px, 1px);\n",
       "  height: 1px;\n",
       "  margin: -1px;\n",
       "  overflow: hidden;\n",
       "  padding: 0;\n",
       "  position: absolute;\n",
       "  width: 1px;\n",
       "}\n",
       "\n",
       "#sk-container-id-2 div.sk-dashed-wrapped {\n",
       "  border: 1px dashed var(--sklearn-color-line);\n",
       "  margin: 0 0.4em 0.5em 0.4em;\n",
       "  box-sizing: border-box;\n",
       "  padding-bottom: 0.4em;\n",
       "  background-color: var(--sklearn-color-background);\n",
       "}\n",
       "\n",
       "#sk-container-id-2 div.sk-container {\n",
       "  /* jupyter's `normalize.less` sets `[hidden] { display: none; }`\n",
       "     but bootstrap.min.css set `[hidden] { display: none !important; }`\n",
       "     so we also need the `!important` here to be able to override the\n",
       "     default hidden behavior on the sphinx rendered scikit-learn.org.\n",
       "     See: https://github.com/scikit-learn/scikit-learn/issues/21755 */\n",
       "  display: inline-block !important;\n",
       "  position: relative;\n",
       "}\n",
       "\n",
       "#sk-container-id-2 div.sk-text-repr-fallback {\n",
       "  display: none;\n",
       "}\n",
       "\n",
       "div.sk-parallel-item,\n",
       "div.sk-serial,\n",
       "div.sk-item {\n",
       "  /* draw centered vertical line to link estimators */\n",
       "  background-image: linear-gradient(var(--sklearn-color-text-on-default-background), var(--sklearn-color-text-on-default-background));\n",
       "  background-size: 2px 100%;\n",
       "  background-repeat: no-repeat;\n",
       "  background-position: center center;\n",
       "}\n",
       "\n",
       "/* Parallel-specific style estimator block */\n",
       "\n",
       "#sk-container-id-2 div.sk-parallel-item::after {\n",
       "  content: \"\";\n",
       "  width: 100%;\n",
       "  border-bottom: 2px solid var(--sklearn-color-text-on-default-background);\n",
       "  flex-grow: 1;\n",
       "}\n",
       "\n",
       "#sk-container-id-2 div.sk-parallel {\n",
       "  display: flex;\n",
       "  align-items: stretch;\n",
       "  justify-content: center;\n",
       "  background-color: var(--sklearn-color-background);\n",
       "  position: relative;\n",
       "}\n",
       "\n",
       "#sk-container-id-2 div.sk-parallel-item {\n",
       "  display: flex;\n",
       "  flex-direction: column;\n",
       "}\n",
       "\n",
       "#sk-container-id-2 div.sk-parallel-item:first-child::after {\n",
       "  align-self: flex-end;\n",
       "  width: 50%;\n",
       "}\n",
       "\n",
       "#sk-container-id-2 div.sk-parallel-item:last-child::after {\n",
       "  align-self: flex-start;\n",
       "  width: 50%;\n",
       "}\n",
       "\n",
       "#sk-container-id-2 div.sk-parallel-item:only-child::after {\n",
       "  width: 0;\n",
       "}\n",
       "\n",
       "/* Serial-specific style estimator block */\n",
       "\n",
       "#sk-container-id-2 div.sk-serial {\n",
       "  display: flex;\n",
       "  flex-direction: column;\n",
       "  align-items: center;\n",
       "  background-color: var(--sklearn-color-background);\n",
       "  padding-right: 1em;\n",
       "  padding-left: 1em;\n",
       "}\n",
       "\n",
       "\n",
       "/* Toggleable style: style used for estimator/Pipeline/ColumnTransformer box that is\n",
       "clickable and can be expanded/collapsed.\n",
       "- Pipeline and ColumnTransformer use this feature and define the default style\n",
       "- Estimators will overwrite some part of the style using the `sk-estimator` class\n",
       "*/\n",
       "\n",
       "/* Pipeline and ColumnTransformer style (default) */\n",
       "\n",
       "#sk-container-id-2 div.sk-toggleable {\n",
       "  /* Default theme specific background. It is overwritten whether we have a\n",
       "  specific estimator or a Pipeline/ColumnTransformer */\n",
       "  background-color: var(--sklearn-color-background);\n",
       "}\n",
       "\n",
       "/* Toggleable label */\n",
       "#sk-container-id-2 label.sk-toggleable__label {\n",
       "  cursor: pointer;\n",
       "  display: block;\n",
       "  width: 100%;\n",
       "  margin-bottom: 0;\n",
       "  padding: 0.5em;\n",
       "  box-sizing: border-box;\n",
       "  text-align: center;\n",
       "}\n",
       "\n",
       "#sk-container-id-2 label.sk-toggleable__label-arrow:before {\n",
       "  /* Arrow on the left of the label */\n",
       "  content: \"▸\";\n",
       "  float: left;\n",
       "  margin-right: 0.25em;\n",
       "  color: var(--sklearn-color-icon);\n",
       "}\n",
       "\n",
       "#sk-container-id-2 label.sk-toggleable__label-arrow:hover:before {\n",
       "  color: var(--sklearn-color-text);\n",
       "}\n",
       "\n",
       "/* Toggleable content - dropdown */\n",
       "\n",
       "#sk-container-id-2 div.sk-toggleable__content {\n",
       "  max-height: 0;\n",
       "  max-width: 0;\n",
       "  overflow: hidden;\n",
       "  text-align: left;\n",
       "  /* unfitted */\n",
       "  background-color: var(--sklearn-color-unfitted-level-0);\n",
       "}\n",
       "\n",
       "#sk-container-id-2 div.sk-toggleable__content.fitted {\n",
       "  /* fitted */\n",
       "  background-color: var(--sklearn-color-fitted-level-0);\n",
       "}\n",
       "\n",
       "#sk-container-id-2 div.sk-toggleable__content pre {\n",
       "  margin: 0.2em;\n",
       "  border-radius: 0.25em;\n",
       "  color: var(--sklearn-color-text);\n",
       "  /* unfitted */\n",
       "  background-color: var(--sklearn-color-unfitted-level-0);\n",
       "}\n",
       "\n",
       "#sk-container-id-2 div.sk-toggleable__content.fitted pre {\n",
       "  /* unfitted */\n",
       "  background-color: var(--sklearn-color-fitted-level-0);\n",
       "}\n",
       "\n",
       "#sk-container-id-2 input.sk-toggleable__control:checked~div.sk-toggleable__content {\n",
       "  /* Expand drop-down */\n",
       "  max-height: 200px;\n",
       "  max-width: 100%;\n",
       "  overflow: auto;\n",
       "}\n",
       "\n",
       "#sk-container-id-2 input.sk-toggleable__control:checked~label.sk-toggleable__label-arrow:before {\n",
       "  content: \"▾\";\n",
       "}\n",
       "\n",
       "/* Pipeline/ColumnTransformer-specific style */\n",
       "\n",
       "#sk-container-id-2 div.sk-label input.sk-toggleable__control:checked~label.sk-toggleable__label {\n",
       "  color: var(--sklearn-color-text);\n",
       "  background-color: var(--sklearn-color-unfitted-level-2);\n",
       "}\n",
       "\n",
       "#sk-container-id-2 div.sk-label.fitted input.sk-toggleable__control:checked~label.sk-toggleable__label {\n",
       "  background-color: var(--sklearn-color-fitted-level-2);\n",
       "}\n",
       "\n",
       "/* Estimator-specific style */\n",
       "\n",
       "/* Colorize estimator box */\n",
       "#sk-container-id-2 div.sk-estimator input.sk-toggleable__control:checked~label.sk-toggleable__label {\n",
       "  /* unfitted */\n",
       "  background-color: var(--sklearn-color-unfitted-level-2);\n",
       "}\n",
       "\n",
       "#sk-container-id-2 div.sk-estimator.fitted input.sk-toggleable__control:checked~label.sk-toggleable__label {\n",
       "  /* fitted */\n",
       "  background-color: var(--sklearn-color-fitted-level-2);\n",
       "}\n",
       "\n",
       "#sk-container-id-2 div.sk-label label.sk-toggleable__label,\n",
       "#sk-container-id-2 div.sk-label label {\n",
       "  /* The background is the default theme color */\n",
       "  color: var(--sklearn-color-text-on-default-background);\n",
       "}\n",
       "\n",
       "/* On hover, darken the color of the background */\n",
       "#sk-container-id-2 div.sk-label:hover label.sk-toggleable__label {\n",
       "  color: var(--sklearn-color-text);\n",
       "  background-color: var(--sklearn-color-unfitted-level-2);\n",
       "}\n",
       "\n",
       "/* Label box, darken color on hover, fitted */\n",
       "#sk-container-id-2 div.sk-label.fitted:hover label.sk-toggleable__label.fitted {\n",
       "  color: var(--sklearn-color-text);\n",
       "  background-color: var(--sklearn-color-fitted-level-2);\n",
       "}\n",
       "\n",
       "/* Estimator label */\n",
       "\n",
       "#sk-container-id-2 div.sk-label label {\n",
       "  font-family: monospace;\n",
       "  font-weight: bold;\n",
       "  display: inline-block;\n",
       "  line-height: 1.2em;\n",
       "}\n",
       "\n",
       "#sk-container-id-2 div.sk-label-container {\n",
       "  text-align: center;\n",
       "}\n",
       "\n",
       "/* Estimator-specific */\n",
       "#sk-container-id-2 div.sk-estimator {\n",
       "  font-family: monospace;\n",
       "  border: 1px dotted var(--sklearn-color-border-box);\n",
       "  border-radius: 0.25em;\n",
       "  box-sizing: border-box;\n",
       "  margin-bottom: 0.5em;\n",
       "  /* unfitted */\n",
       "  background-color: var(--sklearn-color-unfitted-level-0);\n",
       "}\n",
       "\n",
       "#sk-container-id-2 div.sk-estimator.fitted {\n",
       "  /* fitted */\n",
       "  background-color: var(--sklearn-color-fitted-level-0);\n",
       "}\n",
       "\n",
       "/* on hover */\n",
       "#sk-container-id-2 div.sk-estimator:hover {\n",
       "  /* unfitted */\n",
       "  background-color: var(--sklearn-color-unfitted-level-2);\n",
       "}\n",
       "\n",
       "#sk-container-id-2 div.sk-estimator.fitted:hover {\n",
       "  /* fitted */\n",
       "  background-color: var(--sklearn-color-fitted-level-2);\n",
       "}\n",
       "\n",
       "/* Specification for estimator info (e.g. \"i\" and \"?\") */\n",
       "\n",
       "/* Common style for \"i\" and \"?\" */\n",
       "\n",
       ".sk-estimator-doc-link,\n",
       "a:link.sk-estimator-doc-link,\n",
       "a:visited.sk-estimator-doc-link {\n",
       "  float: right;\n",
       "  font-size: smaller;\n",
       "  line-height: 1em;\n",
       "  font-family: monospace;\n",
       "  background-color: var(--sklearn-color-background);\n",
       "  border-radius: 1em;\n",
       "  height: 1em;\n",
       "  width: 1em;\n",
       "  text-decoration: none !important;\n",
       "  margin-left: 1ex;\n",
       "  /* unfitted */\n",
       "  border: var(--sklearn-color-unfitted-level-1) 1pt solid;\n",
       "  color: var(--sklearn-color-unfitted-level-1);\n",
       "}\n",
       "\n",
       ".sk-estimator-doc-link.fitted,\n",
       "a:link.sk-estimator-doc-link.fitted,\n",
       "a:visited.sk-estimator-doc-link.fitted {\n",
       "  /* fitted */\n",
       "  border: var(--sklearn-color-fitted-level-1) 1pt solid;\n",
       "  color: var(--sklearn-color-fitted-level-1);\n",
       "}\n",
       "\n",
       "/* On hover */\n",
       "div.sk-estimator:hover .sk-estimator-doc-link:hover,\n",
       ".sk-estimator-doc-link:hover,\n",
       "div.sk-label-container:hover .sk-estimator-doc-link:hover,\n",
       ".sk-estimator-doc-link:hover {\n",
       "  /* unfitted */\n",
       "  background-color: var(--sklearn-color-unfitted-level-3);\n",
       "  color: var(--sklearn-color-background);\n",
       "  text-decoration: none;\n",
       "}\n",
       "\n",
       "div.sk-estimator.fitted:hover .sk-estimator-doc-link.fitted:hover,\n",
       ".sk-estimator-doc-link.fitted:hover,\n",
       "div.sk-label-container:hover .sk-estimator-doc-link.fitted:hover,\n",
       ".sk-estimator-doc-link.fitted:hover {\n",
       "  /* fitted */\n",
       "  background-color: var(--sklearn-color-fitted-level-3);\n",
       "  color: var(--sklearn-color-background);\n",
       "  text-decoration: none;\n",
       "}\n",
       "\n",
       "/* Span, style for the box shown on hovering the info icon */\n",
       ".sk-estimator-doc-link span {\n",
       "  display: none;\n",
       "  z-index: 9999;\n",
       "  position: relative;\n",
       "  font-weight: normal;\n",
       "  right: .2ex;\n",
       "  padding: .5ex;\n",
       "  margin: .5ex;\n",
       "  width: min-content;\n",
       "  min-width: 20ex;\n",
       "  max-width: 50ex;\n",
       "  color: var(--sklearn-color-text);\n",
       "  box-shadow: 2pt 2pt 4pt #999;\n",
       "  /* unfitted */\n",
       "  background: var(--sklearn-color-unfitted-level-0);\n",
       "  border: .5pt solid var(--sklearn-color-unfitted-level-3);\n",
       "}\n",
       "\n",
       ".sk-estimator-doc-link.fitted span {\n",
       "  /* fitted */\n",
       "  background: var(--sklearn-color-fitted-level-0);\n",
       "  border: var(--sklearn-color-fitted-level-3);\n",
       "}\n",
       "\n",
       ".sk-estimator-doc-link:hover span {\n",
       "  display: block;\n",
       "}\n",
       "\n",
       "/* \"?\"-specific style due to the `<a>` HTML tag */\n",
       "\n",
       "#sk-container-id-2 a.estimator_doc_link {\n",
       "  float: right;\n",
       "  font-size: 1rem;\n",
       "  line-height: 1em;\n",
       "  font-family: monospace;\n",
       "  background-color: var(--sklearn-color-background);\n",
       "  border-radius: 1rem;\n",
       "  height: 1rem;\n",
       "  width: 1rem;\n",
       "  text-decoration: none;\n",
       "  /* unfitted */\n",
       "  color: var(--sklearn-color-unfitted-level-1);\n",
       "  border: var(--sklearn-color-unfitted-level-1) 1pt solid;\n",
       "}\n",
       "\n",
       "#sk-container-id-2 a.estimator_doc_link.fitted {\n",
       "  /* fitted */\n",
       "  border: var(--sklearn-color-fitted-level-1) 1pt solid;\n",
       "  color: var(--sklearn-color-fitted-level-1);\n",
       "}\n",
       "\n",
       "/* On hover */\n",
       "#sk-container-id-2 a.estimator_doc_link:hover {\n",
       "  /* unfitted */\n",
       "  background-color: var(--sklearn-color-unfitted-level-3);\n",
       "  color: var(--sklearn-color-background);\n",
       "  text-decoration: none;\n",
       "}\n",
       "\n",
       "#sk-container-id-2 a.estimator_doc_link.fitted:hover {\n",
       "  /* fitted */\n",
       "  background-color: var(--sklearn-color-fitted-level-3);\n",
       "}\n",
       "</style><div id=\"sk-container-id-2\" class=\"sk-top-container\"><div class=\"sk-text-repr-fallback\"><pre>RandomForestRegressor(n_estimators=300, random_state=42)</pre><b>In a Jupyter environment, please rerun this cell to show the HTML representation or trust the notebook. <br />On GitHub, the HTML representation is unable to render, please try loading this page with nbviewer.org.</b></div><div class=\"sk-container\" hidden><div class=\"sk-item\"><div class=\"sk-estimator fitted sk-toggleable\"><input class=\"sk-toggleable__control sk-hidden--visually\" id=\"sk-estimator-id-2\" type=\"checkbox\" checked><label for=\"sk-estimator-id-2\" class=\"sk-toggleable__label fitted sk-toggleable__label-arrow fitted\">&nbsp;&nbsp;RandomForestRegressor<a class=\"sk-estimator-doc-link fitted\" rel=\"noreferrer\" target=\"_blank\" href=\"https://scikit-learn.org/1.5/modules/generated/sklearn.ensemble.RandomForestRegressor.html\">?<span>Documentation for RandomForestRegressor</span></a><span class=\"sk-estimator-doc-link fitted\">i<span>Fitted</span></span></label><div class=\"sk-toggleable__content fitted\"><pre>RandomForestRegressor(n_estimators=300, random_state=42)</pre></div> </div></div></div></div>"
      ],
      "text/plain": [
       "RandomForestRegressor(n_estimators=300, random_state=42)"
      ]
     },
     "execution_count": 79,
     "metadata": {},
     "output_type": "execute_result"
    }
   ],
   "source": [
    "rf.fit(X_train, y_train)"
   ]
  },
  {
   "cell_type": "code",
   "execution_count": 80,
   "metadata": {},
   "outputs": [],
   "source": [
    "y_pred = rf.predict(X_test)"
   ]
  },
  {
   "cell_type": "code",
   "execution_count": 81,
   "metadata": {},
   "outputs": [
    {
     "data": {
      "text/plain": [
       "792984682.0746479"
      ]
     },
     "execution_count": 81,
     "metadata": {},
     "output_type": "execute_result"
    }
   ],
   "source": [
    "MSE(y_true=y_test, y_pred=y_pred)"
   ]
  },
  {
   "cell_type": "code",
   "execution_count": 83,
   "metadata": {},
   "outputs": [
    {
     "data": {
      "text/plain": [
       "28159.9837016048"
      ]
     },
     "execution_count": 83,
     "metadata": {},
     "output_type": "execute_result"
    }
   ],
   "source": [
    "root_mean_squared_error(y_true=y_test, y_pred=y_pred)"
   ]
  },
  {
   "cell_type": "markdown",
   "metadata": {},
   "source": [
    "### Linear Regression"
   ]
  },
  {
   "cell_type": "code",
   "execution_count": 84,
   "metadata": {},
   "outputs": [
    {
     "name": "stdout",
     "output_type": "stream",
     "text": [
      "MSE: 774429251.7619334\n",
      "RMSE: 27828.568985162234\n"
     ]
    }
   ],
   "source": [
    "lr = LinearRegression()\n",
    "lr.fit(X_train, y_train)\n",
    "y_pred = lr.predict(X_test)\n",
    "print(\"MSE: {}\".format(MSE(y_pred=y_pred, y_true=y_test)))\n",
    "print(\"RMSE: {}\".format(root_mean_squared_error(y_pred=y_pred, y_true=y_test)))"
   ]
  },
  {
   "cell_type": "markdown",
   "metadata": {},
   "source": [
    "### Ridge"
   ]
  },
  {
   "cell_type": "code",
   "execution_count": 85,
   "metadata": {},
   "outputs": [
    {
     "name": "stdout",
     "output_type": "stream",
     "text": [
      "MSE: 774042921.0480074\n",
      "RMSE: 27821.626858399337\n"
     ]
    }
   ],
   "source": [
    "ridge = Ridge()\n",
    "ridge.fit(X_train, y_train)\n",
    "y_pred = ridge.predict(X_test)\n",
    "print(\"MSE: {}\".format(MSE(y_pred=y_pred, y_true=y_test)))\n",
    "print(\"RMSE: {}\".format(root_mean_squared_error(y_pred=y_pred, y_true=y_test)))"
   ]
  },
  {
   "cell_type": "markdown",
   "metadata": {},
   "source": [
    "### Lasso"
   ]
  },
  {
   "cell_type": "code",
   "execution_count": 86,
   "metadata": {},
   "outputs": [
    {
     "name": "stdout",
     "output_type": "stream",
     "text": [
      "MSE: 774318851.7711765\n",
      "RMSE: 27826.58534156098\n"
     ]
    }
   ],
   "source": [
    "lasso = Lasso()\n",
    "lasso.fit(X_train, y_train)\n",
    "y_pred = lasso.predict(X_test)\n",
    "print(\"MSE: {}\".format(MSE(y_pred=y_pred, y_true=y_test)))\n",
    "print(\"RMSE: {}\".format(root_mean_squared_error(y_pred=y_pred, y_true=y_test)))"
   ]
  },
  {
   "cell_type": "markdown",
   "metadata": {},
   "source": [
    "### All the models"
   ]
  },
  {
   "cell_type": "code",
   "execution_count": 88,
   "metadata": {},
   "outputs": [],
   "source": [
    "model_list = [\"Random Forest\", \"Linear Regression\", \"Ridge\", \"Lasso\"]\n",
    "models = {\"Random Forest\":RandomForestRegressor(),\n",
    "          \"Linear Regression\":LinearRegression(),\n",
    "          \"Ridge\": Ridge(),\n",
    "          \"Lasso\":Lasso()}"
   ]
  },
  {
   "cell_type": "code",
   "execution_count": 90,
   "metadata": {},
   "outputs": [
    {
     "name": "stdout",
     "output_type": "stream",
     "text": [
      "MSE of RandomForestRegressor(): 792089030.114461\n",
      "RMSE of RandomForestRegressor(): 28144.076288172277\n",
      "r2 score: -0.046060958421004994\n",
      "MSE of LinearRegression(): 774429251.7619334\n",
      "RMSE of LinearRegression(): 27828.568985162234\n",
      "r2 score: -0.022738826733007755\n",
      "MSE of Ridge(): 774042921.0480074\n",
      "RMSE of Ridge(): 27821.626858399337\n",
      "r2 score: -0.022228624645221462\n",
      "MSE of Lasso(): 774318851.7711765\n",
      "RMSE of Lasso(): 27826.58534156098\n",
      "r2 score: -0.022593028576802787\n"
     ]
    }
   ],
   "source": [
    "for i in model_list:\n",
    "    model = models[i]\n",
    "    model.fit(X_train, y_train)\n",
    "    y_pred = model.predict(X_test)\n",
    "    print(\"MSE of {}: {}\".format(model, MSE(y_pred=y_pred, y_true=y_test)))\n",
    "    print(\"RMSE of {}: {}\".format(model, root_mean_squared_error(y_pred=y_pred, y_true=y_test)))\n",
    "    print(\"r2 score: {}\".format(r2_score(y_pred=y_pred, y_true=y_test)))"
   ]
  },
  {
   "cell_type": "code",
   "execution_count": 92,
   "metadata": {},
   "outputs": [],
   "source": [
    "estimators = [(\"Random Forest\",RandomForestRegressor()),\n",
    "              (\"Linear Regression\",LinearRegression()),\n",
    "              (\"Ridge\", Ridge()),\n",
    "              (\"Lasso\",Lasso())]"
   ]
  },
  {
   "cell_type": "code",
   "execution_count": 94,
   "metadata": {},
   "outputs": [
    {
     "name": "stdout",
     "output_type": "stream",
     "text": [
      "MSE of StackingRegressor: 760020748.4334751\n",
      "RMSE of StackingRegressor: 27568.473814004923\n",
      "r2 score of StackingRegressor: -0.003710444533343571\n"
     ]
    }
   ],
   "source": [
    "reg = StackingRegressor(estimators=estimators, final_estimator=AdaBoostRegressor())\n",
    "\n",
    "reg.fit(X_train, y_train)\n",
    "y_pred = reg.predict(X_test)\n",
    "print(\"MSE of StackingRegressor: {}\".format(MSE(y_pred=y_pred, y_true=y_test)))\n",
    "print(\"RMSE of StackingRegressor: {}\".format(root_mean_squared_error(y_pred=y_pred, y_true=y_test)))\n",
    "print(\"r2 score of StackingRegressor: {}\".format(r2_score(y_pred=y_pred, y_true=y_test)))"
   ]
  },
  {
   "cell_type": "code",
   "execution_count": 40,
   "metadata": {},
   "outputs": [],
   "source": [
    "mu, sigma = 0, 0.1\n",
    "\n",
    "x = np.random.normal(mu, sigma, 100)\n",
    "y = np.random.normal(mu, sigma, 100)\n",
    "\n",
    "new = r2_score(x,y)"
   ]
  },
  {
   "cell_type": "code",
   "execution_count": 41,
   "metadata": {},
   "outputs": [
    {
     "data": {
      "text/plain": [
       "-0.8972647251132182"
      ]
     },
     "execution_count": 41,
     "metadata": {},
     "output_type": "execute_result"
    }
   ],
   "source": [
    "new"
   ]
  }
 ],
 "metadata": {
  "kernelspec": {
   "display_name": "uk_stats",
   "language": "python",
   "name": "python3"
  },
  "language_info": {
   "codemirror_mode": {
    "name": "ipython",
    "version": 3
   },
   "file_extension": ".py",
   "mimetype": "text/x-python",
   "name": "python",
   "nbconvert_exporter": "python",
   "pygments_lexer": "ipython3",
   "version": "3.12.4"
  }
 },
 "nbformat": 4,
 "nbformat_minor": 2
}
